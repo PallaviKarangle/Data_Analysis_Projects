{
 "cells": [
  {
   "cell_type": "code",
   "execution_count": 39,
   "id": "c2062dfd-f930-4375-962f-970894063cfc",
   "metadata": {},
   "outputs": [],
   "source": [
    "import numpy as np\n",
    "import pandas as pd\n",
    "import plotly.express as px\n",
    "import plotly.graph_objects as go\n"
   ]
  },
  {
   "cell_type": "code",
   "execution_count": 40,
   "id": "61672a64-c859-4850-a91a-809421272119",
   "metadata": {},
   "outputs": [
    {
     "data": {
      "text/html": [
       "<div>\n",
       "<style scoped>\n",
       "    .dataframe tbody tr th:only-of-type {\n",
       "        vertical-align: middle;\n",
       "    }\n",
       "\n",
       "    .dataframe tbody tr th {\n",
       "        vertical-align: top;\n",
       "    }\n",
       "\n",
       "    .dataframe thead th {\n",
       "        text-align: right;\n",
       "    }\n",
       "</style>\n",
       "<table border=\"1\" class=\"dataframe\">\n",
       "  <thead>\n",
       "    <tr style=\"text-align: right;\">\n",
       "      <th></th>\n",
       "      <th>id</th>\n",
       "      <th>season</th>\n",
       "      <th>city</th>\n",
       "      <th>date</th>\n",
       "      <th>team1</th>\n",
       "      <th>team2</th>\n",
       "      <th>toss_winner</th>\n",
       "      <th>toss_decision</th>\n",
       "      <th>result</th>\n",
       "      <th>dl_applied</th>\n",
       "      <th>winner</th>\n",
       "      <th>win_by_runs</th>\n",
       "      <th>win_by_wickets</th>\n",
       "      <th>player_of_match</th>\n",
       "      <th>venue</th>\n",
       "      <th>umpire1</th>\n",
       "      <th>umpire2</th>\n",
       "      <th>umpire3</th>\n",
       "    </tr>\n",
       "  </thead>\n",
       "  <tbody>\n",
       "    <tr>\n",
       "      <th>0</th>\n",
       "      <td>1</td>\n",
       "      <td>2008</td>\n",
       "      <td>Bangalore</td>\n",
       "      <td>2008-04-18</td>\n",
       "      <td>Kolkata Knight Riders</td>\n",
       "      <td>Royal Challengers Bangalore</td>\n",
       "      <td>Royal Challengers Bangalore</td>\n",
       "      <td>field</td>\n",
       "      <td>normal</td>\n",
       "      <td>0</td>\n",
       "      <td>Kolkata Knight Riders</td>\n",
       "      <td>140</td>\n",
       "      <td>0</td>\n",
       "      <td>BB McCullum</td>\n",
       "      <td>M Chinnaswamy Stadium</td>\n",
       "      <td>Asad Rauf</td>\n",
       "      <td>RE Koertzen</td>\n",
       "      <td>NaN</td>\n",
       "    </tr>\n",
       "    <tr>\n",
       "      <th>1</th>\n",
       "      <td>2</td>\n",
       "      <td>2008</td>\n",
       "      <td>Chandigarh</td>\n",
       "      <td>2008-04-19</td>\n",
       "      <td>Chennai Super Kings</td>\n",
       "      <td>Kings XI Punjab</td>\n",
       "      <td>Chennai Super Kings</td>\n",
       "      <td>bat</td>\n",
       "      <td>normal</td>\n",
       "      <td>0</td>\n",
       "      <td>Chennai Super Kings</td>\n",
       "      <td>33</td>\n",
       "      <td>0</td>\n",
       "      <td>MEK Hussey</td>\n",
       "      <td>Punjab Cricket Association Stadium, Mohali</td>\n",
       "      <td>MR Benson</td>\n",
       "      <td>SL Shastri</td>\n",
       "      <td>NaN</td>\n",
       "    </tr>\n",
       "    <tr>\n",
       "      <th>2</th>\n",
       "      <td>3</td>\n",
       "      <td>2008</td>\n",
       "      <td>Delhi</td>\n",
       "      <td>2008-04-19</td>\n",
       "      <td>Rajasthan Royals</td>\n",
       "      <td>Delhi Daredevils</td>\n",
       "      <td>Rajasthan Royals</td>\n",
       "      <td>bat</td>\n",
       "      <td>normal</td>\n",
       "      <td>0</td>\n",
       "      <td>Delhi Daredevils</td>\n",
       "      <td>0</td>\n",
       "      <td>9</td>\n",
       "      <td>MF Maharoof</td>\n",
       "      <td>Feroz Shah Kotla</td>\n",
       "      <td>Aleem Dar</td>\n",
       "      <td>GA Pratapkumar</td>\n",
       "      <td>NaN</td>\n",
       "    </tr>\n",
       "    <tr>\n",
       "      <th>3</th>\n",
       "      <td>4</td>\n",
       "      <td>2008</td>\n",
       "      <td>Mumbai</td>\n",
       "      <td>2008-04-20</td>\n",
       "      <td>Mumbai Indians</td>\n",
       "      <td>Royal Challengers Bangalore</td>\n",
       "      <td>Mumbai Indians</td>\n",
       "      <td>bat</td>\n",
       "      <td>normal</td>\n",
       "      <td>0</td>\n",
       "      <td>Royal Challengers Bangalore</td>\n",
       "      <td>0</td>\n",
       "      <td>5</td>\n",
       "      <td>MV Boucher</td>\n",
       "      <td>Wankhede Stadium</td>\n",
       "      <td>SJ Davis</td>\n",
       "      <td>DJ Harper</td>\n",
       "      <td>NaN</td>\n",
       "    </tr>\n",
       "    <tr>\n",
       "      <th>4</th>\n",
       "      <td>5</td>\n",
       "      <td>2008</td>\n",
       "      <td>Kolkata</td>\n",
       "      <td>2008-04-20</td>\n",
       "      <td>Deccan Chargers</td>\n",
       "      <td>Kolkata Knight Riders</td>\n",
       "      <td>Deccan Chargers</td>\n",
       "      <td>bat</td>\n",
       "      <td>normal</td>\n",
       "      <td>0</td>\n",
       "      <td>Kolkata Knight Riders</td>\n",
       "      <td>0</td>\n",
       "      <td>5</td>\n",
       "      <td>DJ Hussey</td>\n",
       "      <td>Eden Gardens</td>\n",
       "      <td>BF Bowden</td>\n",
       "      <td>K Hariharan</td>\n",
       "      <td>NaN</td>\n",
       "    </tr>\n",
       "    <tr>\n",
       "      <th>...</th>\n",
       "      <td>...</td>\n",
       "      <td>...</td>\n",
       "      <td>...</td>\n",
       "      <td>...</td>\n",
       "      <td>...</td>\n",
       "      <td>...</td>\n",
       "      <td>...</td>\n",
       "      <td>...</td>\n",
       "      <td>...</td>\n",
       "      <td>...</td>\n",
       "      <td>...</td>\n",
       "      <td>...</td>\n",
       "      <td>...</td>\n",
       "      <td>...</td>\n",
       "      <td>...</td>\n",
       "      <td>...</td>\n",
       "      <td>...</td>\n",
       "      <td>...</td>\n",
       "    </tr>\n",
       "    <tr>\n",
       "      <th>572</th>\n",
       "      <td>573</td>\n",
       "      <td>2016</td>\n",
       "      <td>Raipur</td>\n",
       "      <td>2016-05-22</td>\n",
       "      <td>Delhi Daredevils</td>\n",
       "      <td>Royal Challengers Bangalore</td>\n",
       "      <td>Royal Challengers Bangalore</td>\n",
       "      <td>field</td>\n",
       "      <td>normal</td>\n",
       "      <td>0</td>\n",
       "      <td>Royal Challengers Bangalore</td>\n",
       "      <td>0</td>\n",
       "      <td>6</td>\n",
       "      <td>V Kohli</td>\n",
       "      <td>Shaheed Veer Narayan Singh International Stadium</td>\n",
       "      <td>A Nand Kishore</td>\n",
       "      <td>BNJ Oxenford</td>\n",
       "      <td>NaN</td>\n",
       "    </tr>\n",
       "    <tr>\n",
       "      <th>573</th>\n",
       "      <td>574</td>\n",
       "      <td>2016</td>\n",
       "      <td>Bangalore</td>\n",
       "      <td>2016-05-24</td>\n",
       "      <td>Gujarat Lions</td>\n",
       "      <td>Royal Challengers Bangalore</td>\n",
       "      <td>Royal Challengers Bangalore</td>\n",
       "      <td>field</td>\n",
       "      <td>normal</td>\n",
       "      <td>0</td>\n",
       "      <td>Royal Challengers Bangalore</td>\n",
       "      <td>0</td>\n",
       "      <td>4</td>\n",
       "      <td>AB de Villiers</td>\n",
       "      <td>M Chinnaswamy Stadium</td>\n",
       "      <td>AK Chaudhary</td>\n",
       "      <td>HDPK Dharmasena</td>\n",
       "      <td>NaN</td>\n",
       "    </tr>\n",
       "    <tr>\n",
       "      <th>574</th>\n",
       "      <td>575</td>\n",
       "      <td>2016</td>\n",
       "      <td>Delhi</td>\n",
       "      <td>2016-05-25</td>\n",
       "      <td>Sunrisers Hyderabad</td>\n",
       "      <td>Kolkata Knight Riders</td>\n",
       "      <td>Kolkata Knight Riders</td>\n",
       "      <td>field</td>\n",
       "      <td>normal</td>\n",
       "      <td>0</td>\n",
       "      <td>Sunrisers Hyderabad</td>\n",
       "      <td>22</td>\n",
       "      <td>0</td>\n",
       "      <td>MC Henriques</td>\n",
       "      <td>Feroz Shah Kotla</td>\n",
       "      <td>M Erasmus</td>\n",
       "      <td>C Shamshuddin</td>\n",
       "      <td>NaN</td>\n",
       "    </tr>\n",
       "    <tr>\n",
       "      <th>575</th>\n",
       "      <td>576</td>\n",
       "      <td>2016</td>\n",
       "      <td>Delhi</td>\n",
       "      <td>2016-05-27</td>\n",
       "      <td>Gujarat Lions</td>\n",
       "      <td>Sunrisers Hyderabad</td>\n",
       "      <td>Sunrisers Hyderabad</td>\n",
       "      <td>field</td>\n",
       "      <td>normal</td>\n",
       "      <td>0</td>\n",
       "      <td>Sunrisers Hyderabad</td>\n",
       "      <td>0</td>\n",
       "      <td>4</td>\n",
       "      <td>DA Warner</td>\n",
       "      <td>Feroz Shah Kotla</td>\n",
       "      <td>M Erasmus</td>\n",
       "      <td>CK Nandan</td>\n",
       "      <td>NaN</td>\n",
       "    </tr>\n",
       "    <tr>\n",
       "      <th>576</th>\n",
       "      <td>577</td>\n",
       "      <td>2016</td>\n",
       "      <td>Bangalore</td>\n",
       "      <td>2016-05-29</td>\n",
       "      <td>Sunrisers Hyderabad</td>\n",
       "      <td>Royal Challengers Bangalore</td>\n",
       "      <td>Sunrisers Hyderabad</td>\n",
       "      <td>bat</td>\n",
       "      <td>normal</td>\n",
       "      <td>0</td>\n",
       "      <td>Sunrisers Hyderabad</td>\n",
       "      <td>8</td>\n",
       "      <td>0</td>\n",
       "      <td>BCJ Cutting</td>\n",
       "      <td>M Chinnaswamy Stadium</td>\n",
       "      <td>HDPK Dharmasena</td>\n",
       "      <td>BNJ Oxenford</td>\n",
       "      <td>NaN</td>\n",
       "    </tr>\n",
       "  </tbody>\n",
       "</table>\n",
       "<p>577 rows × 18 columns</p>\n",
       "</div>"
      ],
      "text/plain": [
       "      id  season        city        date                  team1  \\\n",
       "0      1    2008   Bangalore  2008-04-18  Kolkata Knight Riders   \n",
       "1      2    2008  Chandigarh  2008-04-19    Chennai Super Kings   \n",
       "2      3    2008       Delhi  2008-04-19       Rajasthan Royals   \n",
       "3      4    2008      Mumbai  2008-04-20         Mumbai Indians   \n",
       "4      5    2008     Kolkata  2008-04-20        Deccan Chargers   \n",
       "..   ...     ...         ...         ...                    ...   \n",
       "572  573    2016      Raipur  2016-05-22       Delhi Daredevils   \n",
       "573  574    2016   Bangalore  2016-05-24          Gujarat Lions   \n",
       "574  575    2016       Delhi  2016-05-25    Sunrisers Hyderabad   \n",
       "575  576    2016       Delhi  2016-05-27          Gujarat Lions   \n",
       "576  577    2016   Bangalore  2016-05-29    Sunrisers Hyderabad   \n",
       "\n",
       "                           team2                  toss_winner toss_decision  \\\n",
       "0    Royal Challengers Bangalore  Royal Challengers Bangalore         field   \n",
       "1                Kings XI Punjab          Chennai Super Kings           bat   \n",
       "2               Delhi Daredevils             Rajasthan Royals           bat   \n",
       "3    Royal Challengers Bangalore               Mumbai Indians           bat   \n",
       "4          Kolkata Knight Riders              Deccan Chargers           bat   \n",
       "..                           ...                          ...           ...   \n",
       "572  Royal Challengers Bangalore  Royal Challengers Bangalore         field   \n",
       "573  Royal Challengers Bangalore  Royal Challengers Bangalore         field   \n",
       "574        Kolkata Knight Riders        Kolkata Knight Riders         field   \n",
       "575          Sunrisers Hyderabad          Sunrisers Hyderabad         field   \n",
       "576  Royal Challengers Bangalore          Sunrisers Hyderabad           bat   \n",
       "\n",
       "     result  dl_applied                       winner  win_by_runs  \\\n",
       "0    normal           0        Kolkata Knight Riders          140   \n",
       "1    normal           0          Chennai Super Kings           33   \n",
       "2    normal           0             Delhi Daredevils            0   \n",
       "3    normal           0  Royal Challengers Bangalore            0   \n",
       "4    normal           0        Kolkata Knight Riders            0   \n",
       "..      ...         ...                          ...          ...   \n",
       "572  normal           0  Royal Challengers Bangalore            0   \n",
       "573  normal           0  Royal Challengers Bangalore            0   \n",
       "574  normal           0          Sunrisers Hyderabad           22   \n",
       "575  normal           0          Sunrisers Hyderabad            0   \n",
       "576  normal           0          Sunrisers Hyderabad            8   \n",
       "\n",
       "     win_by_wickets player_of_match  \\\n",
       "0                 0     BB McCullum   \n",
       "1                 0      MEK Hussey   \n",
       "2                 9     MF Maharoof   \n",
       "3                 5      MV Boucher   \n",
       "4                 5       DJ Hussey   \n",
       "..              ...             ...   \n",
       "572               6         V Kohli   \n",
       "573               4  AB de Villiers   \n",
       "574               0    MC Henriques   \n",
       "575               4       DA Warner   \n",
       "576               0     BCJ Cutting   \n",
       "\n",
       "                                                venue          umpire1  \\\n",
       "0                               M Chinnaswamy Stadium        Asad Rauf   \n",
       "1          Punjab Cricket Association Stadium, Mohali        MR Benson   \n",
       "2                                    Feroz Shah Kotla        Aleem Dar   \n",
       "3                                    Wankhede Stadium         SJ Davis   \n",
       "4                                        Eden Gardens        BF Bowden   \n",
       "..                                                ...              ...   \n",
       "572  Shaheed Veer Narayan Singh International Stadium   A Nand Kishore   \n",
       "573                             M Chinnaswamy Stadium     AK Chaudhary   \n",
       "574                                  Feroz Shah Kotla        M Erasmus   \n",
       "575                                  Feroz Shah Kotla        M Erasmus   \n",
       "576                             M Chinnaswamy Stadium  HDPK Dharmasena   \n",
       "\n",
       "             umpire2  umpire3  \n",
       "0        RE Koertzen      NaN  \n",
       "1         SL Shastri      NaN  \n",
       "2     GA Pratapkumar      NaN  \n",
       "3          DJ Harper      NaN  \n",
       "4        K Hariharan      NaN  \n",
       "..               ...      ...  \n",
       "572     BNJ Oxenford      NaN  \n",
       "573  HDPK Dharmasena      NaN  \n",
       "574    C Shamshuddin      NaN  \n",
       "575        CK Nandan      NaN  \n",
       "576     BNJ Oxenford      NaN  \n",
       "\n",
       "[577 rows x 18 columns]"
      ]
     },
     "execution_count": 40,
     "metadata": {},
     "output_type": "execute_result"
    }
   ],
   "source": [
    "data1=pd.read_csv(\"IPL2022.csv\")\n",
    "data1"
   ]
  },
  {
   "cell_type": "markdown",
   "id": "aea51776-9125-4336-9bcd-123f69ea02a6",
   "metadata": {},
   "source": [
    " # Number of matches won by each IPL team in 2022"
   ]
  },
  {
   "cell_type": "code",
   "execution_count": 8,
   "id": "47540557-3ae4-435f-a338-f9ce0c265039",
   "metadata": {},
   "outputs": [
    {
     "data": {
      "application/vnd.plotly.v1+json": {
       "config": {
        "plotlyServerURL": "https://plot.ly"
       },
       "data": [
        {
         "alignmentgroup": "True",
         "hovertemplate": "winner=%{x}<br>count=%{y}<extra></extra>",
         "legendgroup": "Kolkata Knight Riders",
         "marker": {
          "color": "#636efa",
          "pattern": {
           "shape": ""
          }
         },
         "name": "Kolkata Knight Riders",
         "offsetgroup": "Kolkata Knight Riders",
         "orientation": "v",
         "showlegend": true,
         "textposition": "auto",
         "type": "bar",
         "x": [
          "Kolkata Knight Riders",
          "Kolkata Knight Riders",
          "Kolkata Knight Riders",
          "Kolkata Knight Riders",
          "Kolkata Knight Riders",
          "Kolkata Knight Riders",
          "Kolkata Knight Riders",
          "Kolkata Knight Riders",
          "Kolkata Knight Riders",
          "Kolkata Knight Riders",
          "Kolkata Knight Riders",
          "Kolkata Knight Riders",
          "Kolkata Knight Riders",
          "Kolkata Knight Riders",
          "Kolkata Knight Riders",
          "Kolkata Knight Riders",
          "Kolkata Knight Riders",
          "Kolkata Knight Riders",
          "Kolkata Knight Riders",
          "Kolkata Knight Riders",
          "Kolkata Knight Riders",
          "Kolkata Knight Riders",
          "Kolkata Knight Riders",
          "Kolkata Knight Riders",
          "Kolkata Knight Riders",
          "Kolkata Knight Riders",
          "Kolkata Knight Riders",
          "Kolkata Knight Riders",
          "Kolkata Knight Riders",
          "Kolkata Knight Riders",
          "Kolkata Knight Riders",
          "Kolkata Knight Riders",
          "Kolkata Knight Riders",
          "Kolkata Knight Riders",
          "Kolkata Knight Riders",
          "Kolkata Knight Riders",
          "Kolkata Knight Riders",
          "Kolkata Knight Riders",
          "Kolkata Knight Riders",
          "Kolkata Knight Riders",
          "Kolkata Knight Riders",
          "Kolkata Knight Riders",
          "Kolkata Knight Riders",
          "Kolkata Knight Riders",
          "Kolkata Knight Riders",
          "Kolkata Knight Riders",
          "Kolkata Knight Riders",
          "Kolkata Knight Riders",
          "Kolkata Knight Riders",
          "Kolkata Knight Riders",
          "Kolkata Knight Riders",
          "Kolkata Knight Riders",
          "Kolkata Knight Riders",
          "Kolkata Knight Riders",
          "Kolkata Knight Riders",
          "Kolkata Knight Riders",
          "Kolkata Knight Riders",
          "Kolkata Knight Riders",
          "Kolkata Knight Riders",
          "Kolkata Knight Riders",
          "Kolkata Knight Riders",
          "Kolkata Knight Riders",
          "Kolkata Knight Riders",
          "Kolkata Knight Riders",
          "Kolkata Knight Riders",
          "Kolkata Knight Riders",
          "Kolkata Knight Riders",
          "Kolkata Knight Riders"
         ],
         "xaxis": "x",
         "y": [
          1,
          1,
          1,
          1,
          1,
          1,
          1,
          1,
          1,
          1,
          1,
          1,
          1,
          1,
          1,
          1,
          1,
          1,
          1,
          1,
          1,
          1,
          1,
          1,
          1,
          1,
          1,
          1,
          1,
          1,
          1,
          1,
          1,
          1,
          1,
          1,
          1,
          1,
          1,
          1,
          1,
          1,
          1,
          1,
          1,
          1,
          1,
          1,
          1,
          1,
          1,
          1,
          1,
          1,
          1,
          1,
          1,
          1,
          1,
          1,
          1,
          1,
          1,
          1,
          1,
          1,
          1,
          1
         ],
         "yaxis": "y"
        },
        {
         "alignmentgroup": "True",
         "hovertemplate": "winner=%{x}<br>count=%{y}<extra></extra>",
         "legendgroup": "Chennai Super Kings",
         "marker": {
          "color": "#EF553B",
          "pattern": {
           "shape": ""
          }
         },
         "name": "Chennai Super Kings",
         "offsetgroup": "Chennai Super Kings",
         "orientation": "v",
         "showlegend": true,
         "textposition": "auto",
         "type": "bar",
         "x": [
          "Chennai Super Kings",
          "Chennai Super Kings",
          "Chennai Super Kings",
          "Chennai Super Kings",
          "Chennai Super Kings",
          "Chennai Super Kings",
          "Chennai Super Kings",
          "Chennai Super Kings",
          "Chennai Super Kings",
          "Chennai Super Kings",
          "Chennai Super Kings",
          "Chennai Super Kings",
          "Chennai Super Kings",
          "Chennai Super Kings",
          "Chennai Super Kings",
          "Chennai Super Kings",
          "Chennai Super Kings",
          "Chennai Super Kings",
          "Chennai Super Kings",
          "Chennai Super Kings",
          "Chennai Super Kings",
          "Chennai Super Kings",
          "Chennai Super Kings",
          "Chennai Super Kings",
          "Chennai Super Kings",
          "Chennai Super Kings",
          "Chennai Super Kings",
          "Chennai Super Kings",
          "Chennai Super Kings",
          "Chennai Super Kings",
          "Chennai Super Kings",
          "Chennai Super Kings",
          "Chennai Super Kings",
          "Chennai Super Kings",
          "Chennai Super Kings",
          "Chennai Super Kings",
          "Chennai Super Kings",
          "Chennai Super Kings",
          "Chennai Super Kings",
          "Chennai Super Kings",
          "Chennai Super Kings",
          "Chennai Super Kings",
          "Chennai Super Kings",
          "Chennai Super Kings",
          "Chennai Super Kings",
          "Chennai Super Kings",
          "Chennai Super Kings",
          "Chennai Super Kings",
          "Chennai Super Kings",
          "Chennai Super Kings",
          "Chennai Super Kings",
          "Chennai Super Kings",
          "Chennai Super Kings",
          "Chennai Super Kings",
          "Chennai Super Kings",
          "Chennai Super Kings",
          "Chennai Super Kings",
          "Chennai Super Kings",
          "Chennai Super Kings",
          "Chennai Super Kings",
          "Chennai Super Kings",
          "Chennai Super Kings",
          "Chennai Super Kings",
          "Chennai Super Kings",
          "Chennai Super Kings",
          "Chennai Super Kings",
          "Chennai Super Kings",
          "Chennai Super Kings",
          "Chennai Super Kings",
          "Chennai Super Kings",
          "Chennai Super Kings",
          "Chennai Super Kings",
          "Chennai Super Kings",
          "Chennai Super Kings",
          "Chennai Super Kings",
          "Chennai Super Kings",
          "Chennai Super Kings",
          "Chennai Super Kings",
          "Chennai Super Kings"
         ],
         "xaxis": "x",
         "y": [
          1,
          1,
          1,
          1,
          1,
          1,
          1,
          1,
          1,
          1,
          1,
          1,
          1,
          1,
          1,
          1,
          1,
          1,
          1,
          1,
          1,
          1,
          1,
          1,
          1,
          1,
          1,
          1,
          1,
          1,
          1,
          1,
          1,
          1,
          1,
          1,
          1,
          1,
          1,
          1,
          1,
          1,
          1,
          1,
          1,
          1,
          1,
          1,
          1,
          1,
          1,
          1,
          1,
          1,
          1,
          1,
          1,
          1,
          1,
          1,
          1,
          1,
          1,
          1,
          1,
          1,
          1,
          1,
          1,
          1,
          1,
          1,
          1,
          1,
          1,
          1,
          1,
          1,
          1
         ],
         "yaxis": "y"
        },
        {
         "alignmentgroup": "True",
         "hovertemplate": "winner=%{x}<br>count=%{y}<extra></extra>",
         "legendgroup": "Delhi Daredevils",
         "marker": {
          "color": "#00cc96",
          "pattern": {
           "shape": ""
          }
         },
         "name": "Delhi Daredevils",
         "offsetgroup": "Delhi Daredevils",
         "orientation": "v",
         "showlegend": true,
         "textposition": "auto",
         "type": "bar",
         "x": [
          "Delhi Daredevils",
          "Delhi Daredevils",
          "Delhi Daredevils",
          "Delhi Daredevils",
          "Delhi Daredevils",
          "Delhi Daredevils",
          "Delhi Daredevils",
          "Delhi Daredevils",
          "Delhi Daredevils",
          "Delhi Daredevils",
          "Delhi Daredevils",
          "Delhi Daredevils",
          "Delhi Daredevils",
          "Delhi Daredevils",
          "Delhi Daredevils",
          "Delhi Daredevils",
          "Delhi Daredevils",
          "Delhi Daredevils",
          "Delhi Daredevils",
          "Delhi Daredevils",
          "Delhi Daredevils",
          "Delhi Daredevils",
          "Delhi Daredevils",
          "Delhi Daredevils",
          "Delhi Daredevils",
          "Delhi Daredevils",
          "Delhi Daredevils",
          "Delhi Daredevils",
          "Delhi Daredevils",
          "Delhi Daredevils",
          "Delhi Daredevils",
          "Delhi Daredevils",
          "Delhi Daredevils",
          "Delhi Daredevils",
          "Delhi Daredevils",
          "Delhi Daredevils",
          "Delhi Daredevils",
          "Delhi Daredevils",
          "Delhi Daredevils",
          "Delhi Daredevils",
          "Delhi Daredevils",
          "Delhi Daredevils",
          "Delhi Daredevils",
          "Delhi Daredevils",
          "Delhi Daredevils",
          "Delhi Daredevils",
          "Delhi Daredevils",
          "Delhi Daredevils",
          "Delhi Daredevils",
          "Delhi Daredevils",
          "Delhi Daredevils",
          "Delhi Daredevils",
          "Delhi Daredevils",
          "Delhi Daredevils",
          "Delhi Daredevils",
          "Delhi Daredevils"
         ],
         "xaxis": "x",
         "y": [
          1,
          1,
          1,
          1,
          1,
          1,
          1,
          1,
          1,
          1,
          1,
          1,
          1,
          1,
          1,
          1,
          1,
          1,
          1,
          1,
          1,
          1,
          1,
          1,
          1,
          1,
          1,
          1,
          1,
          1,
          1,
          1,
          1,
          1,
          1,
          1,
          1,
          1,
          1,
          1,
          1,
          1,
          1,
          1,
          1,
          1,
          1,
          1,
          1,
          1,
          1,
          1,
          1,
          1,
          1,
          1
         ],
         "yaxis": "y"
        },
        {
         "alignmentgroup": "True",
         "hovertemplate": "winner=%{x}<br>count=%{y}<extra></extra>",
         "legendgroup": "Royal Challengers Bangalore",
         "marker": {
          "color": "#ab63fa",
          "pattern": {
           "shape": ""
          }
         },
         "name": "Royal Challengers Bangalore",
         "offsetgroup": "Royal Challengers Bangalore",
         "orientation": "v",
         "showlegend": true,
         "textposition": "auto",
         "type": "bar",
         "x": [
          "Royal Challengers Bangalore",
          "Royal Challengers Bangalore",
          "Royal Challengers Bangalore",
          "Royal Challengers Bangalore",
          "Royal Challengers Bangalore",
          "Royal Challengers Bangalore",
          "Royal Challengers Bangalore",
          "Royal Challengers Bangalore",
          "Royal Challengers Bangalore",
          "Royal Challengers Bangalore",
          "Royal Challengers Bangalore",
          "Royal Challengers Bangalore",
          "Royal Challengers Bangalore",
          "Royal Challengers Bangalore",
          "Royal Challengers Bangalore",
          "Royal Challengers Bangalore",
          "Royal Challengers Bangalore",
          "Royal Challengers Bangalore",
          "Royal Challengers Bangalore",
          "Royal Challengers Bangalore",
          "Royal Challengers Bangalore",
          "Royal Challengers Bangalore",
          "Royal Challengers Bangalore",
          "Royal Challengers Bangalore",
          "Royal Challengers Bangalore",
          "Royal Challengers Bangalore",
          "Royal Challengers Bangalore",
          "Royal Challengers Bangalore",
          "Royal Challengers Bangalore",
          "Royal Challengers Bangalore",
          "Royal Challengers Bangalore",
          "Royal Challengers Bangalore",
          "Royal Challengers Bangalore",
          "Royal Challengers Bangalore",
          "Royal Challengers Bangalore",
          "Royal Challengers Bangalore",
          "Royal Challengers Bangalore",
          "Royal Challengers Bangalore",
          "Royal Challengers Bangalore",
          "Royal Challengers Bangalore",
          "Royal Challengers Bangalore",
          "Royal Challengers Bangalore",
          "Royal Challengers Bangalore",
          "Royal Challengers Bangalore",
          "Royal Challengers Bangalore",
          "Royal Challengers Bangalore",
          "Royal Challengers Bangalore",
          "Royal Challengers Bangalore",
          "Royal Challengers Bangalore",
          "Royal Challengers Bangalore",
          "Royal Challengers Bangalore",
          "Royal Challengers Bangalore",
          "Royal Challengers Bangalore",
          "Royal Challengers Bangalore",
          "Royal Challengers Bangalore",
          "Royal Challengers Bangalore",
          "Royal Challengers Bangalore",
          "Royal Challengers Bangalore",
          "Royal Challengers Bangalore",
          "Royal Challengers Bangalore",
          "Royal Challengers Bangalore",
          "Royal Challengers Bangalore",
          "Royal Challengers Bangalore",
          "Royal Challengers Bangalore",
          "Royal Challengers Bangalore",
          "Royal Challengers Bangalore",
          "Royal Challengers Bangalore",
          "Royal Challengers Bangalore",
          "Royal Challengers Bangalore",
          "Royal Challengers Bangalore"
         ],
         "xaxis": "x",
         "y": [
          1,
          1,
          1,
          1,
          1,
          1,
          1,
          1,
          1,
          1,
          1,
          1,
          1,
          1,
          1,
          1,
          1,
          1,
          1,
          1,
          1,
          1,
          1,
          1,
          1,
          1,
          1,
          1,
          1,
          1,
          1,
          1,
          1,
          1,
          1,
          1,
          1,
          1,
          1,
          1,
          1,
          1,
          1,
          1,
          1,
          1,
          1,
          1,
          1,
          1,
          1,
          1,
          1,
          1,
          1,
          1,
          1,
          1,
          1,
          1,
          1,
          1,
          1,
          1,
          1,
          1,
          1,
          1,
          1,
          1
         ],
         "yaxis": "y"
        },
        {
         "alignmentgroup": "True",
         "hovertemplate": "winner=%{x}<br>count=%{y}<extra></extra>",
         "legendgroup": "Rajasthan Royals",
         "marker": {
          "color": "#FFA15A",
          "pattern": {
           "shape": ""
          }
         },
         "name": "Rajasthan Royals",
         "offsetgroup": "Rajasthan Royals",
         "orientation": "v",
         "showlegend": true,
         "textposition": "auto",
         "type": "bar",
         "x": [
          "Rajasthan Royals",
          "Rajasthan Royals",
          "Rajasthan Royals",
          "Rajasthan Royals",
          "Rajasthan Royals",
          "Rajasthan Royals",
          "Rajasthan Royals",
          "Rajasthan Royals",
          "Rajasthan Royals",
          "Rajasthan Royals",
          "Rajasthan Royals",
          "Rajasthan Royals",
          "Rajasthan Royals",
          "Rajasthan Royals",
          "Rajasthan Royals",
          "Rajasthan Royals",
          "Rajasthan Royals",
          "Rajasthan Royals",
          "Rajasthan Royals",
          "Rajasthan Royals",
          "Rajasthan Royals",
          "Rajasthan Royals",
          "Rajasthan Royals",
          "Rajasthan Royals",
          "Rajasthan Royals",
          "Rajasthan Royals",
          "Rajasthan Royals",
          "Rajasthan Royals",
          "Rajasthan Royals",
          "Rajasthan Royals",
          "Rajasthan Royals",
          "Rajasthan Royals",
          "Rajasthan Royals",
          "Rajasthan Royals",
          "Rajasthan Royals",
          "Rajasthan Royals",
          "Rajasthan Royals",
          "Rajasthan Royals",
          "Rajasthan Royals",
          "Rajasthan Royals",
          "Rajasthan Royals",
          "Rajasthan Royals",
          "Rajasthan Royals",
          "Rajasthan Royals",
          "Rajasthan Royals",
          "Rajasthan Royals",
          "Rajasthan Royals",
          "Rajasthan Royals",
          "Rajasthan Royals",
          "Rajasthan Royals",
          "Rajasthan Royals",
          "Rajasthan Royals",
          "Rajasthan Royals",
          "Rajasthan Royals",
          "Rajasthan Royals",
          "Rajasthan Royals",
          "Rajasthan Royals",
          "Rajasthan Royals",
          "Rajasthan Royals",
          "Rajasthan Royals",
          "Rajasthan Royals",
          "Rajasthan Royals",
          "Rajasthan Royals"
         ],
         "xaxis": "x",
         "y": [
          1,
          1,
          1,
          1,
          1,
          1,
          1,
          1,
          1,
          1,
          1,
          1,
          1,
          1,
          1,
          1,
          1,
          1,
          1,
          1,
          1,
          1,
          1,
          1,
          1,
          1,
          1,
          1,
          1,
          1,
          1,
          1,
          1,
          1,
          1,
          1,
          1,
          1,
          1,
          1,
          1,
          1,
          1,
          1,
          1,
          1,
          1,
          1,
          1,
          1,
          1,
          1,
          1,
          1,
          1,
          1,
          1,
          1,
          1,
          1,
          1,
          1,
          1
         ],
         "yaxis": "y"
        },
        {
         "alignmentgroup": "True",
         "hovertemplate": "winner=%{x}<br>count=%{y}<extra></extra>",
         "legendgroup": "Kings XI Punjab",
         "marker": {
          "color": "#19d3f3",
          "pattern": {
           "shape": ""
          }
         },
         "name": "Kings XI Punjab",
         "offsetgroup": "Kings XI Punjab",
         "orientation": "v",
         "showlegend": true,
         "textposition": "auto",
         "type": "bar",
         "x": [
          "Kings XI Punjab",
          "Kings XI Punjab",
          "Kings XI Punjab",
          "Kings XI Punjab",
          "Kings XI Punjab",
          "Kings XI Punjab",
          "Kings XI Punjab",
          "Kings XI Punjab",
          "Kings XI Punjab",
          "Kings XI Punjab",
          "Kings XI Punjab",
          "Kings XI Punjab",
          "Kings XI Punjab",
          "Kings XI Punjab",
          "Kings XI Punjab",
          "Kings XI Punjab",
          "Kings XI Punjab",
          "Kings XI Punjab",
          "Kings XI Punjab",
          "Kings XI Punjab",
          "Kings XI Punjab",
          "Kings XI Punjab",
          "Kings XI Punjab",
          "Kings XI Punjab",
          "Kings XI Punjab",
          "Kings XI Punjab",
          "Kings XI Punjab",
          "Kings XI Punjab",
          "Kings XI Punjab",
          "Kings XI Punjab",
          "Kings XI Punjab",
          "Kings XI Punjab",
          "Kings XI Punjab",
          "Kings XI Punjab",
          "Kings XI Punjab",
          "Kings XI Punjab",
          "Kings XI Punjab",
          "Kings XI Punjab",
          "Kings XI Punjab",
          "Kings XI Punjab",
          "Kings XI Punjab",
          "Kings XI Punjab",
          "Kings XI Punjab",
          "Kings XI Punjab",
          "Kings XI Punjab",
          "Kings XI Punjab",
          "Kings XI Punjab",
          "Kings XI Punjab",
          "Kings XI Punjab",
          "Kings XI Punjab",
          "Kings XI Punjab",
          "Kings XI Punjab",
          "Kings XI Punjab",
          "Kings XI Punjab",
          "Kings XI Punjab",
          "Kings XI Punjab",
          "Kings XI Punjab",
          "Kings XI Punjab",
          "Kings XI Punjab",
          "Kings XI Punjab",
          "Kings XI Punjab",
          "Kings XI Punjab",
          "Kings XI Punjab"
         ],
         "xaxis": "x",
         "y": [
          1,
          1,
          1,
          1,
          1,
          1,
          1,
          1,
          1,
          1,
          1,
          1,
          1,
          1,
          1,
          1,
          1,
          1,
          1,
          1,
          1,
          1,
          1,
          1,
          1,
          1,
          1,
          1,
          1,
          1,
          1,
          1,
          1,
          1,
          1,
          1,
          1,
          1,
          1,
          1,
          1,
          1,
          1,
          1,
          1,
          1,
          1,
          1,
          1,
          1,
          1,
          1,
          1,
          1,
          1,
          1,
          1,
          1,
          1,
          1,
          1,
          1,
          1
         ],
         "yaxis": "y"
        },
        {
         "alignmentgroup": "True",
         "hovertemplate": "winner=%{x}<br>count=%{y}<extra></extra>",
         "legendgroup": "Deccan Chargers",
         "marker": {
          "color": "#FF6692",
          "pattern": {
           "shape": ""
          }
         },
         "name": "Deccan Chargers",
         "offsetgroup": "Deccan Chargers",
         "orientation": "v",
         "showlegend": true,
         "textposition": "auto",
         "type": "bar",
         "x": [
          "Deccan Chargers",
          "Deccan Chargers",
          "Deccan Chargers",
          "Deccan Chargers",
          "Deccan Chargers",
          "Deccan Chargers",
          "Deccan Chargers",
          "Deccan Chargers",
          "Deccan Chargers",
          "Deccan Chargers",
          "Deccan Chargers",
          "Deccan Chargers",
          "Deccan Chargers",
          "Deccan Chargers",
          "Deccan Chargers",
          "Deccan Chargers",
          "Deccan Chargers",
          "Deccan Chargers",
          "Deccan Chargers",
          "Deccan Chargers",
          "Deccan Chargers",
          "Deccan Chargers",
          "Deccan Chargers",
          "Deccan Chargers",
          "Deccan Chargers",
          "Deccan Chargers",
          "Deccan Chargers",
          "Deccan Chargers",
          "Deccan Chargers"
         ],
         "xaxis": "x",
         "y": [
          1,
          1,
          1,
          1,
          1,
          1,
          1,
          1,
          1,
          1,
          1,
          1,
          1,
          1,
          1,
          1,
          1,
          1,
          1,
          1,
          1,
          1,
          1,
          1,
          1,
          1,
          1,
          1,
          1
         ],
         "yaxis": "y"
        },
        {
         "alignmentgroup": "True",
         "hovertemplate": "winner=%{x}<br>count=%{y}<extra></extra>",
         "legendgroup": "Mumbai Indians",
         "marker": {
          "color": "#B6E880",
          "pattern": {
           "shape": ""
          }
         },
         "name": "Mumbai Indians",
         "offsetgroup": "Mumbai Indians",
         "orientation": "v",
         "showlegend": true,
         "textposition": "auto",
         "type": "bar",
         "x": [
          "Mumbai Indians",
          "Mumbai Indians",
          "Mumbai Indians",
          "Mumbai Indians",
          "Mumbai Indians",
          "Mumbai Indians",
          "Mumbai Indians",
          "Mumbai Indians",
          "Mumbai Indians",
          "Mumbai Indians",
          "Mumbai Indians",
          "Mumbai Indians",
          "Mumbai Indians",
          "Mumbai Indians",
          "Mumbai Indians",
          "Mumbai Indians",
          "Mumbai Indians",
          "Mumbai Indians",
          "Mumbai Indians",
          "Mumbai Indians",
          "Mumbai Indians",
          "Mumbai Indians",
          "Mumbai Indians",
          "Mumbai Indians",
          "Mumbai Indians",
          "Mumbai Indians",
          "Mumbai Indians",
          "Mumbai Indians",
          "Mumbai Indians",
          "Mumbai Indians",
          "Mumbai Indians",
          "Mumbai Indians",
          "Mumbai Indians",
          "Mumbai Indians",
          "Mumbai Indians",
          "Mumbai Indians",
          "Mumbai Indians",
          "Mumbai Indians",
          "Mumbai Indians",
          "Mumbai Indians",
          "Mumbai Indians",
          "Mumbai Indians",
          "Mumbai Indians",
          "Mumbai Indians",
          "Mumbai Indians",
          "Mumbai Indians",
          "Mumbai Indians",
          "Mumbai Indians",
          "Mumbai Indians",
          "Mumbai Indians",
          "Mumbai Indians",
          "Mumbai Indians",
          "Mumbai Indians",
          "Mumbai Indians",
          "Mumbai Indians",
          "Mumbai Indians",
          "Mumbai Indians",
          "Mumbai Indians",
          "Mumbai Indians",
          "Mumbai Indians",
          "Mumbai Indians",
          "Mumbai Indians",
          "Mumbai Indians",
          "Mumbai Indians",
          "Mumbai Indians",
          "Mumbai Indians",
          "Mumbai Indians",
          "Mumbai Indians",
          "Mumbai Indians",
          "Mumbai Indians",
          "Mumbai Indians",
          "Mumbai Indians",
          "Mumbai Indians",
          "Mumbai Indians",
          "Mumbai Indians",
          "Mumbai Indians",
          "Mumbai Indians",
          "Mumbai Indians",
          "Mumbai Indians",
          "Mumbai Indians"
         ],
         "xaxis": "x",
         "y": [
          1,
          1,
          1,
          1,
          1,
          1,
          1,
          1,
          1,
          1,
          1,
          1,
          1,
          1,
          1,
          1,
          1,
          1,
          1,
          1,
          1,
          1,
          1,
          1,
          1,
          1,
          1,
          1,
          1,
          1,
          1,
          1,
          1,
          1,
          1,
          1,
          1,
          1,
          1,
          1,
          1,
          1,
          1,
          1,
          1,
          1,
          1,
          1,
          1,
          1,
          1,
          1,
          1,
          1,
          1,
          1,
          1,
          1,
          1,
          1,
          1,
          1,
          1,
          1,
          1,
          1,
          1,
          1,
          1,
          1,
          1,
          1,
          1,
          1,
          1,
          1,
          1,
          1,
          1,
          1
         ],
         "yaxis": "y"
        },
        {
         "alignmentgroup": "True",
         "hovertemplate": "winner=%{x}<br>count=%{y}<extra></extra>",
         "legendgroup": "Pune Warriors",
         "marker": {
          "color": "#FF97FF",
          "pattern": {
           "shape": ""
          }
         },
         "name": "Pune Warriors",
         "offsetgroup": "Pune Warriors",
         "orientation": "v",
         "showlegend": true,
         "textposition": "auto",
         "type": "bar",
         "x": [
          "Pune Warriors",
          "Pune Warriors",
          "Pune Warriors",
          "Pune Warriors",
          "Pune Warriors",
          "Pune Warriors",
          "Pune Warriors",
          "Pune Warriors",
          "Pune Warriors",
          "Pune Warriors",
          "Pune Warriors",
          "Pune Warriors"
         ],
         "xaxis": "x",
         "y": [
          1,
          1,
          1,
          1,
          1,
          1,
          1,
          1,
          1,
          1,
          1,
          1
         ],
         "yaxis": "y"
        },
        {
         "alignmentgroup": "True",
         "hovertemplate": "winner=%{x}<br>count=%{y}<extra></extra>",
         "legendgroup": "Kochi Tuskers Kerala",
         "marker": {
          "color": "#FECB52",
          "pattern": {
           "shape": ""
          }
         },
         "name": "Kochi Tuskers Kerala",
         "offsetgroup": "Kochi Tuskers Kerala",
         "orientation": "v",
         "showlegend": true,
         "textposition": "auto",
         "type": "bar",
         "x": [
          "Kochi Tuskers Kerala",
          "Kochi Tuskers Kerala",
          "Kochi Tuskers Kerala",
          "Kochi Tuskers Kerala",
          "Kochi Tuskers Kerala",
          "Kochi Tuskers Kerala"
         ],
         "xaxis": "x",
         "y": [
          1,
          1,
          1,
          1,
          1,
          1
         ],
         "yaxis": "y"
        },
        {
         "alignmentgroup": "True",
         "hovertemplate": "winner=%{x}<br>count=%{y}<extra></extra>",
         "legendgroup": "Sunrisers Hyderabad",
         "marker": {
          "color": "#EF553B",
          "pattern": {
           "shape": ""
          }
         },
         "name": "Sunrisers Hyderabad",
         "offsetgroup": "Sunrisers Hyderabad",
         "orientation": "v",
         "showlegend": true,
         "textposition": "auto",
         "type": "bar",
         "x": [
          "Sunrisers Hyderabad",
          "Sunrisers Hyderabad",
          "Sunrisers Hyderabad",
          "Sunrisers Hyderabad",
          "Sunrisers Hyderabad",
          "Sunrisers Hyderabad",
          "Sunrisers Hyderabad",
          "Sunrisers Hyderabad",
          "Sunrisers Hyderabad",
          "Sunrisers Hyderabad",
          "Sunrisers Hyderabad",
          "Sunrisers Hyderabad",
          "Sunrisers Hyderabad",
          "Sunrisers Hyderabad",
          "Sunrisers Hyderabad",
          "Sunrisers Hyderabad",
          "Sunrisers Hyderabad",
          "Sunrisers Hyderabad",
          "Sunrisers Hyderabad",
          "Sunrisers Hyderabad",
          "Sunrisers Hyderabad",
          "Sunrisers Hyderabad",
          "Sunrisers Hyderabad",
          "Sunrisers Hyderabad",
          "Sunrisers Hyderabad",
          "Sunrisers Hyderabad",
          "Sunrisers Hyderabad",
          "Sunrisers Hyderabad",
          "Sunrisers Hyderabad",
          "Sunrisers Hyderabad",
          "Sunrisers Hyderabad",
          "Sunrisers Hyderabad",
          "Sunrisers Hyderabad",
          "Sunrisers Hyderabad"
         ],
         "xaxis": "x",
         "y": [
          1,
          1,
          1,
          1,
          1,
          1,
          1,
          1,
          1,
          1,
          1,
          1,
          1,
          1,
          1,
          1,
          1,
          1,
          1,
          1,
          1,
          1,
          1,
          1,
          1,
          1,
          1,
          1,
          1,
          1,
          1,
          1,
          1,
          1
         ],
         "yaxis": "y"
        },
        {
         "alignmentgroup": "True",
         "hovertemplate": "winner=%{x}<br>count=%{y}<extra></extra>",
         "legendgroup": "Rising Pune Supergiants",
         "marker": {
          "color": "#00cc96",
          "pattern": {
           "shape": ""
          }
         },
         "name": "Rising Pune Supergiants",
         "offsetgroup": "Rising Pune Supergiants",
         "orientation": "v",
         "showlegend": true,
         "textposition": "auto",
         "type": "bar",
         "x": [
          "Rising Pune Supergiants",
          "Rising Pune Supergiants",
          "Rising Pune Supergiants",
          "Rising Pune Supergiants",
          "Rising Pune Supergiants"
         ],
         "xaxis": "x",
         "y": [
          1,
          1,
          1,
          1,
          1
         ],
         "yaxis": "y"
        },
        {
         "alignmentgroup": "True",
         "hovertemplate": "winner=%{x}<br>count=%{y}<extra></extra>",
         "legendgroup": "Gujarat Lions",
         "marker": {
          "color": "#ab63fa",
          "pattern": {
           "shape": ""
          }
         },
         "name": "Gujarat Lions",
         "offsetgroup": "Gujarat Lions",
         "orientation": "v",
         "showlegend": true,
         "textposition": "auto",
         "type": "bar",
         "x": [
          "Gujarat Lions",
          "Gujarat Lions",
          "Gujarat Lions",
          "Gujarat Lions",
          "Gujarat Lions",
          "Gujarat Lions",
          "Gujarat Lions",
          "Gujarat Lions",
          "Gujarat Lions"
         ],
         "xaxis": "x",
         "y": [
          1,
          1,
          1,
          1,
          1,
          1,
          1,
          1,
          1
         ],
         "yaxis": "y"
        }
       ],
       "layout": {
        "barmode": "relative",
        "height": 600,
        "legend": {
         "title": {
          "text": "winner"
         },
         "tracegroupgap": 0
        },
        "template": {
         "data": {
          "bar": [
           {
            "error_x": {
             "color": "#2a3f5f"
            },
            "error_y": {
             "color": "#2a3f5f"
            },
            "marker": {
             "line": {
              "color": "#E5ECF6",
              "width": 0.5
             },
             "pattern": {
              "fillmode": "overlay",
              "size": 10,
              "solidity": 0.2
             }
            },
            "type": "bar"
           }
          ],
          "barpolar": [
           {
            "marker": {
             "line": {
              "color": "#E5ECF6",
              "width": 0.5
             },
             "pattern": {
              "fillmode": "overlay",
              "size": 10,
              "solidity": 0.2
             }
            },
            "type": "barpolar"
           }
          ],
          "carpet": [
           {
            "aaxis": {
             "endlinecolor": "#2a3f5f",
             "gridcolor": "white",
             "linecolor": "white",
             "minorgridcolor": "white",
             "startlinecolor": "#2a3f5f"
            },
            "baxis": {
             "endlinecolor": "#2a3f5f",
             "gridcolor": "white",
             "linecolor": "white",
             "minorgridcolor": "white",
             "startlinecolor": "#2a3f5f"
            },
            "type": "carpet"
           }
          ],
          "choropleth": [
           {
            "colorbar": {
             "outlinewidth": 0,
             "ticks": ""
            },
            "type": "choropleth"
           }
          ],
          "contour": [
           {
            "colorbar": {
             "outlinewidth": 0,
             "ticks": ""
            },
            "colorscale": [
             [
              0,
              "#0d0887"
             ],
             [
              0.1111111111111111,
              "#46039f"
             ],
             [
              0.2222222222222222,
              "#7201a8"
             ],
             [
              0.3333333333333333,
              "#9c179e"
             ],
             [
              0.4444444444444444,
              "#bd3786"
             ],
             [
              0.5555555555555556,
              "#d8576b"
             ],
             [
              0.6666666666666666,
              "#ed7953"
             ],
             [
              0.7777777777777778,
              "#fb9f3a"
             ],
             [
              0.8888888888888888,
              "#fdca26"
             ],
             [
              1,
              "#f0f921"
             ]
            ],
            "type": "contour"
           }
          ],
          "contourcarpet": [
           {
            "colorbar": {
             "outlinewidth": 0,
             "ticks": ""
            },
            "type": "contourcarpet"
           }
          ],
          "heatmap": [
           {
            "colorbar": {
             "outlinewidth": 0,
             "ticks": ""
            },
            "colorscale": [
             [
              0,
              "#0d0887"
             ],
             [
              0.1111111111111111,
              "#46039f"
             ],
             [
              0.2222222222222222,
              "#7201a8"
             ],
             [
              0.3333333333333333,
              "#9c179e"
             ],
             [
              0.4444444444444444,
              "#bd3786"
             ],
             [
              0.5555555555555556,
              "#d8576b"
             ],
             [
              0.6666666666666666,
              "#ed7953"
             ],
             [
              0.7777777777777778,
              "#fb9f3a"
             ],
             [
              0.8888888888888888,
              "#fdca26"
             ],
             [
              1,
              "#f0f921"
             ]
            ],
            "type": "heatmap"
           }
          ],
          "heatmapgl": [
           {
            "colorbar": {
             "outlinewidth": 0,
             "ticks": ""
            },
            "colorscale": [
             [
              0,
              "#0d0887"
             ],
             [
              0.1111111111111111,
              "#46039f"
             ],
             [
              0.2222222222222222,
              "#7201a8"
             ],
             [
              0.3333333333333333,
              "#9c179e"
             ],
             [
              0.4444444444444444,
              "#bd3786"
             ],
             [
              0.5555555555555556,
              "#d8576b"
             ],
             [
              0.6666666666666666,
              "#ed7953"
             ],
             [
              0.7777777777777778,
              "#fb9f3a"
             ],
             [
              0.8888888888888888,
              "#fdca26"
             ],
             [
              1,
              "#f0f921"
             ]
            ],
            "type": "heatmapgl"
           }
          ],
          "histogram": [
           {
            "marker": {
             "pattern": {
              "fillmode": "overlay",
              "size": 10,
              "solidity": 0.2
             }
            },
            "type": "histogram"
           }
          ],
          "histogram2d": [
           {
            "colorbar": {
             "outlinewidth": 0,
             "ticks": ""
            },
            "colorscale": [
             [
              0,
              "#0d0887"
             ],
             [
              0.1111111111111111,
              "#46039f"
             ],
             [
              0.2222222222222222,
              "#7201a8"
             ],
             [
              0.3333333333333333,
              "#9c179e"
             ],
             [
              0.4444444444444444,
              "#bd3786"
             ],
             [
              0.5555555555555556,
              "#d8576b"
             ],
             [
              0.6666666666666666,
              "#ed7953"
             ],
             [
              0.7777777777777778,
              "#fb9f3a"
             ],
             [
              0.8888888888888888,
              "#fdca26"
             ],
             [
              1,
              "#f0f921"
             ]
            ],
            "type": "histogram2d"
           }
          ],
          "histogram2dcontour": [
           {
            "colorbar": {
             "outlinewidth": 0,
             "ticks": ""
            },
            "colorscale": [
             [
              0,
              "#0d0887"
             ],
             [
              0.1111111111111111,
              "#46039f"
             ],
             [
              0.2222222222222222,
              "#7201a8"
             ],
             [
              0.3333333333333333,
              "#9c179e"
             ],
             [
              0.4444444444444444,
              "#bd3786"
             ],
             [
              0.5555555555555556,
              "#d8576b"
             ],
             [
              0.6666666666666666,
              "#ed7953"
             ],
             [
              0.7777777777777778,
              "#fb9f3a"
             ],
             [
              0.8888888888888888,
              "#fdca26"
             ],
             [
              1,
              "#f0f921"
             ]
            ],
            "type": "histogram2dcontour"
           }
          ],
          "mesh3d": [
           {
            "colorbar": {
             "outlinewidth": 0,
             "ticks": ""
            },
            "type": "mesh3d"
           }
          ],
          "parcoords": [
           {
            "line": {
             "colorbar": {
              "outlinewidth": 0,
              "ticks": ""
             }
            },
            "type": "parcoords"
           }
          ],
          "pie": [
           {
            "automargin": true,
            "type": "pie"
           }
          ],
          "scatter": [
           {
            "fillpattern": {
             "fillmode": "overlay",
             "size": 10,
             "solidity": 0.2
            },
            "type": "scatter"
           }
          ],
          "scatter3d": [
           {
            "line": {
             "colorbar": {
              "outlinewidth": 0,
              "ticks": ""
             }
            },
            "marker": {
             "colorbar": {
              "outlinewidth": 0,
              "ticks": ""
             }
            },
            "type": "scatter3d"
           }
          ],
          "scattercarpet": [
           {
            "marker": {
             "colorbar": {
              "outlinewidth": 0,
              "ticks": ""
             }
            },
            "type": "scattercarpet"
           }
          ],
          "scattergeo": [
           {
            "marker": {
             "colorbar": {
              "outlinewidth": 0,
              "ticks": ""
             }
            },
            "type": "scattergeo"
           }
          ],
          "scattergl": [
           {
            "marker": {
             "colorbar": {
              "outlinewidth": 0,
              "ticks": ""
             }
            },
            "type": "scattergl"
           }
          ],
          "scattermapbox": [
           {
            "marker": {
             "colorbar": {
              "outlinewidth": 0,
              "ticks": ""
             }
            },
            "type": "scattermapbox"
           }
          ],
          "scatterpolar": [
           {
            "marker": {
             "colorbar": {
              "outlinewidth": 0,
              "ticks": ""
             }
            },
            "type": "scatterpolar"
           }
          ],
          "scatterpolargl": [
           {
            "marker": {
             "colorbar": {
              "outlinewidth": 0,
              "ticks": ""
             }
            },
            "type": "scatterpolargl"
           }
          ],
          "scatterternary": [
           {
            "marker": {
             "colorbar": {
              "outlinewidth": 0,
              "ticks": ""
             }
            },
            "type": "scatterternary"
           }
          ],
          "surface": [
           {
            "colorbar": {
             "outlinewidth": 0,
             "ticks": ""
            },
            "colorscale": [
             [
              0,
              "#0d0887"
             ],
             [
              0.1111111111111111,
              "#46039f"
             ],
             [
              0.2222222222222222,
              "#7201a8"
             ],
             [
              0.3333333333333333,
              "#9c179e"
             ],
             [
              0.4444444444444444,
              "#bd3786"
             ],
             [
              0.5555555555555556,
              "#d8576b"
             ],
             [
              0.6666666666666666,
              "#ed7953"
             ],
             [
              0.7777777777777778,
              "#fb9f3a"
             ],
             [
              0.8888888888888888,
              "#fdca26"
             ],
             [
              1,
              "#f0f921"
             ]
            ],
            "type": "surface"
           }
          ],
          "table": [
           {
            "cells": {
             "fill": {
              "color": "#EBF0F8"
             },
             "line": {
              "color": "white"
             }
            },
            "header": {
             "fill": {
              "color": "#C8D4E3"
             },
             "line": {
              "color": "white"
             }
            },
            "type": "table"
           }
          ]
         },
         "layout": {
          "annotationdefaults": {
           "arrowcolor": "#2a3f5f",
           "arrowhead": 0,
           "arrowwidth": 1
          },
          "autotypenumbers": "strict",
          "coloraxis": {
           "colorbar": {
            "outlinewidth": 0,
            "ticks": ""
           }
          },
          "colorscale": {
           "diverging": [
            [
             0,
             "#8e0152"
            ],
            [
             0.1,
             "#c51b7d"
            ],
            [
             0.2,
             "#de77ae"
            ],
            [
             0.3,
             "#f1b6da"
            ],
            [
             0.4,
             "#fde0ef"
            ],
            [
             0.5,
             "#f7f7f7"
            ],
            [
             0.6,
             "#e6f5d0"
            ],
            [
             0.7,
             "#b8e186"
            ],
            [
             0.8,
             "#7fbc41"
            ],
            [
             0.9,
             "#4d9221"
            ],
            [
             1,
             "#276419"
            ]
           ],
           "sequential": [
            [
             0,
             "#0d0887"
            ],
            [
             0.1111111111111111,
             "#46039f"
            ],
            [
             0.2222222222222222,
             "#7201a8"
            ],
            [
             0.3333333333333333,
             "#9c179e"
            ],
            [
             0.4444444444444444,
             "#bd3786"
            ],
            [
             0.5555555555555556,
             "#d8576b"
            ],
            [
             0.6666666666666666,
             "#ed7953"
            ],
            [
             0.7777777777777778,
             "#fb9f3a"
            ],
            [
             0.8888888888888888,
             "#fdca26"
            ],
            [
             1,
             "#f0f921"
            ]
           ],
           "sequentialminus": [
            [
             0,
             "#0d0887"
            ],
            [
             0.1111111111111111,
             "#46039f"
            ],
            [
             0.2222222222222222,
             "#7201a8"
            ],
            [
             0.3333333333333333,
             "#9c179e"
            ],
            [
             0.4444444444444444,
             "#bd3786"
            ],
            [
             0.5555555555555556,
             "#d8576b"
            ],
            [
             0.6666666666666666,
             "#ed7953"
            ],
            [
             0.7777777777777778,
             "#fb9f3a"
            ],
            [
             0.8888888888888888,
             "#fdca26"
            ],
            [
             1,
             "#f0f921"
            ]
           ]
          },
          "colorway": [
           "#636efa",
           "#EF553B",
           "#00cc96",
           "#ab63fa",
           "#FFA15A",
           "#19d3f3",
           "#FF6692",
           "#B6E880",
           "#FF97FF",
           "#FECB52"
          ],
          "font": {
           "color": "#2a3f5f"
          },
          "geo": {
           "bgcolor": "white",
           "lakecolor": "white",
           "landcolor": "#E5ECF6",
           "showlakes": true,
           "showland": true,
           "subunitcolor": "white"
          },
          "hoverlabel": {
           "align": "left"
          },
          "hovermode": "closest",
          "mapbox": {
           "style": "light"
          },
          "paper_bgcolor": "white",
          "plot_bgcolor": "#E5ECF6",
          "polar": {
           "angularaxis": {
            "gridcolor": "white",
            "linecolor": "white",
            "ticks": ""
           },
           "bgcolor": "#E5ECF6",
           "radialaxis": {
            "gridcolor": "white",
            "linecolor": "white",
            "ticks": ""
           }
          },
          "scene": {
           "xaxis": {
            "backgroundcolor": "#E5ECF6",
            "gridcolor": "white",
            "gridwidth": 2,
            "linecolor": "white",
            "showbackground": true,
            "ticks": "",
            "zerolinecolor": "white"
           },
           "yaxis": {
            "backgroundcolor": "#E5ECF6",
            "gridcolor": "white",
            "gridwidth": 2,
            "linecolor": "white",
            "showbackground": true,
            "ticks": "",
            "zerolinecolor": "white"
           },
           "zaxis": {
            "backgroundcolor": "#E5ECF6",
            "gridcolor": "white",
            "gridwidth": 2,
            "linecolor": "white",
            "showbackground": true,
            "ticks": "",
            "zerolinecolor": "white"
           }
          },
          "shapedefaults": {
           "line": {
            "color": "#2a3f5f"
           }
          },
          "ternary": {
           "aaxis": {
            "gridcolor": "white",
            "linecolor": "white",
            "ticks": ""
           },
           "baxis": {
            "gridcolor": "white",
            "linecolor": "white",
            "ticks": ""
           },
           "bgcolor": "#E5ECF6",
           "caxis": {
            "gridcolor": "white",
            "linecolor": "white",
            "ticks": ""
           }
          },
          "title": {
           "x": 0.05
          },
          "xaxis": {
           "automargin": true,
           "gridcolor": "white",
           "linecolor": "white",
           "ticks": "",
           "title": {
            "standoff": 15
           },
           "zerolinecolor": "white",
           "zerolinewidth": 2
          },
          "yaxis": {
           "automargin": true,
           "gridcolor": "white",
           "linecolor": "white",
           "ticks": "",
           "title": {
            "standoff": 15
           },
           "zerolinecolor": "white",
           "zerolinewidth": 2
          }
         }
        },
        "title": {
         "text": "Number of matches won by each IPL team in 2022"
        },
        "width": 900,
        "xaxis": {
         "anchor": "y",
         "autorange": true,
         "categoryarray": [
          "Kolkata Knight Riders",
          "Chennai Super Kings",
          "Delhi Daredevils",
          "Royal Challengers Bangalore",
          "Rajasthan Royals",
          "Kings XI Punjab",
          "Deccan Chargers",
          "Mumbai Indians",
          "Pune Warriors",
          "Kochi Tuskers Kerala",
          null,
          "Sunrisers Hyderabad",
          "Rising Pune Supergiants",
          "Gujarat Lions"
         ],
         "categoryorder": "array",
         "domain": [
          0,
          1
         ],
         "range": [
          -0.5,
          12.5
         ],
         "title": {
          "text": "winner"
         },
         "type": "category"
        },
        "yaxis": {
         "anchor": "x",
         "autorange": true,
         "domain": [
          0,
          1
         ],
         "range": [
          0,
          84.21052631578948
         ],
         "title": {
          "text": "count"
         },
         "type": "linear"
        }
       }
      },
      "image/png": "[encoded data removed]",
      "text/html": [
       "<div>                            <div id=\"b320b235-1f49-453f-8ba4-ac6355109d1a\" class=\"plotly-graph-div\" style=\"height:600px; width:900px;\"></div>            <script type=\"text/javascript\">                require([\"plotly\"], function(Plotly) {                    window.PLOTLYENV=window.PLOTLYENV || {};                                    if (document.getElementById(\"b320b235-1f49-453f-8ba4-ac6355109d1a\")) {                    Plotly.newPlot(                        \"b320b235-1f49-453f-8ba4-ac6355109d1a\",                        [{\"alignmentgroup\":\"True\",\"hovertemplate\":\"winner=%{x}\\u003cbr\\u003ecount=%{y}\\u003cextra\\u003e\\u003c\\u002fextra\\u003e\",\"legendgroup\":\"Kolkata Knight Riders\",\"marker\":{\"color\":\"#636efa\",\"pattern\":{\"shape\":\"\"}},\"name\":\"Kolkata Knight Riders\",\"offsetgroup\":\"Kolkata Knight Riders\",\"orientation\":\"v\",\"showlegend\":true,\"textposition\":\"auto\",\"x\":[\"Kolkata Knight Riders\",\"Kolkata Knight Riders\",\"Kolkata Knight Riders\",\"Kolkata Knight Riders\",\"Kolkata Knight Riders\",\"Kolkata Knight Riders\",\"Kolkata Knight Riders\",\"Kolkata Knight Riders\",\"Kolkata Knight Riders\",\"Kolkata Knight Riders\",\"Kolkata Knight Riders\",\"Kolkata Knight Riders\",\"Kolkata Knight Riders\",\"Kolkata Knight Riders\",\"Kolkata Knight Riders\",\"Kolkata Knight Riders\",\"Kolkata Knight Riders\",\"Kolkata Knight Riders\",\"Kolkata Knight Riders\",\"Kolkata Knight Riders\",\"Kolkata Knight Riders\",\"Kolkata Knight Riders\",\"Kolkata Knight Riders\",\"Kolkata Knight Riders\",\"Kolkata Knight Riders\",\"Kolkata Knight Riders\",\"Kolkata Knight Riders\",\"Kolkata Knight Riders\",\"Kolkata Knight Riders\",\"Kolkata Knight Riders\",\"Kolkata Knight Riders\",\"Kolkata Knight Riders\",\"Kolkata Knight Riders\",\"Kolkata Knight Riders\",\"Kolkata Knight Riders\",\"Kolkata Knight Riders\",\"Kolkata Knight Riders\",\"Kolkata Knight Riders\",\"Kolkata Knight Riders\",\"Kolkata Knight Riders\",\"Kolkata Knight Riders\",\"Kolkata Knight Riders\",\"Kolkata Knight Riders\",\"Kolkata Knight Riders\",\"Kolkata Knight Riders\",\"Kolkata Knight Riders\",\"Kolkata Knight Riders\",\"Kolkata Knight Riders\",\"Kolkata Knight Riders\",\"Kolkata Knight Riders\",\"Kolkata Knight Riders\",\"Kolkata Knight Riders\",\"Kolkata Knight Riders\",\"Kolkata Knight Riders\",\"Kolkata Knight Riders\",\"Kolkata Knight Riders\",\"Kolkata Knight Riders\",\"Kolkata Knight Riders\",\"Kolkata Knight Riders\",\"Kolkata Knight Riders\",\"Kolkata Knight Riders\",\"Kolkata Knight Riders\",\"Kolkata Knight Riders\",\"Kolkata Knight Riders\",\"Kolkata Knight Riders\",\"Kolkata Knight Riders\",\"Kolkata Knight Riders\",\"Kolkata Knight Riders\"],\"xaxis\":\"x\",\"y\":[1,1,1,1,1,1,1,1,1,1,1,1,1,1,1,1,1,1,1,1,1,1,1,1,1,1,1,1,1,1,1,1,1,1,1,1,1,1,1,1,1,1,1,1,1,1,1,1,1,1,1,1,1,1,1,1,1,1,1,1,1,1,1,1,1,1,1,1],\"yaxis\":\"y\",\"type\":\"bar\"},{\"alignmentgroup\":\"True\",\"hovertemplate\":\"winner=%{x}\\u003cbr\\u003ecount=%{y}\\u003cextra\\u003e\\u003c\\u002fextra\\u003e\",\"legendgroup\":\"Chennai Super Kings\",\"marker\":{\"color\":\"#EF553B\",\"pattern\":{\"shape\":\"\"}},\"name\":\"Chennai Super Kings\",\"offsetgroup\":\"Chennai Super Kings\",\"orientation\":\"v\",\"showlegend\":true,\"textposition\":\"auto\",\"x\":[\"Chennai Super Kings\",\"Chennai Super Kings\",\"Chennai Super Kings\",\"Chennai Super Kings\",\"Chennai Super Kings\",\"Chennai Super Kings\",\"Chennai Super Kings\",\"Chennai Super Kings\",\"Chennai Super Kings\",\"Chennai Super Kings\",\"Chennai Super Kings\",\"Chennai Super Kings\",\"Chennai Super Kings\",\"Chennai Super Kings\",\"Chennai Super Kings\",\"Chennai Super Kings\",\"Chennai Super Kings\",\"Chennai Super Kings\",\"Chennai Super Kings\",\"Chennai Super Kings\",\"Chennai Super Kings\",\"Chennai Super Kings\",\"Chennai Super Kings\",\"Chennai Super Kings\",\"Chennai Super Kings\",\"Chennai Super Kings\",\"Chennai Super Kings\",\"Chennai Super Kings\",\"Chennai Super Kings\",\"Chennai Super Kings\",\"Chennai Super Kings\",\"Chennai Super Kings\",\"Chennai Super Kings\",\"Chennai Super Kings\",\"Chennai Super Kings\",\"Chennai Super Kings\",\"Chennai Super Kings\",\"Chennai Super Kings\",\"Chennai Super Kings\",\"Chennai Super Kings\",\"Chennai Super Kings\",\"Chennai Super Kings\",\"Chennai Super Kings\",\"Chennai Super Kings\",\"Chennai Super Kings\",\"Chennai Super Kings\",\"Chennai Super Kings\",\"Chennai Super Kings\",\"Chennai Super Kings\",\"Chennai Super Kings\",\"Chennai Super Kings\",\"Chennai Super Kings\",\"Chennai Super Kings\",\"Chennai Super Kings\",\"Chennai Super Kings\",\"Chennai Super Kings\",\"Chennai Super Kings\",\"Chennai Super Kings\",\"Chennai Super Kings\",\"Chennai Super Kings\",\"Chennai Super Kings\",\"Chennai Super Kings\",\"Chennai Super Kings\",\"Chennai Super Kings\",\"Chennai Super Kings\",\"Chennai Super Kings\",\"Chennai Super Kings\",\"Chennai Super Kings\",\"Chennai Super Kings\",\"Chennai Super Kings\",\"Chennai Super Kings\",\"Chennai Super Kings\",\"Chennai Super Kings\",\"Chennai Super Kings\",\"Chennai Super Kings\",\"Chennai Super Kings\",\"Chennai Super Kings\",\"Chennai Super Kings\",\"Chennai Super Kings\"],\"xaxis\":\"x\",\"y\":[1,1,1,1,1,1,1,1,1,1,1,1,1,1,1,1,1,1,1,1,1,1,1,1,1,1,1,1,1,1,1,1,1,1,1,1,1,1,1,1,1,1,1,1,1,1,1,1,1,1,1,1,1,1,1,1,1,1,1,1,1,1,1,1,1,1,1,1,1,1,1,1,1,1,1,1,1,1,1],\"yaxis\":\"y\",\"type\":\"bar\"},{\"alignmentgroup\":\"True\",\"hovertemplate\":\"winner=%{x}\\u003cbr\\u003ecount=%{y}\\u003cextra\\u003e\\u003c\\u002fextra\\u003e\",\"legendgroup\":\"Delhi Daredevils\",\"marker\":{\"color\":\"#00cc96\",\"pattern\":{\"shape\":\"\"}},\"name\":\"Delhi Daredevils\",\"offsetgroup\":\"Delhi Daredevils\",\"orientation\":\"v\",\"showlegend\":true,\"textposition\":\"auto\",\"x\":[\"Delhi Daredevils\",\"Delhi Daredevils\",\"Delhi Daredevils\",\"Delhi Daredevils\",\"Delhi Daredevils\",\"Delhi Daredevils\",\"Delhi Daredevils\",\"Delhi Daredevils\",\"Delhi Daredevils\",\"Delhi Daredevils\",\"Delhi Daredevils\",\"Delhi Daredevils\",\"Delhi Daredevils\",\"Delhi Daredevils\",\"Delhi Daredevils\",\"Delhi Daredevils\",\"Delhi Daredevils\",\"Delhi Daredevils\",\"Delhi Daredevils\",\"Delhi Daredevils\",\"Delhi Daredevils\",\"Delhi Daredevils\",\"Delhi Daredevils\",\"Delhi Daredevils\",\"Delhi Daredevils\",\"Delhi Daredevils\",\"Delhi Daredevils\",\"Delhi Daredevils\",\"Delhi Daredevils\",\"Delhi Daredevils\",\"Delhi Daredevils\",\"Delhi Daredevils\",\"Delhi Daredevils\",\"Delhi Daredevils\",\"Delhi Daredevils\",\"Delhi Daredevils\",\"Delhi Daredevils\",\"Delhi Daredevils\",\"Delhi Daredevils\",\"Delhi Daredevils\",\"Delhi Daredevils\",\"Delhi Daredevils\",\"Delhi Daredevils\",\"Delhi Daredevils\",\"Delhi Daredevils\",\"Delhi Daredevils\",\"Delhi Daredevils\",\"Delhi Daredevils\",\"Delhi Daredevils\",\"Delhi Daredevils\",\"Delhi Daredevils\",\"Delhi Daredevils\",\"Delhi Daredevils\",\"Delhi Daredevils\",\"Delhi Daredevils\",\"Delhi Daredevils\"],\"xaxis\":\"x\",\"y\":[1,1,1,1,1,1,1,1,1,1,1,1,1,1,1,1,1,1,1,1,1,1,1,1,1,1,1,1,1,1,1,1,1,1,1,1,1,1,1,1,1,1,1,1,1,1,1,1,1,1,1,1,1,1,1,1],\"yaxis\":\"y\",\"type\":\"bar\"},{\"alignmentgroup\":\"True\",\"hovertemplate\":\"winner=%{x}\\u003cbr\\u003ecount=%{y}\\u003cextra\\u003e\\u003c\\u002fextra\\u003e\",\"legendgroup\":\"Royal Challengers Bangalore\",\"marker\":{\"color\":\"#ab63fa\",\"pattern\":{\"shape\":\"\"}},\"name\":\"Royal Challengers Bangalore\",\"offsetgroup\":\"Royal Challengers Bangalore\",\"orientation\":\"v\",\"showlegend\":true,\"textposition\":\"auto\",\"x\":[\"Royal Challengers Bangalore\",\"Royal Challengers Bangalore\",\"Royal Challengers Bangalore\",\"Royal Challengers Bangalore\",\"Royal Challengers Bangalore\",\"Royal Challengers Bangalore\",\"Royal Challengers Bangalore\",\"Royal Challengers Bangalore\",\"Royal Challengers Bangalore\",\"Royal Challengers Bangalore\",\"Royal Challengers Bangalore\",\"Royal Challengers Bangalore\",\"Royal Challengers Bangalore\",\"Royal Challengers Bangalore\",\"Royal Challengers Bangalore\",\"Royal Challengers Bangalore\",\"Royal Challengers Bangalore\",\"Royal Challengers Bangalore\",\"Royal Challengers Bangalore\",\"Royal Challengers Bangalore\",\"Royal Challengers Bangalore\",\"Royal Challengers Bangalore\",\"Royal Challengers Bangalore\",\"Royal Challengers Bangalore\",\"Royal Challengers Bangalore\",\"Royal Challengers Bangalore\",\"Royal Challengers Bangalore\",\"Royal Challengers Bangalore\",\"Royal Challengers Bangalore\",\"Royal Challengers Bangalore\",\"Royal Challengers Bangalore\",\"Royal Challengers Bangalore\",\"Royal Challengers Bangalore\",\"Royal Challengers Bangalore\",\"Royal Challengers Bangalore\",\"Royal Challengers Bangalore\",\"Royal Challengers Bangalore\",\"Royal Challengers Bangalore\",\"Royal Challengers Bangalore\",\"Royal Challengers Bangalore\",\"Royal Challengers Bangalore\",\"Royal Challengers Bangalore\",\"Royal Challengers Bangalore\",\"Royal Challengers Bangalore\",\"Royal Challengers Bangalore\",\"Royal Challengers Bangalore\",\"Royal Challengers Bangalore\",\"Royal Challengers Bangalore\",\"Royal Challengers Bangalore\",\"Royal Challengers Bangalore\",\"Royal Challengers Bangalore\",\"Royal Challengers Bangalore\",\"Royal Challengers Bangalore\",\"Royal Challengers Bangalore\",\"Royal Challengers Bangalore\",\"Royal Challengers Bangalore\",\"Royal Challengers Bangalore\",\"Royal Challengers Bangalore\",\"Royal Challengers Bangalore\",\"Royal Challengers Bangalore\",\"Royal Challengers Bangalore\",\"Royal Challengers Bangalore\",\"Royal Challengers Bangalore\",\"Royal Challengers Bangalore\",\"Royal Challengers Bangalore\",\"Royal Challengers Bangalore\",\"Royal Challengers Bangalore\",\"Royal Challengers Bangalore\",\"Royal Challengers Bangalore\",\"Royal Challengers Bangalore\"],\"xaxis\":\"x\",\"y\":[1,1,1,1,1,1,1,1,1,1,1,1,1,1,1,1,1,1,1,1,1,1,1,1,1,1,1,1,1,1,1,1,1,1,1,1,1,1,1,1,1,1,1,1,1,1,1,1,1,1,1,1,1,1,1,1,1,1,1,1,1,1,1,1,1,1,1,1,1,1],\"yaxis\":\"y\",\"type\":\"bar\"},{\"alignmentgroup\":\"True\",\"hovertemplate\":\"winner=%{x}\\u003cbr\\u003ecount=%{y}\\u003cextra\\u003e\\u003c\\u002fextra\\u003e\",\"legendgroup\":\"Rajasthan Royals\",\"marker\":{\"color\":\"#FFA15A\",\"pattern\":{\"shape\":\"\"}},\"name\":\"Rajasthan Royals\",\"offsetgroup\":\"Rajasthan Royals\",\"orientation\":\"v\",\"showlegend\":true,\"textposition\":\"auto\",\"x\":[\"Rajasthan Royals\",\"Rajasthan Royals\",\"Rajasthan Royals\",\"Rajasthan Royals\",\"Rajasthan Royals\",\"Rajasthan Royals\",\"Rajasthan Royals\",\"Rajasthan Royals\",\"Rajasthan Royals\",\"Rajasthan Royals\",\"Rajasthan Royals\",\"Rajasthan Royals\",\"Rajasthan Royals\",\"Rajasthan Royals\",\"Rajasthan Royals\",\"Rajasthan Royals\",\"Rajasthan Royals\",\"Rajasthan Royals\",\"Rajasthan Royals\",\"Rajasthan Royals\",\"Rajasthan Royals\",\"Rajasthan Royals\",\"Rajasthan Royals\",\"Rajasthan Royals\",\"Rajasthan Royals\",\"Rajasthan Royals\",\"Rajasthan Royals\",\"Rajasthan Royals\",\"Rajasthan Royals\",\"Rajasthan Royals\",\"Rajasthan Royals\",\"Rajasthan Royals\",\"Rajasthan Royals\",\"Rajasthan Royals\",\"Rajasthan Royals\",\"Rajasthan Royals\",\"Rajasthan Royals\",\"Rajasthan Royals\",\"Rajasthan Royals\",\"Rajasthan Royals\",\"Rajasthan Royals\",\"Rajasthan Royals\",\"Rajasthan Royals\",\"Rajasthan Royals\",\"Rajasthan Royals\",\"Rajasthan Royals\",\"Rajasthan Royals\",\"Rajasthan Royals\",\"Rajasthan Royals\",\"Rajasthan Royals\",\"Rajasthan Royals\",\"Rajasthan Royals\",\"Rajasthan Royals\",\"Rajasthan Royals\",\"Rajasthan Royals\",\"Rajasthan Royals\",\"Rajasthan Royals\",\"Rajasthan Royals\",\"Rajasthan Royals\",\"Rajasthan Royals\",\"Rajasthan Royals\",\"Rajasthan Royals\",\"Rajasthan Royals\"],\"xaxis\":\"x\",\"y\":[1,1,1,1,1,1,1,1,1,1,1,1,1,1,1,1,1,1,1,1,1,1,1,1,1,1,1,1,1,1,1,1,1,1,1,1,1,1,1,1,1,1,1,1,1,1,1,1,1,1,1,1,1,1,1,1,1,1,1,1,1,1,1],\"yaxis\":\"y\",\"type\":\"bar\"},{\"alignmentgroup\":\"True\",\"hovertemplate\":\"winner=%{x}\\u003cbr\\u003ecount=%{y}\\u003cextra\\u003e\\u003c\\u002fextra\\u003e\",\"legendgroup\":\"Kings XI Punjab\",\"marker\":{\"color\":\"#19d3f3\",\"pattern\":{\"shape\":\"\"}},\"name\":\"Kings XI Punjab\",\"offsetgroup\":\"Kings XI Punjab\",\"orientation\":\"v\",\"showlegend\":true,\"textposition\":\"auto\",\"x\":[\"Kings XI Punjab\",\"Kings XI Punjab\",\"Kings XI Punjab\",\"Kings XI Punjab\",\"Kings XI Punjab\",\"Kings XI Punjab\",\"Kings XI Punjab\",\"Kings XI Punjab\",\"Kings XI Punjab\",\"Kings XI Punjab\",\"Kings XI Punjab\",\"Kings XI Punjab\",\"Kings XI Punjab\",\"Kings XI Punjab\",\"Kings XI Punjab\",\"Kings XI Punjab\",\"Kings XI Punjab\",\"Kings XI Punjab\",\"Kings XI Punjab\",\"Kings XI Punjab\",\"Kings XI Punjab\",\"Kings XI Punjab\",\"Kings XI Punjab\",\"Kings XI Punjab\",\"Kings XI Punjab\",\"Kings XI Punjab\",\"Kings XI Punjab\",\"Kings XI Punjab\",\"Kings XI Punjab\",\"Kings XI Punjab\",\"Kings XI Punjab\",\"Kings XI Punjab\",\"Kings XI Punjab\",\"Kings XI Punjab\",\"Kings XI Punjab\",\"Kings XI Punjab\",\"Kings XI Punjab\",\"Kings XI Punjab\",\"Kings XI Punjab\",\"Kings XI Punjab\",\"Kings XI Punjab\",\"Kings XI Punjab\",\"Kings XI Punjab\",\"Kings XI Punjab\",\"Kings XI Punjab\",\"Kings XI Punjab\",\"Kings XI Punjab\",\"Kings XI Punjab\",\"Kings XI Punjab\",\"Kings XI Punjab\",\"Kings XI Punjab\",\"Kings XI Punjab\",\"Kings XI Punjab\",\"Kings XI Punjab\",\"Kings XI Punjab\",\"Kings XI Punjab\",\"Kings XI Punjab\",\"Kings XI Punjab\",\"Kings XI Punjab\",\"Kings XI Punjab\",\"Kings XI Punjab\",\"Kings XI Punjab\",\"Kings XI Punjab\"],\"xaxis\":\"x\",\"y\":[1,1,1,1,1,1,1,1,1,1,1,1,1,1,1,1,1,1,1,1,1,1,1,1,1,1,1,1,1,1,1,1,1,1,1,1,1,1,1,1,1,1,1,1,1,1,1,1,1,1,1,1,1,1,1,1,1,1,1,1,1,1,1],\"yaxis\":\"y\",\"type\":\"bar\"},{\"alignmentgroup\":\"True\",\"hovertemplate\":\"winner=%{x}\\u003cbr\\u003ecount=%{y}\\u003cextra\\u003e\\u003c\\u002fextra\\u003e\",\"legendgroup\":\"Deccan Chargers\",\"marker\":{\"color\":\"#FF6692\",\"pattern\":{\"shape\":\"\"}},\"name\":\"Deccan Chargers\",\"offsetgroup\":\"Deccan Chargers\",\"orientation\":\"v\",\"showlegend\":true,\"textposition\":\"auto\",\"x\":[\"Deccan Chargers\",\"Deccan Chargers\",\"Deccan Chargers\",\"Deccan Chargers\",\"Deccan Chargers\",\"Deccan Chargers\",\"Deccan Chargers\",\"Deccan Chargers\",\"Deccan Chargers\",\"Deccan Chargers\",\"Deccan Chargers\",\"Deccan Chargers\",\"Deccan Chargers\",\"Deccan Chargers\",\"Deccan Chargers\",\"Deccan Chargers\",\"Deccan Chargers\",\"Deccan Chargers\",\"Deccan Chargers\",\"Deccan Chargers\",\"Deccan Chargers\",\"Deccan Chargers\",\"Deccan Chargers\",\"Deccan Chargers\",\"Deccan Chargers\",\"Deccan Chargers\",\"Deccan Chargers\",\"Deccan Chargers\",\"Deccan Chargers\"],\"xaxis\":\"x\",\"y\":[1,1,1,1,1,1,1,1,1,1,1,1,1,1,1,1,1,1,1,1,1,1,1,1,1,1,1,1,1],\"yaxis\":\"y\",\"type\":\"bar\"},{\"alignmentgroup\":\"True\",\"hovertemplate\":\"winner=%{x}\\u003cbr\\u003ecount=%{y}\\u003cextra\\u003e\\u003c\\u002fextra\\u003e\",\"legendgroup\":\"Mumbai Indians\",\"marker\":{\"color\":\"#B6E880\",\"pattern\":{\"shape\":\"\"}},\"name\":\"Mumbai Indians\",\"offsetgroup\":\"Mumbai Indians\",\"orientation\":\"v\",\"showlegend\":true,\"textposition\":\"auto\",\"x\":[\"Mumbai Indians\",\"Mumbai Indians\",\"Mumbai Indians\",\"Mumbai Indians\",\"Mumbai Indians\",\"Mumbai Indians\",\"Mumbai Indians\",\"Mumbai Indians\",\"Mumbai Indians\",\"Mumbai Indians\",\"Mumbai Indians\",\"Mumbai Indians\",\"Mumbai Indians\",\"Mumbai Indians\",\"Mumbai Indians\",\"Mumbai Indians\",\"Mumbai Indians\",\"Mumbai Indians\",\"Mumbai Indians\",\"Mumbai Indians\",\"Mumbai Indians\",\"Mumbai Indians\",\"Mumbai Indians\",\"Mumbai Indians\",\"Mumbai Indians\",\"Mumbai Indians\",\"Mumbai Indians\",\"Mumbai Indians\",\"Mumbai Indians\",\"Mumbai Indians\",\"Mumbai Indians\",\"Mumbai Indians\",\"Mumbai Indians\",\"Mumbai Indians\",\"Mumbai Indians\",\"Mumbai Indians\",\"Mumbai Indians\",\"Mumbai Indians\",\"Mumbai Indians\",\"Mumbai Indians\",\"Mumbai Indians\",\"Mumbai Indians\",\"Mumbai Indians\",\"Mumbai Indians\",\"Mumbai Indians\",\"Mumbai Indians\",\"Mumbai Indians\",\"Mumbai Indians\",\"Mumbai Indians\",\"Mumbai Indians\",\"Mumbai Indians\",\"Mumbai Indians\",\"Mumbai Indians\",\"Mumbai Indians\",\"Mumbai Indians\",\"Mumbai Indians\",\"Mumbai Indians\",\"Mumbai Indians\",\"Mumbai Indians\",\"Mumbai Indians\",\"Mumbai Indians\",\"Mumbai Indians\",\"Mumbai Indians\",\"Mumbai Indians\",\"Mumbai Indians\",\"Mumbai Indians\",\"Mumbai Indians\",\"Mumbai Indians\",\"Mumbai Indians\",\"Mumbai Indians\",\"Mumbai Indians\",\"Mumbai Indians\",\"Mumbai Indians\",\"Mumbai Indians\",\"Mumbai Indians\",\"Mumbai Indians\",\"Mumbai Indians\",\"Mumbai Indians\",\"Mumbai Indians\",\"Mumbai Indians\"],\"xaxis\":\"x\",\"y\":[1,1,1,1,1,1,1,1,1,1,1,1,1,1,1,1,1,1,1,1,1,1,1,1,1,1,1,1,1,1,1,1,1,1,1,1,1,1,1,1,1,1,1,1,1,1,1,1,1,1,1,1,1,1,1,1,1,1,1,1,1,1,1,1,1,1,1,1,1,1,1,1,1,1,1,1,1,1,1,1],\"yaxis\":\"y\",\"type\":\"bar\"},{\"alignmentgroup\":\"True\",\"hovertemplate\":\"winner=%{x}\\u003cbr\\u003ecount=%{y}\\u003cextra\\u003e\\u003c\\u002fextra\\u003e\",\"legendgroup\":\"Pune Warriors\",\"marker\":{\"color\":\"#FF97FF\",\"pattern\":{\"shape\":\"\"}},\"name\":\"Pune Warriors\",\"offsetgroup\":\"Pune Warriors\",\"orientation\":\"v\",\"showlegend\":true,\"textposition\":\"auto\",\"x\":[\"Pune Warriors\",\"Pune Warriors\",\"Pune Warriors\",\"Pune Warriors\",\"Pune Warriors\",\"Pune Warriors\",\"Pune Warriors\",\"Pune Warriors\",\"Pune Warriors\",\"Pune Warriors\",\"Pune Warriors\",\"Pune Warriors\"],\"xaxis\":\"x\",\"y\":[1,1,1,1,1,1,1,1,1,1,1,1],\"yaxis\":\"y\",\"type\":\"bar\"},{\"alignmentgroup\":\"True\",\"hovertemplate\":\"winner=%{x}\\u003cbr\\u003ecount=%{y}\\u003cextra\\u003e\\u003c\\u002fextra\\u003e\",\"legendgroup\":\"Kochi Tuskers Kerala\",\"marker\":{\"color\":\"#FECB52\",\"pattern\":{\"shape\":\"\"}},\"name\":\"Kochi Tuskers Kerala\",\"offsetgroup\":\"Kochi Tuskers Kerala\",\"orientation\":\"v\",\"showlegend\":true,\"textposition\":\"auto\",\"x\":[\"Kochi Tuskers Kerala\",\"Kochi Tuskers Kerala\",\"Kochi Tuskers Kerala\",\"Kochi Tuskers Kerala\",\"Kochi Tuskers Kerala\",\"Kochi Tuskers Kerala\"],\"xaxis\":\"x\",\"y\":[1,1,1,1,1,1],\"yaxis\":\"y\",\"type\":\"bar\"},{\"alignmentgroup\":\"True\",\"hovertemplate\":\"winner=%{x}\\u003cbr\\u003ecount=%{y}\\u003cextra\\u003e\\u003c\\u002fextra\\u003e\",\"legendgroup\":\"Sunrisers Hyderabad\",\"marker\":{\"color\":\"#EF553B\",\"pattern\":{\"shape\":\"\"}},\"name\":\"Sunrisers Hyderabad\",\"offsetgroup\":\"Sunrisers Hyderabad\",\"orientation\":\"v\",\"showlegend\":true,\"textposition\":\"auto\",\"x\":[\"Sunrisers Hyderabad\",\"Sunrisers Hyderabad\",\"Sunrisers Hyderabad\",\"Sunrisers Hyderabad\",\"Sunrisers Hyderabad\",\"Sunrisers Hyderabad\",\"Sunrisers Hyderabad\",\"Sunrisers Hyderabad\",\"Sunrisers Hyderabad\",\"Sunrisers Hyderabad\",\"Sunrisers Hyderabad\",\"Sunrisers Hyderabad\",\"Sunrisers Hyderabad\",\"Sunrisers Hyderabad\",\"Sunrisers Hyderabad\",\"Sunrisers Hyderabad\",\"Sunrisers Hyderabad\",\"Sunrisers Hyderabad\",\"Sunrisers Hyderabad\",\"Sunrisers Hyderabad\",\"Sunrisers Hyderabad\",\"Sunrisers Hyderabad\",\"Sunrisers Hyderabad\",\"Sunrisers Hyderabad\",\"Sunrisers Hyderabad\",\"Sunrisers Hyderabad\",\"Sunrisers Hyderabad\",\"Sunrisers Hyderabad\",\"Sunrisers Hyderabad\",\"Sunrisers Hyderabad\",\"Sunrisers Hyderabad\",\"Sunrisers Hyderabad\",\"Sunrisers Hyderabad\",\"Sunrisers Hyderabad\"],\"xaxis\":\"x\",\"y\":[1,1,1,1,1,1,1,1,1,1,1,1,1,1,1,1,1,1,1,1,1,1,1,1,1,1,1,1,1,1,1,1,1,1],\"yaxis\":\"y\",\"type\":\"bar\"},{\"alignmentgroup\":\"True\",\"hovertemplate\":\"winner=%{x}\\u003cbr\\u003ecount=%{y}\\u003cextra\\u003e\\u003c\\u002fextra\\u003e\",\"legendgroup\":\"Rising Pune Supergiants\",\"marker\":{\"color\":\"#00cc96\",\"pattern\":{\"shape\":\"\"}},\"name\":\"Rising Pune Supergiants\",\"offsetgroup\":\"Rising Pune Supergiants\",\"orientation\":\"v\",\"showlegend\":true,\"textposition\":\"auto\",\"x\":[\"Rising Pune Supergiants\",\"Rising Pune Supergiants\",\"Rising Pune Supergiants\",\"Rising Pune Supergiants\",\"Rising Pune Supergiants\"],\"xaxis\":\"x\",\"y\":[1,1,1,1,1],\"yaxis\":\"y\",\"type\":\"bar\"},{\"alignmentgroup\":\"True\",\"hovertemplate\":\"winner=%{x}\\u003cbr\\u003ecount=%{y}\\u003cextra\\u003e\\u003c\\u002fextra\\u003e\",\"legendgroup\":\"Gujarat Lions\",\"marker\":{\"color\":\"#ab63fa\",\"pattern\":{\"shape\":\"\"}},\"name\":\"Gujarat Lions\",\"offsetgroup\":\"Gujarat Lions\",\"orientation\":\"v\",\"showlegend\":true,\"textposition\":\"auto\",\"x\":[\"Gujarat Lions\",\"Gujarat Lions\",\"Gujarat Lions\",\"Gujarat Lions\",\"Gujarat Lions\",\"Gujarat Lions\",\"Gujarat Lions\",\"Gujarat Lions\",\"Gujarat Lions\"],\"xaxis\":\"x\",\"y\":[1,1,1,1,1,1,1,1,1],\"yaxis\":\"y\",\"type\":\"bar\"}],                        {\"template\":{\"data\":{\"histogram2dcontour\":[{\"type\":\"histogram2dcontour\",\"colorbar\":{\"outlinewidth\":0,\"ticks\":\"\"},\"colorscale\":[[0.0,\"#0d0887\"],[0.1111111111111111,\"#46039f\"],[0.2222222222222222,\"#7201a8\"],[0.3333333333333333,\"#9c179e\"],[0.4444444444444444,\"#bd3786\"],[0.5555555555555556,\"#d8576b\"],[0.6666666666666666,\"#ed7953\"],[0.7777777777777778,\"#fb9f3a\"],[0.8888888888888888,\"#fdca26\"],[1.0,\"#f0f921\"]]}],\"choropleth\":[{\"type\":\"choropleth\",\"colorbar\":{\"outlinewidth\":0,\"ticks\":\"\"}}],\"histogram2d\":[{\"type\":\"histogram2d\",\"colorbar\":{\"outlinewidth\":0,\"ticks\":\"\"},\"colorscale\":[[0.0,\"#0d0887\"],[0.1111111111111111,\"#46039f\"],[0.2222222222222222,\"#7201a8\"],[0.3333333333333333,\"#9c179e\"],[0.4444444444444444,\"#bd3786\"],[0.5555555555555556,\"#d8576b\"],[0.6666666666666666,\"#ed7953\"],[0.7777777777777778,\"#fb9f3a\"],[0.8888888888888888,\"#fdca26\"],[1.0,\"#f0f921\"]]}],\"heatmap\":[{\"type\":\"heatmap\",\"colorbar\":{\"outlinewidth\":0,\"ticks\":\"\"},\"colorscale\":[[0.0,\"#0d0887\"],[0.1111111111111111,\"#46039f\"],[0.2222222222222222,\"#7201a8\"],[0.3333333333333333,\"#9c179e\"],[0.4444444444444444,\"#bd3786\"],[0.5555555555555556,\"#d8576b\"],[0.6666666666666666,\"#ed7953\"],[0.7777777777777778,\"#fb9f3a\"],[0.8888888888888888,\"#fdca26\"],[1.0,\"#f0f921\"]]}],\"heatmapgl\":[{\"type\":\"heatmapgl\",\"colorbar\":{\"outlinewidth\":0,\"ticks\":\"\"},\"colorscale\":[[0.0,\"#0d0887\"],[0.1111111111111111,\"#46039f\"],[0.2222222222222222,\"#7201a8\"],[0.3333333333333333,\"#9c179e\"],[0.4444444444444444,\"#bd3786\"],[0.5555555555555556,\"#d8576b\"],[0.6666666666666666,\"#ed7953\"],[0.7777777777777778,\"#fb9f3a\"],[0.8888888888888888,\"#fdca26\"],[1.0,\"#f0f921\"]]}],\"contourcarpet\":[{\"type\":\"contourcarpet\",\"colorbar\":{\"outlinewidth\":0,\"ticks\":\"\"}}],\"contour\":[{\"type\":\"contour\",\"colorbar\":{\"outlinewidth\":0,\"ticks\":\"\"},\"colorscale\":[[0.0,\"#0d0887\"],[0.1111111111111111,\"#46039f\"],[0.2222222222222222,\"#7201a8\"],[0.3333333333333333,\"#9c179e\"],[0.4444444444444444,\"#bd3786\"],[0.5555555555555556,\"#d8576b\"],[0.6666666666666666,\"#ed7953\"],[0.7777777777777778,\"#fb9f3a\"],[0.8888888888888888,\"#fdca26\"],[1.0,\"#f0f921\"]]}],\"surface\":[{\"type\":\"surface\",\"colorbar\":{\"outlinewidth\":0,\"ticks\":\"\"},\"colorscale\":[[0.0,\"#0d0887\"],[0.1111111111111111,\"#46039f\"],[0.2222222222222222,\"#7201a8\"],[0.3333333333333333,\"#9c179e\"],[0.4444444444444444,\"#bd3786\"],[0.5555555555555556,\"#d8576b\"],[0.6666666666666666,\"#ed7953\"],[0.7777777777777778,\"#fb9f3a\"],[0.8888888888888888,\"#fdca26\"],[1.0,\"#f0f921\"]]}],\"mesh3d\":[{\"type\":\"mesh3d\",\"colorbar\":{\"outlinewidth\":0,\"ticks\":\"\"}}],\"scatter\":[{\"fillpattern\":{\"fillmode\":\"overlay\",\"size\":10,\"solidity\":0.2},\"type\":\"scatter\"}],\"parcoords\":[{\"type\":\"parcoords\",\"line\":{\"colorbar\":{\"outlinewidth\":0,\"ticks\":\"\"}}}],\"scatterpolargl\":[{\"type\":\"scatterpolargl\",\"marker\":{\"colorbar\":{\"outlinewidth\":0,\"ticks\":\"\"}}}],\"bar\":[{\"error_x\":{\"color\":\"#2a3f5f\"},\"error_y\":{\"color\":\"#2a3f5f\"},\"marker\":{\"line\":{\"color\":\"#E5ECF6\",\"width\":0.5},\"pattern\":{\"fillmode\":\"overlay\",\"size\":10,\"solidity\":0.2}},\"type\":\"bar\"}],\"scattergeo\":[{\"type\":\"scattergeo\",\"marker\":{\"colorbar\":{\"outlinewidth\":0,\"ticks\":\"\"}}}],\"scatterpolar\":[{\"type\":\"scatterpolar\",\"marker\":{\"colorbar\":{\"outlinewidth\":0,\"ticks\":\"\"}}}],\"histogram\":[{\"marker\":{\"pattern\":{\"fillmode\":\"overlay\",\"size\":10,\"solidity\":0.2}},\"type\":\"histogram\"}],\"scattergl\":[{\"type\":\"scattergl\",\"marker\":{\"colorbar\":{\"outlinewidth\":0,\"ticks\":\"\"}}}],\"scatter3d\":[{\"type\":\"scatter3d\",\"line\":{\"colorbar\":{\"outlinewidth\":0,\"ticks\":\"\"}},\"marker\":{\"colorbar\":{\"outlinewidth\":0,\"ticks\":\"\"}}}],\"scattermapbox\":[{\"type\":\"scattermapbox\",\"marker\":{\"colorbar\":{\"outlinewidth\":0,\"ticks\":\"\"}}}],\"scatterternary\":[{\"type\":\"scatterternary\",\"marker\":{\"colorbar\":{\"outlinewidth\":0,\"ticks\":\"\"}}}],\"scattercarpet\":[{\"type\":\"scattercarpet\",\"marker\":{\"colorbar\":{\"outlinewidth\":0,\"ticks\":\"\"}}}],\"carpet\":[{\"aaxis\":{\"endlinecolor\":\"#2a3f5f\",\"gridcolor\":\"white\",\"linecolor\":\"white\",\"minorgridcolor\":\"white\",\"startlinecolor\":\"#2a3f5f\"},\"baxis\":{\"endlinecolor\":\"#2a3f5f\",\"gridcolor\":\"white\",\"linecolor\":\"white\",\"minorgridcolor\":\"white\",\"startlinecolor\":\"#2a3f5f\"},\"type\":\"carpet\"}],\"table\":[{\"cells\":{\"fill\":{\"color\":\"#EBF0F8\"},\"line\":{\"color\":\"white\"}},\"header\":{\"fill\":{\"color\":\"#C8D4E3\"},\"line\":{\"color\":\"white\"}},\"type\":\"table\"}],\"barpolar\":[{\"marker\":{\"line\":{\"color\":\"#E5ECF6\",\"width\":0.5},\"pattern\":{\"fillmode\":\"overlay\",\"size\":10,\"solidity\":0.2}},\"type\":\"barpolar\"}],\"pie\":[{\"automargin\":true,\"type\":\"pie\"}]},\"layout\":{\"autotypenumbers\":\"strict\",\"colorway\":[\"#636efa\",\"#EF553B\",\"#00cc96\",\"#ab63fa\",\"#FFA15A\",\"#19d3f3\",\"#FF6692\",\"#B6E880\",\"#FF97FF\",\"#FECB52\"],\"font\":{\"color\":\"#2a3f5f\"},\"hovermode\":\"closest\",\"hoverlabel\":{\"align\":\"left\"},\"paper_bgcolor\":\"white\",\"plot_bgcolor\":\"#E5ECF6\",\"polar\":{\"bgcolor\":\"#E5ECF6\",\"angularaxis\":{\"gridcolor\":\"white\",\"linecolor\":\"white\",\"ticks\":\"\"},\"radialaxis\":{\"gridcolor\":\"white\",\"linecolor\":\"white\",\"ticks\":\"\"}},\"ternary\":{\"bgcolor\":\"#E5ECF6\",\"aaxis\":{\"gridcolor\":\"white\",\"linecolor\":\"white\",\"ticks\":\"\"},\"baxis\":{\"gridcolor\":\"white\",\"linecolor\":\"white\",\"ticks\":\"\"},\"caxis\":{\"gridcolor\":\"white\",\"linecolor\":\"white\",\"ticks\":\"\"}},\"coloraxis\":{\"colorbar\":{\"outlinewidth\":0,\"ticks\":\"\"}},\"colorscale\":{\"sequential\":[[0.0,\"#0d0887\"],[0.1111111111111111,\"#46039f\"],[0.2222222222222222,\"#7201a8\"],[0.3333333333333333,\"#9c179e\"],[0.4444444444444444,\"#bd3786\"],[0.5555555555555556,\"#d8576b\"],[0.6666666666666666,\"#ed7953\"],[0.7777777777777778,\"#fb9f3a\"],[0.8888888888888888,\"#fdca26\"],[1.0,\"#f0f921\"]],\"sequentialminus\":[[0.0,\"#0d0887\"],[0.1111111111111111,\"#46039f\"],[0.2222222222222222,\"#7201a8\"],[0.3333333333333333,\"#9c179e\"],[0.4444444444444444,\"#bd3786\"],[0.5555555555555556,\"#d8576b\"],[0.6666666666666666,\"#ed7953\"],[0.7777777777777778,\"#fb9f3a\"],[0.8888888888888888,\"#fdca26\"],[1.0,\"#f0f921\"]],\"diverging\":[[0,\"#8e0152\"],[0.1,\"#c51b7d\"],[0.2,\"#de77ae\"],[0.3,\"#f1b6da\"],[0.4,\"#fde0ef\"],[0.5,\"#f7f7f7\"],[0.6,\"#e6f5d0\"],[0.7,\"#b8e186\"],[0.8,\"#7fbc41\"],[0.9,\"#4d9221\"],[1,\"#276419\"]]},\"xaxis\":{\"gridcolor\":\"white\",\"linecolor\":\"white\",\"ticks\":\"\",\"title\":{\"standoff\":15},\"zerolinecolor\":\"white\",\"automargin\":true,\"zerolinewidth\":2},\"yaxis\":{\"gridcolor\":\"white\",\"linecolor\":\"white\",\"ticks\":\"\",\"title\":{\"standoff\":15},\"zerolinecolor\":\"white\",\"automargin\":true,\"zerolinewidth\":2},\"scene\":{\"xaxis\":{\"backgroundcolor\":\"#E5ECF6\",\"gridcolor\":\"white\",\"linecolor\":\"white\",\"showbackground\":true,\"ticks\":\"\",\"zerolinecolor\":\"white\",\"gridwidth\":2},\"yaxis\":{\"backgroundcolor\":\"#E5ECF6\",\"gridcolor\":\"white\",\"linecolor\":\"white\",\"showbackground\":true,\"ticks\":\"\",\"zerolinecolor\":\"white\",\"gridwidth\":2},\"zaxis\":{\"backgroundcolor\":\"#E5ECF6\",\"gridcolor\":\"white\",\"linecolor\":\"white\",\"showbackground\":true,\"ticks\":\"\",\"zerolinecolor\":\"white\",\"gridwidth\":2}},\"shapedefaults\":{\"line\":{\"color\":\"#2a3f5f\"}},\"annotationdefaults\":{\"arrowcolor\":\"#2a3f5f\",\"arrowhead\":0,\"arrowwidth\":1},\"geo\":{\"bgcolor\":\"white\",\"landcolor\":\"#E5ECF6\",\"subunitcolor\":\"white\",\"showland\":true,\"showlakes\":true,\"lakecolor\":\"white\"},\"title\":{\"x\":0.05},\"mapbox\":{\"style\":\"light\"}}},\"xaxis\":{\"anchor\":\"y\",\"domain\":[0.0,1.0],\"title\":{\"text\":\"winner\"},\"categoryorder\":\"array\",\"categoryarray\":[\"Kolkata Knight Riders\",\"Chennai Super Kings\",\"Delhi Daredevils\",\"Royal Challengers Bangalore\",\"Rajasthan Royals\",\"Kings XI Punjab\",\"Deccan Chargers\",\"Mumbai Indians\",\"Pune Warriors\",\"Kochi Tuskers Kerala\",null,\"Sunrisers Hyderabad\",\"Rising Pune Supergiants\",\"Gujarat Lions\"]},\"yaxis\":{\"anchor\":\"x\",\"domain\":[0.0,1.0],\"title\":{\"text\":\"count\"}},\"legend\":{\"title\":{\"text\":\"winner\"},\"tracegroupgap\":0},\"title\":{\"text\":\"Number of matches won by each IPL team in 2022\"},\"barmode\":\"relative\",\"height\":600,\"width\":900},                        {\"responsive\": true}                    ).then(function(){\n",
       "                            \n",
       "var gd = document.getElementById('b320b235-1f49-453f-8ba4-ac6355109d1a');\n",
       "var x = new MutationObserver(function (mutations, observer) {{\n",
       "        var display = window.getComputedStyle(gd).display;\n",
       "        if (!display || display === 'none') {{\n",
       "            console.log([gd, 'removed!']);\n",
       "            Plotly.purge(gd);\n",
       "            observer.disconnect();\n",
       "        }}\n",
       "}});\n",
       "\n",
       "// Listen for the removal of the full notebook cells\n",
       "var notebookContainer = gd.closest('#notebook-container');\n",
       "if (notebookContainer) {{\n",
       "    x.observe(notebookContainer, {childList: true});\n",
       "}}\n",
       "\n",
       "// Listen for the clearing of the current output cell\n",
       "var outputEl = gd.closest('.output');\n",
       "if (outputEl) {{\n",
       "    x.observe(outputEl, {childList: true});\n",
       "}}\n",
       "\n",
       "                        })                };                });            </script>        </div>"
      ]
     },
     "metadata": {},
     "output_type": "display_data"
    }
   ],
   "source": [
    "fig=px.bar(data1,x='winner',title = \"Number of matches won by each IPL team in 2022\",color= 'winner',color_continuous_scale=\"viridis\")\n",
    "fig.update_layout(height=600,width = 900)\n",
    "fig.show()"
   ]
  },
  {
   "cell_type": "markdown",
   "id": "a992c940-2b7f-48e9-a269-7263e87df781",
   "metadata": {},
   "source": [
    "# Distribution of wins based on runs and wickets"
   ]
  },
  {
   "cell_type": "code",
   "execution_count": 26,
   "id": "5f7d5b4c-ada8-4532-950c-c82448ba6847",
   "metadata": {},
   "outputs": [
    {
     "data": {
      "application/vnd.plotly.v1+json": {
       "config": {
        "plotlyServerURL": "https://plot.ly"
       },
       "data": [
        {
         "hole": 0.2,
         "labels": [
          "Won by Runs",
          "Won by Wickets"
         ],
         "marker": {
          "colors": [
           "FF9999",
           "#66B3FF"
          ],
          "line": {
           "color": "Black",
           "width": 3
          }
         },
         "textinfo": "label+percent",
         "type": "pie",
         "values": [
          261,
          307
         ]
        }
       ],
       "layout": {
        "autosize": true,
        "template": {
         "data": {
          "bar": [
           {
            "error_x": {
             "color": "#2a3f5f"
            },
            "error_y": {
             "color": "#2a3f5f"
            },
            "marker": {
             "line": {
              "color": "#E5ECF6",
              "width": 0.5
             },
             "pattern": {
              "fillmode": "overlay",
              "size": 10,
              "solidity": 0.2
             }
            },
            "type": "bar"
           }
          ],
          "barpolar": [
           {
            "marker": {
             "line": {
              "color": "#E5ECF6",
              "width": 0.5
             },
             "pattern": {
              "fillmode": "overlay",
              "size": 10,
              "solidity": 0.2
             }
            },
            "type": "barpolar"
           }
          ],
          "carpet": [
           {
            "aaxis": {
             "endlinecolor": "#2a3f5f",
             "gridcolor": "white",
             "linecolor": "white",
             "minorgridcolor": "white",
             "startlinecolor": "#2a3f5f"
            },
            "baxis": {
             "endlinecolor": "#2a3f5f",
             "gridcolor": "white",
             "linecolor": "white",
             "minorgridcolor": "white",
             "startlinecolor": "#2a3f5f"
            },
            "type": "carpet"
           }
          ],
          "choropleth": [
           {
            "colorbar": {
             "outlinewidth": 0,
             "ticks": ""
            },
            "type": "choropleth"
           }
          ],
          "contour": [
           {
            "colorbar": {
             "outlinewidth": 0,
             "ticks": ""
            },
            "colorscale": [
             [
              0,
              "#0d0887"
             ],
             [
              0.1111111111111111,
              "#46039f"
             ],
             [
              0.2222222222222222,
              "#7201a8"
             ],
             [
              0.3333333333333333,
              "#9c179e"
             ],
             [
              0.4444444444444444,
              "#bd3786"
             ],
             [
              0.5555555555555556,
              "#d8576b"
             ],
             [
              0.6666666666666666,
              "#ed7953"
             ],
             [
              0.7777777777777778,
              "#fb9f3a"
             ],
             [
              0.8888888888888888,
              "#fdca26"
             ],
             [
              1,
              "#f0f921"
             ]
            ],
            "type": "contour"
           }
          ],
          "contourcarpet": [
           {
            "colorbar": {
             "outlinewidth": 0,
             "ticks": ""
            },
            "type": "contourcarpet"
           }
          ],
          "heatmap": [
           {
            "colorbar": {
             "outlinewidth": 0,
             "ticks": ""
            },
            "colorscale": [
             [
              0,
              "#0d0887"
             ],
             [
              0.1111111111111111,
              "#46039f"
             ],
             [
              0.2222222222222222,
              "#7201a8"
             ],
             [
              0.3333333333333333,
              "#9c179e"
             ],
             [
              0.4444444444444444,
              "#bd3786"
             ],
             [
              0.5555555555555556,
              "#d8576b"
             ],
             [
              0.6666666666666666,
              "#ed7953"
             ],
             [
              0.7777777777777778,
              "#fb9f3a"
             ],
             [
              0.8888888888888888,
              "#fdca26"
             ],
             [
              1,
              "#f0f921"
             ]
            ],
            "type": "heatmap"
           }
          ],
          "heatmapgl": [
           {
            "colorbar": {
             "outlinewidth": 0,
             "ticks": ""
            },
            "colorscale": [
             [
              0,
              "#0d0887"
             ],
             [
              0.1111111111111111,
              "#46039f"
             ],
             [
              0.2222222222222222,
              "#7201a8"
             ],
             [
              0.3333333333333333,
              "#9c179e"
             ],
             [
              0.4444444444444444,
              "#bd3786"
             ],
             [
              0.5555555555555556,
              "#d8576b"
             ],
             [
              0.6666666666666666,
              "#ed7953"
             ],
             [
              0.7777777777777778,
              "#fb9f3a"
             ],
             [
              0.8888888888888888,
              "#fdca26"
             ],
             [
              1,
              "#f0f921"
             ]
            ],
            "type": "heatmapgl"
           }
          ],
          "histogram": [
           {
            "marker": {
             "pattern": {
              "fillmode": "overlay",
              "size": 10,
              "solidity": 0.2
             }
            },
            "type": "histogram"
           }
          ],
          "histogram2d": [
           {
            "colorbar": {
             "outlinewidth": 0,
             "ticks": ""
            },
            "colorscale": [
             [
              0,
              "#0d0887"
             ],
             [
              0.1111111111111111,
              "#46039f"
             ],
             [
              0.2222222222222222,
              "#7201a8"
             ],
             [
              0.3333333333333333,
              "#9c179e"
             ],
             [
              0.4444444444444444,
              "#bd3786"
             ],
             [
              0.5555555555555556,
              "#d8576b"
             ],
             [
              0.6666666666666666,
              "#ed7953"
             ],
             [
              0.7777777777777778,
              "#fb9f3a"
             ],
             [
              0.8888888888888888,
              "#fdca26"
             ],
             [
              1,
              "#f0f921"
             ]
            ],
            "type": "histogram2d"
           }
          ],
          "histogram2dcontour": [
           {
            "colorbar": {
             "outlinewidth": 0,
             "ticks": ""
            },
            "colorscale": [
             [
              0,
              "#0d0887"
             ],
             [
              0.1111111111111111,
              "#46039f"
             ],
             [
              0.2222222222222222,
              "#7201a8"
             ],
             [
              0.3333333333333333,
              "#9c179e"
             ],
             [
              0.4444444444444444,
              "#bd3786"
             ],
             [
              0.5555555555555556,
              "#d8576b"
             ],
             [
              0.6666666666666666,
              "#ed7953"
             ],
             [
              0.7777777777777778,
              "#fb9f3a"
             ],
             [
              0.8888888888888888,
              "#fdca26"
             ],
             [
              1,
              "#f0f921"
             ]
            ],
            "type": "histogram2dcontour"
           }
          ],
          "mesh3d": [
           {
            "colorbar": {
             "outlinewidth": 0,
             "ticks": ""
            },
            "type": "mesh3d"
           }
          ],
          "parcoords": [
           {
            "line": {
             "colorbar": {
              "outlinewidth": 0,
              "ticks": ""
             }
            },
            "type": "parcoords"
           }
          ],
          "pie": [
           {
            "automargin": true,
            "type": "pie"
           }
          ],
          "scatter": [
           {
            "fillpattern": {
             "fillmode": "overlay",
             "size": 10,
             "solidity": 0.2
            },
            "type": "scatter"
           }
          ],
          "scatter3d": [
           {
            "line": {
             "colorbar": {
              "outlinewidth": 0,
              "ticks": ""
             }
            },
            "marker": {
             "colorbar": {
              "outlinewidth": 0,
              "ticks": ""
             }
            },
            "type": "scatter3d"
           }
          ],
          "scattercarpet": [
           {
            "marker": {
             "colorbar": {
              "outlinewidth": 0,
              "ticks": ""
             }
            },
            "type": "scattercarpet"
           }
          ],
          "scattergeo": [
           {
            "marker": {
             "colorbar": {
              "outlinewidth": 0,
              "ticks": ""
             }
            },
            "type": "scattergeo"
           }
          ],
          "scattergl": [
           {
            "marker": {
             "colorbar": {
              "outlinewidth": 0,
              "ticks": ""
             }
            },
            "type": "scattergl"
           }
          ],
          "scattermapbox": [
           {
            "marker": {
             "colorbar": {
              "outlinewidth": 0,
              "ticks": ""
             }
            },
            "type": "scattermapbox"
           }
          ],
          "scatterpolar": [
           {
            "marker": {
             "colorbar": {
              "outlinewidth": 0,
              "ticks": ""
             }
            },
            "type": "scatterpolar"
           }
          ],
          "scatterpolargl": [
           {
            "marker": {
             "colorbar": {
              "outlinewidth": 0,
              "ticks": ""
             }
            },
            "type": "scatterpolargl"
           }
          ],
          "scatterternary": [
           {
            "marker": {
             "colorbar": {
              "outlinewidth": 0,
              "ticks": ""
             }
            },
            "type": "scatterternary"
           }
          ],
          "surface": [
           {
            "colorbar": {
             "outlinewidth": 0,
             "ticks": ""
            },
            "colorscale": [
             [
              0,
              "#0d0887"
             ],
             [
              0.1111111111111111,
              "#46039f"
             ],
             [
              0.2222222222222222,
              "#7201a8"
             ],
             [
              0.3333333333333333,
              "#9c179e"
             ],
             [
              0.4444444444444444,
              "#bd3786"
             ],
             [
              0.5555555555555556,
              "#d8576b"
             ],
             [
              0.6666666666666666,
              "#ed7953"
             ],
             [
              0.7777777777777778,
              "#fb9f3a"
             ],
             [
              0.8888888888888888,
              "#fdca26"
             ],
             [
              1,
              "#f0f921"
             ]
            ],
            "type": "surface"
           }
          ],
          "table": [
           {
            "cells": {
             "fill": {
              "color": "#EBF0F8"
             },
             "line": {
              "color": "white"
             }
            },
            "header": {
             "fill": {
              "color": "#C8D4E3"
             },
             "line": {
              "color": "white"
             }
            },
            "type": "table"
           }
          ]
         },
         "layout": {
          "annotationdefaults": {
           "arrowcolor": "#2a3f5f",
           "arrowhead": 0,
           "arrowwidth": 1
          },
          "autotypenumbers": "strict",
          "coloraxis": {
           "colorbar": {
            "outlinewidth": 0,
            "ticks": ""
           }
          },
          "colorscale": {
           "diverging": [
            [
             0,
             "#8e0152"
            ],
            [
             0.1,
             "#c51b7d"
            ],
            [
             0.2,
             "#de77ae"
            ],
            [
             0.3,
             "#f1b6da"
            ],
            [
             0.4,
             "#fde0ef"
            ],
            [
             0.5,
             "#f7f7f7"
            ],
            [
             0.6,
             "#e6f5d0"
            ],
            [
             0.7,
             "#b8e186"
            ],
            [
             0.8,
             "#7fbc41"
            ],
            [
             0.9,
             "#4d9221"
            ],
            [
             1,
             "#276419"
            ]
           ],
           "sequential": [
            [
             0,
             "#0d0887"
            ],
            [
             0.1111111111111111,
             "#46039f"
            ],
            [
             0.2222222222222222,
             "#7201a8"
            ],
            [
             0.3333333333333333,
             "#9c179e"
            ],
            [
             0.4444444444444444,
             "#bd3786"
            ],
            [
             0.5555555555555556,
             "#d8576b"
            ],
            [
             0.6666666666666666,
             "#ed7953"
            ],
            [
             0.7777777777777778,
             "#fb9f3a"
            ],
            [
             0.8888888888888888,
             "#fdca26"
            ],
            [
             1,
             "#f0f921"
            ]
           ],
           "sequentialminus": [
            [
             0,
             "#0d0887"
            ],
            [
             0.1111111111111111,
             "#46039f"
            ],
            [
             0.2222222222222222,
             "#7201a8"
            ],
            [
             0.3333333333333333,
             "#9c179e"
            ],
            [
             0.4444444444444444,
             "#bd3786"
            ],
            [
             0.5555555555555556,
             "#d8576b"
            ],
            [
             0.6666666666666666,
             "#ed7953"
            ],
            [
             0.7777777777777778,
             "#fb9f3a"
            ],
            [
             0.8888888888888888,
             "#fdca26"
            ],
            [
             1,
             "#f0f921"
            ]
           ]
          },
          "colorway": [
           "#636efa",
           "#EF553B",
           "#00cc96",
           "#ab63fa",
           "#FFA15A",
           "#19d3f3",
           "#FF6692",
           "#B6E880",
           "#FF97FF",
           "#FECB52"
          ],
          "font": {
           "color": "#2a3f5f"
          },
          "geo": {
           "bgcolor": "white",
           "lakecolor": "white",
           "landcolor": "#E5ECF6",
           "showlakes": true,
           "showland": true,
           "subunitcolor": "white"
          },
          "hoverlabel": {
           "align": "left"
          },
          "hovermode": "closest",
          "mapbox": {
           "style": "light"
          },
          "paper_bgcolor": "white",
          "plot_bgcolor": "#E5ECF6",
          "polar": {
           "angularaxis": {
            "gridcolor": "white",
            "linecolor": "white",
            "ticks": ""
           },
           "bgcolor": "#E5ECF6",
           "radialaxis": {
            "gridcolor": "white",
            "linecolor": "white",
            "ticks": ""
           }
          },
          "scene": {
           "xaxis": {
            "backgroundcolor": "#E5ECF6",
            "gridcolor": "white",
            "gridwidth": 2,
            "linecolor": "white",
            "showbackground": true,
            "ticks": "",
            "zerolinecolor": "white"
           },
           "yaxis": {
            "backgroundcolor": "#E5ECF6",
            "gridcolor": "white",
            "gridwidth": 2,
            "linecolor": "white",
            "showbackground": true,
            "ticks": "",
            "zerolinecolor": "white"
           },
           "zaxis": {
            "backgroundcolor": "#E5ECF6",
            "gridcolor": "white",
            "gridwidth": 2,
            "linecolor": "white",
            "showbackground": true,
            "ticks": "",
            "zerolinecolor": "white"
           }
          },
          "shapedefaults": {
           "line": {
            "color": "#2a3f5f"
           }
          },
          "ternary": {
           "aaxis": {
            "gridcolor": "white",
            "linecolor": "white",
            "ticks": ""
           },
           "baxis": {
            "gridcolor": "white",
            "linecolor": "white",
            "ticks": ""
           },
           "bgcolor": "#E5ECF6",
           "caxis": {
            "gridcolor": "white",
            "linecolor": "white",
            "ticks": ""
           }
          },
          "title": {
           "x": 0.05
          },
          "xaxis": {
           "automargin": true,
           "gridcolor": "white",
           "linecolor": "white",
           "ticks": "",
           "title": {
            "standoff": 15
           },
           "zerolinecolor": "white",
           "zerolinewidth": 2
          },
          "yaxis": {
           "automargin": true,
           "gridcolor": "white",
           "linecolor": "white",
           "ticks": "",
           "title": {
            "standoff": 15
           },
           "zerolinecolor": "white",
           "zerolinewidth": 2
          }
         }
        },
        "title": {
         "text": "Distribution of Wins in IPL 2022 (By Runs vs. By Wickets)"
        }
       }
      },
      "image/png": "[encoded data removed]",
      "text/html": [
       "<div>                            <div id=\"7457658f-426e-4ba5-99d8-8152e706a0cc\" class=\"plotly-graph-div\" style=\"height:525px; width:100%;\"></div>            <script type=\"text/javascript\">                require([\"plotly\"], function(Plotly) {                    window.PLOTLYENV=window.PLOTLYENV || {};                                    if (document.getElementById(\"7457658f-426e-4ba5-99d8-8152e706a0cc\")) {                    Plotly.newPlot(                        \"7457658f-426e-4ba5-99d8-8152e706a0cc\",                        [{\"hole\":0.2,\"labels\":[\"Won by Runs\",\"Won by Wickets\"],\"marker\":{\"colors\":[\"FF9999\",\"#66B3FF\"],\"line\":{\"color\":\"Black\",\"width\":3}},\"textinfo\":\"label+percent\",\"values\":[261,307],\"type\":\"pie\"}],                        {\"template\":{\"data\":{\"histogram2dcontour\":[{\"type\":\"histogram2dcontour\",\"colorbar\":{\"outlinewidth\":0,\"ticks\":\"\"},\"colorscale\":[[0.0,\"#0d0887\"],[0.1111111111111111,\"#46039f\"],[0.2222222222222222,\"#7201a8\"],[0.3333333333333333,\"#9c179e\"],[0.4444444444444444,\"#bd3786\"],[0.5555555555555556,\"#d8576b\"],[0.6666666666666666,\"#ed7953\"],[0.7777777777777778,\"#fb9f3a\"],[0.8888888888888888,\"#fdca26\"],[1.0,\"#f0f921\"]]}],\"choropleth\":[{\"type\":\"choropleth\",\"colorbar\":{\"outlinewidth\":0,\"ticks\":\"\"}}],\"histogram2d\":[{\"type\":\"histogram2d\",\"colorbar\":{\"outlinewidth\":0,\"ticks\":\"\"},\"colorscale\":[[0.0,\"#0d0887\"],[0.1111111111111111,\"#46039f\"],[0.2222222222222222,\"#7201a8\"],[0.3333333333333333,\"#9c179e\"],[0.4444444444444444,\"#bd3786\"],[0.5555555555555556,\"#d8576b\"],[0.6666666666666666,\"#ed7953\"],[0.7777777777777778,\"#fb9f3a\"],[0.8888888888888888,\"#fdca26\"],[1.0,\"#f0f921\"]]}],\"heatmap\":[{\"type\":\"heatmap\",\"colorbar\":{\"outlinewidth\":0,\"ticks\":\"\"},\"colorscale\":[[0.0,\"#0d0887\"],[0.1111111111111111,\"#46039f\"],[0.2222222222222222,\"#7201a8\"],[0.3333333333333333,\"#9c179e\"],[0.4444444444444444,\"#bd3786\"],[0.5555555555555556,\"#d8576b\"],[0.6666666666666666,\"#ed7953\"],[0.7777777777777778,\"#fb9f3a\"],[0.8888888888888888,\"#fdca26\"],[1.0,\"#f0f921\"]]}],\"heatmapgl\":[{\"type\":\"heatmapgl\",\"colorbar\":{\"outlinewidth\":0,\"ticks\":\"\"},\"colorscale\":[[0.0,\"#0d0887\"],[0.1111111111111111,\"#46039f\"],[0.2222222222222222,\"#7201a8\"],[0.3333333333333333,\"#9c179e\"],[0.4444444444444444,\"#bd3786\"],[0.5555555555555556,\"#d8576b\"],[0.6666666666666666,\"#ed7953\"],[0.7777777777777778,\"#fb9f3a\"],[0.8888888888888888,\"#fdca26\"],[1.0,\"#f0f921\"]]}],\"contourcarpet\":[{\"type\":\"contourcarpet\",\"colorbar\":{\"outlinewidth\":0,\"ticks\":\"\"}}],\"contour\":[{\"type\":\"contour\",\"colorbar\":{\"outlinewidth\":0,\"ticks\":\"\"},\"colorscale\":[[0.0,\"#0d0887\"],[0.1111111111111111,\"#46039f\"],[0.2222222222222222,\"#7201a8\"],[0.3333333333333333,\"#9c179e\"],[0.4444444444444444,\"#bd3786\"],[0.5555555555555556,\"#d8576b\"],[0.6666666666666666,\"#ed7953\"],[0.7777777777777778,\"#fb9f3a\"],[0.8888888888888888,\"#fdca26\"],[1.0,\"#f0f921\"]]}],\"surface\":[{\"type\":\"surface\",\"colorbar\":{\"outlinewidth\":0,\"ticks\":\"\"},\"colorscale\":[[0.0,\"#0d0887\"],[0.1111111111111111,\"#46039f\"],[0.2222222222222222,\"#7201a8\"],[0.3333333333333333,\"#9c179e\"],[0.4444444444444444,\"#bd3786\"],[0.5555555555555556,\"#d8576b\"],[0.6666666666666666,\"#ed7953\"],[0.7777777777777778,\"#fb9f3a\"],[0.8888888888888888,\"#fdca26\"],[1.0,\"#f0f921\"]]}],\"mesh3d\":[{\"type\":\"mesh3d\",\"colorbar\":{\"outlinewidth\":0,\"ticks\":\"\"}}],\"scatter\":[{\"fillpattern\":{\"fillmode\":\"overlay\",\"size\":10,\"solidity\":0.2},\"type\":\"scatter\"}],\"parcoords\":[{\"type\":\"parcoords\",\"line\":{\"colorbar\":{\"outlinewidth\":0,\"ticks\":\"\"}}}],\"scatterpolargl\":[{\"type\":\"scatterpolargl\",\"marker\":{\"colorbar\":{\"outlinewidth\":0,\"ticks\":\"\"}}}],\"bar\":[{\"error_x\":{\"color\":\"#2a3f5f\"},\"error_y\":{\"color\":\"#2a3f5f\"},\"marker\":{\"line\":{\"color\":\"#E5ECF6\",\"width\":0.5},\"pattern\":{\"fillmode\":\"overlay\",\"size\":10,\"solidity\":0.2}},\"type\":\"bar\"}],\"scattergeo\":[{\"type\":\"scattergeo\",\"marker\":{\"colorbar\":{\"outlinewidth\":0,\"ticks\":\"\"}}}],\"scatterpolar\":[{\"type\":\"scatterpolar\",\"marker\":{\"colorbar\":{\"outlinewidth\":0,\"ticks\":\"\"}}}],\"histogram\":[{\"marker\":{\"pattern\":{\"fillmode\":\"overlay\",\"size\":10,\"solidity\":0.2}},\"type\":\"histogram\"}],\"scattergl\":[{\"type\":\"scattergl\",\"marker\":{\"colorbar\":{\"outlinewidth\":0,\"ticks\":\"\"}}}],\"scatter3d\":[{\"type\":\"scatter3d\",\"line\":{\"colorbar\":{\"outlinewidth\":0,\"ticks\":\"\"}},\"marker\":{\"colorbar\":{\"outlinewidth\":0,\"ticks\":\"\"}}}],\"scattermapbox\":[{\"type\":\"scattermapbox\",\"marker\":{\"colorbar\":{\"outlinewidth\":0,\"ticks\":\"\"}}}],\"scatterternary\":[{\"type\":\"scatterternary\",\"marker\":{\"colorbar\":{\"outlinewidth\":0,\"ticks\":\"\"}}}],\"scattercarpet\":[{\"type\":\"scattercarpet\",\"marker\":{\"colorbar\":{\"outlinewidth\":0,\"ticks\":\"\"}}}],\"carpet\":[{\"aaxis\":{\"endlinecolor\":\"#2a3f5f\",\"gridcolor\":\"white\",\"linecolor\":\"white\",\"minorgridcolor\":\"white\",\"startlinecolor\":\"#2a3f5f\"},\"baxis\":{\"endlinecolor\":\"#2a3f5f\",\"gridcolor\":\"white\",\"linecolor\":\"white\",\"minorgridcolor\":\"white\",\"startlinecolor\":\"#2a3f5f\"},\"type\":\"carpet\"}],\"table\":[{\"cells\":{\"fill\":{\"color\":\"#EBF0F8\"},\"line\":{\"color\":\"white\"}},\"header\":{\"fill\":{\"color\":\"#C8D4E3\"},\"line\":{\"color\":\"white\"}},\"type\":\"table\"}],\"barpolar\":[{\"marker\":{\"line\":{\"color\":\"#E5ECF6\",\"width\":0.5},\"pattern\":{\"fillmode\":\"overlay\",\"size\":10,\"solidity\":0.2}},\"type\":\"barpolar\"}],\"pie\":[{\"automargin\":true,\"type\":\"pie\"}]},\"layout\":{\"autotypenumbers\":\"strict\",\"colorway\":[\"#636efa\",\"#EF553B\",\"#00cc96\",\"#ab63fa\",\"#FFA15A\",\"#19d3f3\",\"#FF6692\",\"#B6E880\",\"#FF97FF\",\"#FECB52\"],\"font\":{\"color\":\"#2a3f5f\"},\"hovermode\":\"closest\",\"hoverlabel\":{\"align\":\"left\"},\"paper_bgcolor\":\"white\",\"plot_bgcolor\":\"#E5ECF6\",\"polar\":{\"bgcolor\":\"#E5ECF6\",\"angularaxis\":{\"gridcolor\":\"white\",\"linecolor\":\"white\",\"ticks\":\"\"},\"radialaxis\":{\"gridcolor\":\"white\",\"linecolor\":\"white\",\"ticks\":\"\"}},\"ternary\":{\"bgcolor\":\"#E5ECF6\",\"aaxis\":{\"gridcolor\":\"white\",\"linecolor\":\"white\",\"ticks\":\"\"},\"baxis\":{\"gridcolor\":\"white\",\"linecolor\":\"white\",\"ticks\":\"\"},\"caxis\":{\"gridcolor\":\"white\",\"linecolor\":\"white\",\"ticks\":\"\"}},\"coloraxis\":{\"colorbar\":{\"outlinewidth\":0,\"ticks\":\"\"}},\"colorscale\":{\"sequential\":[[0.0,\"#0d0887\"],[0.1111111111111111,\"#46039f\"],[0.2222222222222222,\"#7201a8\"],[0.3333333333333333,\"#9c179e\"],[0.4444444444444444,\"#bd3786\"],[0.5555555555555556,\"#d8576b\"],[0.6666666666666666,\"#ed7953\"],[0.7777777777777778,\"#fb9f3a\"],[0.8888888888888888,\"#fdca26\"],[1.0,\"#f0f921\"]],\"sequentialminus\":[[0.0,\"#0d0887\"],[0.1111111111111111,\"#46039f\"],[0.2222222222222222,\"#7201a8\"],[0.3333333333333333,\"#9c179e\"],[0.4444444444444444,\"#bd3786\"],[0.5555555555555556,\"#d8576b\"],[0.6666666666666666,\"#ed7953\"],[0.7777777777777778,\"#fb9f3a\"],[0.8888888888888888,\"#fdca26\"],[1.0,\"#f0f921\"]],\"diverging\":[[0,\"#8e0152\"],[0.1,\"#c51b7d\"],[0.2,\"#de77ae\"],[0.3,\"#f1b6da\"],[0.4,\"#fde0ef\"],[0.5,\"#f7f7f7\"],[0.6,\"#e6f5d0\"],[0.7,\"#b8e186\"],[0.8,\"#7fbc41\"],[0.9,\"#4d9221\"],[1,\"#276419\"]]},\"xaxis\":{\"gridcolor\":\"white\",\"linecolor\":\"white\",\"ticks\":\"\",\"title\":{\"standoff\":15},\"zerolinecolor\":\"white\",\"automargin\":true,\"zerolinewidth\":2},\"yaxis\":{\"gridcolor\":\"white\",\"linecolor\":\"white\",\"ticks\":\"\",\"title\":{\"standoff\":15},\"zerolinecolor\":\"white\",\"automargin\":true,\"zerolinewidth\":2},\"scene\":{\"xaxis\":{\"backgroundcolor\":\"#E5ECF6\",\"gridcolor\":\"white\",\"linecolor\":\"white\",\"showbackground\":true,\"ticks\":\"\",\"zerolinecolor\":\"white\",\"gridwidth\":2},\"yaxis\":{\"backgroundcolor\":\"#E5ECF6\",\"gridcolor\":\"white\",\"linecolor\":\"white\",\"showbackground\":true,\"ticks\":\"\",\"zerolinecolor\":\"white\",\"gridwidth\":2},\"zaxis\":{\"backgroundcolor\":\"#E5ECF6\",\"gridcolor\":\"white\",\"linecolor\":\"white\",\"showbackground\":true,\"ticks\":\"\",\"zerolinecolor\":\"white\",\"gridwidth\":2}},\"shapedefaults\":{\"line\":{\"color\":\"#2a3f5f\"}},\"annotationdefaults\":{\"arrowcolor\":\"#2a3f5f\",\"arrowhead\":0,\"arrowwidth\":1},\"geo\":{\"bgcolor\":\"white\",\"landcolor\":\"#E5ECF6\",\"subunitcolor\":\"white\",\"showland\":true,\"showlakes\":true,\"lakecolor\":\"white\"},\"title\":{\"x\":0.05},\"mapbox\":{\"style\":\"light\"}}},\"title\":{\"text\":\"Distribution of Wins in IPL 2022 (By Runs vs. By Wickets)\"}},                        {\"responsive\": true}                    ).then(function(){\n",
       "                            \n",
       "var gd = document.getElementById('7457658f-426e-4ba5-99d8-8152e706a0cc');\n",
       "var x = new MutationObserver(function (mutations, observer) {{\n",
       "        var display = window.getComputedStyle(gd).display;\n",
       "        if (!display || display === 'none') {{\n",
       "            console.log([gd, 'removed!']);\n",
       "            Plotly.purge(gd);\n",
       "            observer.disconnect();\n",
       "        }}\n",
       "}});\n",
       "\n",
       "// Listen for the removal of the full notebook cells\n",
       "var notebookContainer = gd.closest('#notebook-container');\n",
       "if (notebookContainer) {{\n",
       "    x.observe(notebookContainer, {childList: true});\n",
       "}}\n",
       "\n",
       "// Listen for the clearing of the current output cell\n",
       "var outputEl = gd.closest('.output');\n",
       "if (outputEl) {{\n",
       "    x.observe(outputEl, {childList: true});\n",
       "}}\n",
       "\n",
       "                        })                };                });            </script>        </div>"
      ]
     },
     "metadata": {},
     "output_type": "display_data"
    }
   ],
   "source": [
    "won_by_runs = data1[data1[\"win_by_runs\"] > 0].shape[0]      # Teams that won by runs\n",
    "won_by_wickets = data1[data1[\"win_by_wickets\"] > 0].shape[0]   # Teams that won by wickets\n",
    "labels = [\"Won by Runs\", \"Won by Wickets\"]\n",
    "values = [won_by_runs, won_by_wickets]\n",
    "fig = go.Figure(data=[go.Pie(labels=labels, values=values, \n",
    "                             marker=dict(colors=[\"FF9999\", \"#66B3FF\"],line =dict(color='Black',width = 3)),  # Custom Colors\n",
    "                             hole=0.2,  # Donut-style chart\n",
    "                             textinfo=\"label+percent\")])  # Show labels and percentages\n",
    "                             #pull=[0.1, 0])])  # Slightly separate the first slice\n",
    "fig.update_layout(title = \"Distribution of Wins in IPL 2022 (By Runs vs. By Wickets)\")\n",
    "fig.show()"
   ]
  },
  {
   "cell_type": "markdown",
   "id": "97cec7bd-c0dd-4191-b8df-a3d34ab438c9",
   "metadata": {},
   "source": [
    "# Player of the match in IPL-2022 "
   ]
  },
  {
   "cell_type": "code",
   "execution_count": 36,
   "id": "bc56e43a-b55a-4f08-b7d6-1ca16a53e092",
   "metadata": {},
   "outputs": [
    {
     "data": {
      "application/vnd.plotly.v1+json": {
       "config": {
        "plotlyServerURL": "https://plot.ly"
       },
       "data": [
        {
         "alignmentgroup": "True",
         "hovertemplate": "count=%{x}<br>player_of_match=%{y}<extra></extra>",
         "legendgroup": "",
         "marker": {
          "color": "#636efa",
          "pattern": {
           "shape": ""
          }
         },
         "name": "",
         "offsetgroup": "",
         "orientation": "h",
         "showlegend": false,
         "textposition": "auto",
         "type": "bar",
         "x": [
          1,
          1,
          1,
          1,
          1,
          1,
          1,
          1,
          1,
          1,
          1,
          1,
          1,
          1,
          1,
          1,
          1,
          1,
          1,
          1,
          1,
          1,
          1,
          1,
          1,
          1,
          1,
          1,
          1,
          1,
          1,
          1,
          1,
          1,
          1,
          1,
          1,
          1,
          1,
          1,
          1,
          1,
          1,
          1,
          1,
          1,
          1,
          1,
          1,
          1,
          1,
          1,
          1,
          1,
          1,
          1,
          1,
          1,
          1,
          1,
          1,
          1,
          1,
          1,
          1,
          1,
          1,
          1,
          1,
          1,
          1,
          1,
          1,
          1,
          1,
          1,
          1,
          1,
          1,
          1,
          1,
          1,
          1,
          1,
          1,
          1,
          1,
          1,
          1,
          1,
          1,
          1,
          1,
          1,
          1,
          1,
          1,
          1,
          1,
          1,
          1,
          1,
          1,
          1,
          1,
          1,
          1,
          1,
          1,
          1,
          1,
          1,
          1,
          1,
          1,
          1,
          1,
          1,
          1,
          1,
          1,
          1,
          1,
          1,
          1,
          1,
          1,
          1,
          1,
          1,
          1,
          1,
          1,
          1,
          1,
          1,
          1,
          1,
          1,
          1,
          1,
          1,
          1,
          1,
          1,
          1,
          1,
          1,
          1,
          1,
          1,
          1,
          1,
          1,
          1,
          1,
          1,
          1,
          1,
          1,
          1,
          1,
          1,
          1,
          1,
          1,
          1,
          1,
          1,
          1,
          1,
          1,
          1,
          1,
          1,
          1,
          1,
          1,
          1,
          1,
          1,
          1,
          1,
          1,
          1,
          1,
          1,
          1,
          1,
          1,
          1,
          1,
          1,
          1,
          1,
          1,
          1,
          1,
          1,
          1,
          1,
          1,
          1,
          1,
          1,
          1,
          1,
          1,
          1,
          1,
          1,
          1,
          1,
          1,
          1,
          1,
          1,
          1,
          1,
          1,
          1,
          1,
          1,
          1,
          1,
          1,
          1,
          1,
          1,
          1,
          1,
          1,
          1,
          1,
          1,
          1,
          1,
          1,
          1,
          1,
          1,
          1,
          1,
          1,
          1,
          1,
          1,
          1,
          1,
          1,
          1,
          1,
          1,
          1,
          1,
          1,
          1,
          1,
          1,
          1,
          1,
          1,
          1,
          1,
          1,
          1,
          1,
          1,
          1,
          1,
          1,
          1,
          1,
          1,
          1,
          1,
          1,
          1,
          1,
          1,
          1,
          1,
          1,
          1,
          1,
          1,
          1,
          1,
          1,
          1,
          1,
          1,
          1,
          1,
          1,
          1,
          1,
          1,
          1,
          1,
          1,
          1,
          1,
          1,
          1,
          1,
          1,
          1,
          1,
          1,
          1,
          1,
          1,
          1,
          1,
          1,
          1,
          1,
          1,
          1,
          1,
          1,
          1,
          1,
          1,
          1,
          1,
          1,
          1,
          1,
          1,
          1,
          1,
          1,
          1,
          1,
          1,
          1,
          1,
          1,
          1,
          1,
          1,
          1,
          1,
          1,
          1,
          1,
          1,
          1,
          1,
          1,
          1,
          1,
          1,
          1,
          1,
          1,
          1,
          1,
          1,
          1,
          1,
          1,
          1,
          1,
          1,
          1,
          1,
          1,
          1,
          1,
          1,
          1,
          1,
          1,
          1,
          1,
          1,
          1,
          1,
          1,
          1,
          1,
          1,
          1,
          1,
          1,
          1,
          1,
          1,
          1,
          1,
          1,
          1,
          1,
          1,
          1,
          1,
          1,
          1,
          1,
          1,
          1,
          1,
          1,
          1,
          1,
          1,
          1,
          1,
          1,
          1,
          1,
          1,
          1,
          1,
          1,
          1,
          1,
          1,
          1,
          1,
          1,
          1,
          1,
          1,
          1,
          1,
          1,
          1,
          1,
          1,
          1,
          1,
          1,
          1,
          1,
          1,
          1,
          1,
          1,
          1,
          1,
          1,
          1,
          1,
          1,
          1,
          1,
          1,
          1,
          1,
          1,
          1,
          1,
          1,
          1,
          1,
          1,
          1,
          1,
          1,
          1,
          1,
          1,
          1,
          1,
          1,
          1,
          1,
          1,
          1,
          1,
          1,
          1,
          1,
          1,
          1,
          1,
          1,
          1,
          1,
          1,
          1,
          1,
          1,
          1,
          1,
          1,
          1,
          1,
          1,
          1,
          1,
          1,
          1,
          1,
          1,
          1,
          1,
          1,
          1,
          1,
          1,
          1,
          1,
          1,
          1,
          1,
          1,
          1,
          1,
          1,
          1,
          1,
          1,
          1,
          1,
          1,
          1,
          1,
          1,
          1,
          1,
          1,
          1,
          1,
          1,
          1,
          1,
          1,
          1,
          1,
          1,
          1,
          1,
          1,
          1,
          1,
          1,
          1,
          1,
          1,
          1,
          1,
          1,
          1,
          1,
          1,
          1,
          1,
          1,
          1,
          1,
          1,
          1,
          1,
          1,
          1,
          1,
          1,
          1,
          1,
          1,
          1,
          1,
          1,
          1,
          1,
          1,
          1,
          1,
          1,
          1,
          1,
          1
         ],
         "xaxis": "x",
         "y": [
          "BB McCullum",
          "MEK Hussey",
          "MF Maharoof",
          "MV Boucher",
          "DJ Hussey",
          "SR Watson",
          "V Sehwag",
          "ML Hayden",
          "YK Pathan",
          "KC Sangakkara",
          "SR Watson",
          "JDP Oram",
          "AC Gilchrist",
          "SM Katich",
          "MS Dhoni",
          "ST Jayasuriya",
          "GD McGrath",
          "SE Marsh",
          "SA Asnodkar",
          "V Sehwag",
          "R Vinay Kumar",
          "IK Pathan",
          "SM Pollock",
          "Sohail Tanvir",
          "S Sreesanth",
          "AC Gilchrist",
          "A Nehra",
          "MS Dhoni",
          "SC Ganguly",
          "YK Pathan",
          "CRD Fernando",
          "L Balaji",
          "SC Ganguly",
          "SR Watson",
          "SE Marsh",
          "Shoaib Akhtar",
          "ST Jayasuriya",
          "SE Marsh",
          "A Mishra",
          "SM Pollock",
          "DPMD Jayawardene",
          "GC Smith",
          "DJ Bravo",
          "M Ntini",
          "SP Goswami",
          "YK Pathan",
          "SE Marsh",
          "A Kumble",
          "SE Marsh",
          "KD Karthik",
          "JA Morkel",
          "P Kumar",
          "Umar Gul",
          "Sohail Tanvir",
          "SK Raina",
          "SR Watson",
          "M Ntini",
          "YK Pathan",
          "SR Tendulkar",
          "R Dravid",
          "DL Vettori",
          "RP Singh",
          "M Muralitharan",
          "CH Gayle",
          "AC Gilchrist",
          "AB de Villiers",
          "YK Pathan",
          "RS Bopara",
          "PP Ojha",
          "TM Dilshan",
          "KC Sangakkara",
          "HH Gibbs",
          "SR Tendulkar",
          "YK Pathan",
          "MV Boucher",
          "KC Sangakkara",
          "DP Nannes",
          "SK Raina",
          "JP Duminy",
          "Yuvraj Singh",
          "YK Pathan",
          "SB Jakati",
          "DPMD Jayawardene",
          "JH Kallis",
          "MS Dhoni",
          "GC Smith",
          "G Gambhir",
          "RG Sharma",
          "A Singh",
          "ML Hayden",
          "A Nehra",
          "DPMD Jayawardene",
          "S Badrinath",
          "JP Duminy",
          "A Mishra",
          "DR Smith",
          "LRPL Taylor",
          "Harbhajan Singh",
          "R Bhatia",
          "LRPL Taylor",
          "SK Warne",
          "B Lee",
          "ML Hayden",
          "RG Sharma",
          "Yuvraj Singh",
          "AB de Villiers",
          "BJ Hodge",
          "JH Kallis",
          "LR Shukla",
          "M Muralitharan",
          "V Sehwag",
          "MK Pandey",
          "AC Gilchrist",
          "MK Pandey",
          "A Kumble",
          "AD Mathews",
          "YK Pathan",
          "G Gambhir",
          "MK Tiwary",
          "WPUJC Vaas",
          "V Sehwag",
          "JH Kallis",
          "MS Dhoni",
          "SR Tendulkar",
          "JH Kallis",
          "ML Hayden",
          "A Symonds",
          "AA Jhunjhunwala",
          "JH Kallis",
          "A Symonds",
          "J Theron",
          "SR Tendulkar",
          "RV Uthappa",
          "AC Voges",
          "SR Tendulkar",
          "YK Pathan",
          "MK Tiwary",
          "KM Jadhav",
          "NV Ojha",
          "Harbhajan Singh",
          "DA Warner",
          "SL Malinga",
          "M Vijay",
          "KD Karthik",
          "SC Ganguly",
          "KP Pietersen",
          "M Vijay",
          "AT Rayudu",
          "DPMD Jayawardene",
          "PD Collingwood",
          "SK Warne",
          "SK Raina",
          "MJ Lumb",
          "SC Ganguly",
          "TL Suman",
          "KC Sangakkara",
          "RJ Harris",
          "R Vinay Kumar",
          "PP Chawla",
          "SR Tendulkar",
          "Harmeet Singh",
          "KA Pollard",
          "R Ashwin",
          "KP Pietersen",
          "G Gambhir",
          "RG Sharma",
          "R McLaren",
          "JD Unadkat",
          "MS Dhoni",
          "A Symonds",
          "M Kartik",
          "KA Pollard",
          "DE Bollinger",
          "A Kumble",
          "SK Raina",
          "S Anirudha",
          "SK Trivedi",
          "AB de Villiers",
          "SL Malinga",
          "SB Wagh",
          "JH Kallis",
          "SK Warne",
          "SR Tendulkar",
          "PC Valthaty",
          "MD Mishra",
          "DW Steyn",
          "G Gambhir",
          "BB McCullum",
          "MEK Hussey",
          "PC Valthaty",
          "Yuvraj Singh",
          "L Balaji",
          "BB McCullum",
          "S Sohal",
          "MM Patel",
          "DPMD Jayawardene",
          "SE Marsh",
          "Harbhajan Singh",
          "CH Gayle",
          "DA Warner",
          "SL Malinga",
          "SK Warne",
          "MEK Hussey",
          "V Kohli",
          "DE Bollinger",
          "I Sharma",
          "MK Tiwary",
          "J Botha",
          "V Kohli",
          "V Sehwag",
          "Iqbal Abdulla",
          "LRPL Taylor",
          "JA Morkel",
          "KA Pollard",
          "P Parameswaran",
          "YK Pathan",
          "MEK Hussey",
          "R Sharma",
          "BJ Hodge",
          "V Sehwag",
          "CH Gayle",
          "Iqbal Abdulla",
          "AT Rayudu",
          "CH Gayle",
          "R Sharma",
          "M Vijay",
          "MR Marsh",
          "BA Bhatt",
          "S Aravind",
          "MS Dhoni",
          "KD Karthik",
          "CH Gayle",
          "A Mishra",
          "PP Chawla",
          "BJ Hodge",
          "A Mishra",
          "AC Gilchrist",
          "WP Saha",
          "YK Pathan",
          "SR Watson",
          "S Dhawan",
          null,
          "CH Gayle",
          "JEC Franklin",
          "SK Raina",
          "MM Patel",
          "CH Gayle",
          "M Vijay",
          "RE Levi",
          "IK Pathan",
          "SPD Smith",
          "AM Rahane",
          "AB de Villiers",
          "RA Jadeja",
          "BJ Hodge",
          "MN Samuels",
          "RG Sharma",
          "L Balaji",
          "M Morkel",
          "KA Pollard",
          "F du Plessis",
          "AD Mascarenhas",
          "Shakib Al Hasan",
          "KP Pietersen",
          "JD Ryder",
          "SP Narine",
          "AM Rahane",
          "S Nadeem",
          "BJ Hodge",
          "CH Gayle",
          "G Gambhir",
          "DA Warner",
          "KMDN Kulasekara",
          "CH Gayle",
          "F du Plessis",
          "SC Ganguly",
          "SE Marsh",
          "B Lee",
          "AB de Villiers",
          "V Sehwag",
          "AT Rayudu",
          "CL White",
          "V Sehwag",
          "Mandeep Singh",
          "G Gambhir",
          "V Sehwag",
          "DW Steyn",
          "G Gambhir",
          "KC Sangakkara",
          "P Negi",
          "Azhar Mahmood",
          "SL Malinga",
          "SK Raina",
          "SP Narine",
          "SR Watson",
          "DR Smith",
          "AB de Villiers",
          "JH Kallis",
          "SR Watson",
          "Mandeep Singh",
          "CH Gayle",
          "BW Hilfenhaus",
          "CH Gayle",
          "RG Sharma",
          "BW Hilfenhaus",
          "A Chandila",
          "DJ Hussey",
          "AT Rayudu",
          "MEK Hussey",
          "UT Yadav",
          "SP Narine",
          "AC Gilchrist",
          "CH Gayle",
          "DW Steyn",
          "UT Yadav",
          "Shakib Al Hasan",
          "DW Steyn",
          "DR Smith",
          "YK Pathan",
          "MS Dhoni",
          "M Vijay",
          "MS Bisla",
          "SP Narine",
          "CH Gayle",
          "A Mishra",
          "R Dravid",
          "KA Pollard",
          "M Vohra",
          "GH Vihari",
          "SK Trivedi",
          "KD Karthik",
          "MEK Hussey",
          "CH Gayle",
          "AJ Finch",
          "A Mishra",
          "RG Sharma",
          "RA Jadeja",
          "G Gambhir",
          "JP Faulkner",
          "SPD Smith",
          "MS Gony",
          "V Kohli",
          "A Mishra",
          "AM Rahane",
          "MEK Hussey",
          "GH Vihari",
          "RA Jadeja",
          "R Vinay Kumar",
          "V Sehwag",
          "DA Miller",
          "MEK Hussey",
          "CH Gayle",
          "DA Miller",
          "DR Smith",
          "MS Dhoni",
          "JH Kallis",
          "JP Faulkner",
          "DR Smith",
          "MEK Hussey",
          "DA Warner",
          "SV Samson",
          "RG Sharma",
          "MS Dhoni",
          "I Sharma",
          "DA Warner",
          "SK Raina",
          "AB de Villiers",
          "YK Pathan",
          "DJG Sammy",
          "AC Gilchrist",
          "MG Johnson",
          "AM Rahane",
          "V Kohli",
          "AM Rahane",
          "SR Tendulkar",
          "SK Raina",
          "KK Cooper",
          "G Gambhir",
          "JD Unadkat",
          "MG Johnson",
          "PA Patel",
          "JH Kallis",
          "SR Watson",
          "Harmeet Singh",
          "KA Pollard",
          "MK Pandey",
          "MS Dhoni",
          "AP Tare",
          "DA Miller",
          "A Mishra",
          "Azhar Mahmood",
          "LJ Wright",
          "V Kohli",
          "PA Patel",
          "MEK Hussey",
          "BJ Hodge",
          "Harbhajan Singh",
          "KA Pollard",
          "JH Kallis",
          "YS Chahal",
          "GJ Maxwell",
          "AM Rahane",
          "PA Patel",
          "JP Duminy",
          "GJ Maxwell",
          "SK Raina",
          "GJ Maxwell",
          "RA Jadeja",
          "CA Lynn",
          "AJ Finch",
          "MM Sharma",
          "PV Tambe",
          "Sandeep Sharma",
          "M Vijay",
          "DR Smith",
          "Sandeep Sharma",
          "JP Faulkner",
          "B Kumar",
          "RA Jadeja",
          "CJ Anderson",
          "KK Nair",
          "AB de Villiers",
          "PV Tambe",
          "DR Smith",
          "RG Sharma",
          "G Gambhir",
          "GJ Maxwell",
          "B Kumar",
          "Sandeep Sharma",
          "DW Steyn",
          "DR Smith",
          "G Gambhir",
          "JP Faulkner",
          "AT Rayudu",
          "RA Jadeja",
          "Yuvraj Singh",
          "WP Saha",
          "RV Uthappa",
          "AM Rahane",
          "AB de Villiers",
          "UT Yadav",
          "MEK Hussey",
          "AR Patel",
          "DA Warner",
          "RV Uthappa",
          "LMP Simmons",
          "RV Uthappa",
          "DA Warner",
          "MEK Hussey",
          "SE Marsh",
          "MS Dhoni",
          "YK Pathan",
          "M Vohra",
          "CJ Anderson",
          "UT Yadav",
          "SK Raina",
          "V Sehwag",
          "MK Pandey",
          "M Morkel",
          "A Nehra",
          "JP Faulkner",
          "BB McCullum",
          "CH Gayle",
          "DJ Hooda",
          "GJ Bailey",
          "DA Warner",
          "SPD Smith",
          "AD Russell",
          "MA Agarwal",
          "AM Rahane",
          "A Nehra",
          "JP Duminy",
          "AD Russell",
          "AM Rahane",
          "Harbhajan Singh",
          "UT Yadav",
          "SE Marsh",
          "DA Warner",
          "SK Raina",
          "SS Iyer",
          "MA Starc",
          "SL Malinga",
          "BB McCullum",
          "VR Aaron",
          "TA Boult",
          "PP Chawla",
          null,
          "DJ Bravo",
          "NM Coulter-Nile",
          "AT Rayudu",
          "Mandeep Singh",
          "DA Warner",
          "LMP Simmons",
          "AM Rahane",
          "SK Raina",
          "UT Yadav",
          "Harbhajan Singh",
          "CH Gayle",
          "EJG Morgan",
          "HH Pandya",
          "AD Russell",
          "MC Henriques",
          "AB de Villiers",
          "RA Jadeja",
          "DA Warner",
          "Z Khan",
          "AR Patel",
          "HH Pandya",
          "V Kohli",
          "P Negi",
          "SR Watson",
          null,
          "MJ McClenaghan",
          "KA Pollard",
          "AB de Villiers",
          "A Nehra",
          "RG Sharma",
          "AM Rahane",
          "AD Russell",
          "AJ Finch",
          "AB de Villiers",
          "RG Sharma",
          "AJ Finch",
          "A Mishra",
          "G Gambhir",
          "AJ Finch",
          "M Vohra",
          "Q de Kock",
          "DA Warner",
          "RV Uthappa",
          "RG Sharma",
          "B Kumar",
          "AB de Villiers",
          "SV Samson",
          "Mustafizur Rahman",
          "V Kohli",
          "SA Yadav",
          "PA Patel",
          "AB Dinda",
          "CH Morris",
          "RG Sharma",
          "DR Smith",
          "CR Brathwaite",
          "DA Warner",
          "AR Patel",
          "RG Sharma",
          "AD Russell",
          "RR Pant",
          "AD Russell",
          "AM Rahane",
          "B Kumar",
          "V Kohli",
          "MP Stoinis",
          "A Nehra",
          "P Kumar",
          "SR Watson",
          "A Zampa",
          "KH Pandya",
          "CH Morris",
          "MP Stoinis",
          "AB de Villiers",
          "YK Pathan",
          "HM Amla",
          "KH Pandya",
          "V Kohli",
          "AB Dinda",
          "V Kohli",
          "DR Smith",
          "KK Nair",
          "MS Dhoni",
          "SK Raina",
          "YK Pathan",
          "V Kohli",
          "AB de Villiers",
          "MC Henriques",
          "DA Warner",
          "BCJ Cutting"
         ],
         "yaxis": "y"
        }
       ],
       "layout": {
        "barmode": "relative",
        "height": 2000,
        "legend": {
         "tracegroupgap": 0
        },
        "template": {
         "data": {
          "bar": [
           {
            "error_x": {
             "color": "#2a3f5f"
            },
            "error_y": {
             "color": "#2a3f5f"
            },
            "marker": {
             "line": {
              "color": "#E5ECF6",
              "width": 0.5
             },
             "pattern": {
              "fillmode": "overlay",
              "size": 10,
              "solidity": 0.2
             }
            },
            "type": "bar"
           }
          ],
          "barpolar": [
           {
            "marker": {
             "line": {
              "color": "#E5ECF6",
              "width": 0.5
             },
             "pattern": {
              "fillmode": "overlay",
              "size": 10,
              "solidity": 0.2
             }
            },
            "type": "barpolar"
           }
          ],
          "carpet": [
           {
            "aaxis": {
             "endlinecolor": "#2a3f5f",
             "gridcolor": "white",
             "linecolor": "white",
             "minorgridcolor": "white",
             "startlinecolor": "#2a3f5f"
            },
            "baxis": {
             "endlinecolor": "#2a3f5f",
             "gridcolor": "white",
             "linecolor": "white",
             "minorgridcolor": "white",
             "startlinecolor": "#2a3f5f"
            },
            "type": "carpet"
           }
          ],
          "choropleth": [
           {
            "colorbar": {
             "outlinewidth": 0,
             "ticks": ""
            },
            "type": "choropleth"
           }
          ],
          "contour": [
           {
            "colorbar": {
             "outlinewidth": 0,
             "ticks": ""
            },
            "colorscale": [
             [
              0,
              "#0d0887"
             ],
             [
              0.1111111111111111,
              "#46039f"
             ],
             [
              0.2222222222222222,
              "#7201a8"
             ],
             [
              0.3333333333333333,
              "#9c179e"
             ],
             [
              0.4444444444444444,
              "#bd3786"
             ],
             [
              0.5555555555555556,
              "#d8576b"
             ],
             [
              0.6666666666666666,
              "#ed7953"
             ],
             [
              0.7777777777777778,
              "#fb9f3a"
             ],
             [
              0.8888888888888888,
              "#fdca26"
             ],
             [
              1,
              "#f0f921"
             ]
            ],
            "type": "contour"
           }
          ],
          "contourcarpet": [
           {
            "colorbar": {
             "outlinewidth": 0,
             "ticks": ""
            },
            "type": "contourcarpet"
           }
          ],
          "heatmap": [
           {
            "colorbar": {
             "outlinewidth": 0,
             "ticks": ""
            },
            "colorscale": [
             [
              0,
              "#0d0887"
             ],
             [
              0.1111111111111111,
              "#46039f"
             ],
             [
              0.2222222222222222,
              "#7201a8"
             ],
             [
              0.3333333333333333,
              "#9c179e"
             ],
             [
              0.4444444444444444,
              "#bd3786"
             ],
             [
              0.5555555555555556,
              "#d8576b"
             ],
             [
              0.6666666666666666,
              "#ed7953"
             ],
             [
              0.7777777777777778,
              "#fb9f3a"
             ],
             [
              0.8888888888888888,
              "#fdca26"
             ],
             [
              1,
              "#f0f921"
             ]
            ],
            "type": "heatmap"
           }
          ],
          "heatmapgl": [
           {
            "colorbar": {
             "outlinewidth": 0,
             "ticks": ""
            },
            "colorscale": [
             [
              0,
              "#0d0887"
             ],
             [
              0.1111111111111111,
              "#46039f"
             ],
             [
              0.2222222222222222,
              "#7201a8"
             ],
             [
              0.3333333333333333,
              "#9c179e"
             ],
             [
              0.4444444444444444,
              "#bd3786"
             ],
             [
              0.5555555555555556,
              "#d8576b"
             ],
             [
              0.6666666666666666,
              "#ed7953"
             ],
             [
              0.7777777777777778,
              "#fb9f3a"
             ],
             [
              0.8888888888888888,
              "#fdca26"
             ],
             [
              1,
              "#f0f921"
             ]
            ],
            "type": "heatmapgl"
           }
          ],
          "histogram": [
           {
            "marker": {
             "pattern": {
              "fillmode": "overlay",
              "size": 10,
              "solidity": 0.2
             }
            },
            "type": "histogram"
           }
          ],
          "histogram2d": [
           {
            "colorbar": {
             "outlinewidth": 0,
             "ticks": ""
            },
            "colorscale": [
             [
              0,
              "#0d0887"
             ],
             [
              0.1111111111111111,
              "#46039f"
             ],
             [
              0.2222222222222222,
              "#7201a8"
             ],
             [
              0.3333333333333333,
              "#9c179e"
             ],
             [
              0.4444444444444444,
              "#bd3786"
             ],
             [
              0.5555555555555556,
              "#d8576b"
             ],
             [
              0.6666666666666666,
              "#ed7953"
             ],
             [
              0.7777777777777778,
              "#fb9f3a"
             ],
             [
              0.8888888888888888,
              "#fdca26"
             ],
             [
              1,
              "#f0f921"
             ]
            ],
            "type": "histogram2d"
           }
          ],
          "histogram2dcontour": [
           {
            "colorbar": {
             "outlinewidth": 0,
             "ticks": ""
            },
            "colorscale": [
             [
              0,
              "#0d0887"
             ],
             [
              0.1111111111111111,
              "#46039f"
             ],
             [
              0.2222222222222222,
              "#7201a8"
             ],
             [
              0.3333333333333333,
              "#9c179e"
             ],
             [
              0.4444444444444444,
              "#bd3786"
             ],
             [
              0.5555555555555556,
              "#d8576b"
             ],
             [
              0.6666666666666666,
              "#ed7953"
             ],
             [
              0.7777777777777778,
              "#fb9f3a"
             ],
             [
              0.8888888888888888,
              "#fdca26"
             ],
             [
              1,
              "#f0f921"
             ]
            ],
            "type": "histogram2dcontour"
           }
          ],
          "mesh3d": [
           {
            "colorbar": {
             "outlinewidth": 0,
             "ticks": ""
            },
            "type": "mesh3d"
           }
          ],
          "parcoords": [
           {
            "line": {
             "colorbar": {
              "outlinewidth": 0,
              "ticks": ""
             }
            },
            "type": "parcoords"
           }
          ],
          "pie": [
           {
            "automargin": true,
            "type": "pie"
           }
          ],
          "scatter": [
           {
            "fillpattern": {
             "fillmode": "overlay",
             "size": 10,
             "solidity": 0.2
            },
            "type": "scatter"
           }
          ],
          "scatter3d": [
           {
            "line": {
             "colorbar": {
              "outlinewidth": 0,
              "ticks": ""
             }
            },
            "marker": {
             "colorbar": {
              "outlinewidth": 0,
              "ticks": ""
             }
            },
            "type": "scatter3d"
           }
          ],
          "scattercarpet": [
           {
            "marker": {
             "colorbar": {
              "outlinewidth": 0,
              "ticks": ""
             }
            },
            "type": "scattercarpet"
           }
          ],
          "scattergeo": [
           {
            "marker": {
             "colorbar": {
              "outlinewidth": 0,
              "ticks": ""
             }
            },
            "type": "scattergeo"
           }
          ],
          "scattergl": [
           {
            "marker": {
             "colorbar": {
              "outlinewidth": 0,
              "ticks": ""
             }
            },
            "type": "scattergl"
           }
          ],
          "scattermapbox": [
           {
            "marker": {
             "colorbar": {
              "outlinewidth": 0,
              "ticks": ""
             }
            },
            "type": "scattermapbox"
           }
          ],
          "scatterpolar": [
           {
            "marker": {
             "colorbar": {
              "outlinewidth": 0,
              "ticks": ""
             }
            },
            "type": "scatterpolar"
           }
          ],
          "scatterpolargl": [
           {
            "marker": {
             "colorbar": {
              "outlinewidth": 0,
              "ticks": ""
             }
            },
            "type": "scatterpolargl"
           }
          ],
          "scatterternary": [
           {
            "marker": {
             "colorbar": {
              "outlinewidth": 0,
              "ticks": ""
             }
            },
            "type": "scatterternary"
           }
          ],
          "surface": [
           {
            "colorbar": {
             "outlinewidth": 0,
             "ticks": ""
            },
            "colorscale": [
             [
              0,
              "#0d0887"
             ],
             [
              0.1111111111111111,
              "#46039f"
             ],
             [
              0.2222222222222222,
              "#7201a8"
             ],
             [
              0.3333333333333333,
              "#9c179e"
             ],
             [
              0.4444444444444444,
              "#bd3786"
             ],
             [
              0.5555555555555556,
              "#d8576b"
             ],
             [
              0.6666666666666666,
              "#ed7953"
             ],
             [
              0.7777777777777778,
              "#fb9f3a"
             ],
             [
              0.8888888888888888,
              "#fdca26"
             ],
             [
              1,
              "#f0f921"
             ]
            ],
            "type": "surface"
           }
          ],
          "table": [
           {
            "cells": {
             "fill": {
              "color": "#EBF0F8"
             },
             "line": {
              "color": "white"
             }
            },
            "header": {
             "fill": {
              "color": "#C8D4E3"
             },
             "line": {
              "color": "white"
             }
            },
            "type": "table"
           }
          ]
         },
         "layout": {
          "annotationdefaults": {
           "arrowcolor": "#2a3f5f",
           "arrowhead": 0,
           "arrowwidth": 1
          },
          "autotypenumbers": "strict",
          "coloraxis": {
           "colorbar": {
            "outlinewidth": 0,
            "ticks": ""
           }
          },
          "colorscale": {
           "diverging": [
            [
             0,
             "#8e0152"
            ],
            [
             0.1,
             "#c51b7d"
            ],
            [
             0.2,
             "#de77ae"
            ],
            [
             0.3,
             "#f1b6da"
            ],
            [
             0.4,
             "#fde0ef"
            ],
            [
             0.5,
             "#f7f7f7"
            ],
            [
             0.6,
             "#e6f5d0"
            ],
            [
             0.7,
             "#b8e186"
            ],
            [
             0.8,
             "#7fbc41"
            ],
            [
             0.9,
             "#4d9221"
            ],
            [
             1,
             "#276419"
            ]
           ],
           "sequential": [
            [
             0,
             "#0d0887"
            ],
            [
             0.1111111111111111,
             "#46039f"
            ],
            [
             0.2222222222222222,
             "#7201a8"
            ],
            [
             0.3333333333333333,
             "#9c179e"
            ],
            [
             0.4444444444444444,
             "#bd3786"
            ],
            [
             0.5555555555555556,
             "#d8576b"
            ],
            [
             0.6666666666666666,
             "#ed7953"
            ],
            [
             0.7777777777777778,
             "#fb9f3a"
            ],
            [
             0.8888888888888888,
             "#fdca26"
            ],
            [
             1,
             "#f0f921"
            ]
           ],
           "sequentialminus": [
            [
             0,
             "#0d0887"
            ],
            [
             0.1111111111111111,
             "#46039f"
            ],
            [
             0.2222222222222222,
             "#7201a8"
            ],
            [
             0.3333333333333333,
             "#9c179e"
            ],
            [
             0.4444444444444444,
             "#bd3786"
            ],
            [
             0.5555555555555556,
             "#d8576b"
            ],
            [
             0.6666666666666666,
             "#ed7953"
            ],
            [
             0.7777777777777778,
             "#fb9f3a"
            ],
            [
             0.8888888888888888,
             "#fdca26"
            ],
            [
             1,
             "#f0f921"
            ]
           ]
          },
          "colorway": [
           "#636efa",
           "#EF553B",
           "#00cc96",
           "#ab63fa",
           "#FFA15A",
           "#19d3f3",
           "#FF6692",
           "#B6E880",
           "#FF97FF",
           "#FECB52"
          ],
          "font": {
           "color": "#2a3f5f"
          },
          "geo": {
           "bgcolor": "white",
           "lakecolor": "white",
           "landcolor": "#E5ECF6",
           "showlakes": true,
           "showland": true,
           "subunitcolor": "white"
          },
          "hoverlabel": {
           "align": "left"
          },
          "hovermode": "closest",
          "mapbox": {
           "style": "light"
          },
          "paper_bgcolor": "white",
          "plot_bgcolor": "#E5ECF6",
          "polar": {
           "angularaxis": {
            "gridcolor": "white",
            "linecolor": "white",
            "ticks": ""
           },
           "bgcolor": "#E5ECF6",
           "radialaxis": {
            "gridcolor": "white",
            "linecolor": "white",
            "ticks": ""
           }
          },
          "scene": {
           "xaxis": {
            "backgroundcolor": "#E5ECF6",
            "gridcolor": "white",
            "gridwidth": 2,
            "linecolor": "white",
            "showbackground": true,
            "ticks": "",
            "zerolinecolor": "white"
           },
           "yaxis": {
            "backgroundcolor": "#E5ECF6",
            "gridcolor": "white",
            "gridwidth": 2,
            "linecolor": "white",
            "showbackground": true,
            "ticks": "",
            "zerolinecolor": "white"
           },
           "zaxis": {
            "backgroundcolor": "#E5ECF6",
            "gridcolor": "white",
            "gridwidth": 2,
            "linecolor": "white",
            "showbackground": true,
            "ticks": "",
            "zerolinecolor": "white"
           }
          },
          "shapedefaults": {
           "line": {
            "color": "#2a3f5f"
           }
          },
          "ternary": {
           "aaxis": {
            "gridcolor": "white",
            "linecolor": "white",
            "ticks": ""
           },
           "baxis": {
            "gridcolor": "white",
            "linecolor": "white",
            "ticks": ""
           },
           "bgcolor": "#E5ECF6",
           "caxis": {
            "gridcolor": "white",
            "linecolor": "white",
            "ticks": ""
           }
          },
          "title": {
           "x": 0.05
          },
          "xaxis": {
           "automargin": true,
           "gridcolor": "white",
           "linecolor": "white",
           "ticks": "",
           "title": {
            "standoff": 15
           },
           "zerolinecolor": "white",
           "zerolinewidth": 2
          },
          "yaxis": {
           "automargin": true,
           "gridcolor": "white",
           "linecolor": "white",
           "ticks": "",
           "title": {
            "standoff": 15
           },
           "zerolinecolor": "white",
           "zerolinewidth": 2
          }
         }
        },
        "title": {
         "text": "Most Player of the match in IPL-2022"
        },
        "width": 1000,
        "xaxis": {
         "anchor": "y",
         "autorange": true,
         "domain": [
          0,
          1
         ],
         "range": [
          0,
          17.894736842105264
         ],
         "title": {
          "text": "count"
         },
         "type": "linear"
        },
        "yaxis": {
         "anchor": "x",
         "autorange": true,
         "domain": [
          0,
          1
         ],
         "range": [
          -0.5,
          186.5
         ],
         "title": {
          "text": "player_of_match"
         },
         "type": "category"
        }
       }
      },
      "image/png": "[encoded data removed]",
      "text/html": [
       "<div>                            <div id=\"66a72c83-f90d-46da-8fb9-07ef0eaed737\" class=\"plotly-graph-div\" style=\"height:2000px; width:1000px;\"></div>            <script type=\"text/javascript\">                require([\"plotly\"], function(Plotly) {                    window.PLOTLYENV=window.PLOTLYENV || {};                                    if (document.getElementById(\"66a72c83-f90d-46da-8fb9-07ef0eaed737\")) {                    Plotly.newPlot(                        \"66a72c83-f90d-46da-8fb9-07ef0eaed737\",                        [{\"alignmentgroup\":\"True\",\"hovertemplate\":\"count=%{x}\\u003cbr\\u003eplayer_of_match=%{y}\\u003cextra\\u003e\\u003c\\u002fextra\\u003e\",\"legendgroup\":\"\",\"marker\":{\"color\":\"#636efa\",\"pattern\":{\"shape\":\"\"}},\"name\":\"\",\"offsetgroup\":\"\",\"orientation\":\"h\",\"showlegend\":false,\"textposition\":\"auto\",\"x\":[1,1,1,1,1,1,1,1,1,1,1,1,1,1,1,1,1,1,1,1,1,1,1,1,1,1,1,1,1,1,1,1,1,1,1,1,1,1,1,1,1,1,1,1,1,1,1,1,1,1,1,1,1,1,1,1,1,1,1,1,1,1,1,1,1,1,1,1,1,1,1,1,1,1,1,1,1,1,1,1,1,1,1,1,1,1,1,1,1,1,1,1,1,1,1,1,1,1,1,1,1,1,1,1,1,1,1,1,1,1,1,1,1,1,1,1,1,1,1,1,1,1,1,1,1,1,1,1,1,1,1,1,1,1,1,1,1,1,1,1,1,1,1,1,1,1,1,1,1,1,1,1,1,1,1,1,1,1,1,1,1,1,1,1,1,1,1,1,1,1,1,1,1,1,1,1,1,1,1,1,1,1,1,1,1,1,1,1,1,1,1,1,1,1,1,1,1,1,1,1,1,1,1,1,1,1,1,1,1,1,1,1,1,1,1,1,1,1,1,1,1,1,1,1,1,1,1,1,1,1,1,1,1,1,1,1,1,1,1,1,1,1,1,1,1,1,1,1,1,1,1,1,1,1,1,1,1,1,1,1,1,1,1,1,1,1,1,1,1,1,1,1,1,1,1,1,1,1,1,1,1,1,1,1,1,1,1,1,1,1,1,1,1,1,1,1,1,1,1,1,1,1,1,1,1,1,1,1,1,1,1,1,1,1,1,1,1,1,1,1,1,1,1,1,1,1,1,1,1,1,1,1,1,1,1,1,1,1,1,1,1,1,1,1,1,1,1,1,1,1,1,1,1,1,1,1,1,1,1,1,1,1,1,1,1,1,1,1,1,1,1,1,1,1,1,1,1,1,1,1,1,1,1,1,1,1,1,1,1,1,1,1,1,1,1,1,1,1,1,1,1,1,1,1,1,1,1,1,1,1,1,1,1,1,1,1,1,1,1,1,1,1,1,1,1,1,1,1,1,1,1,1,1,1,1,1,1,1,1,1,1,1,1,1,1,1,1,1,1,1,1,1,1,1,1,1,1,1,1,1,1,1,1,1,1,1,1,1,1,1,1,1,1,1,1,1,1,1,1,1,1,1,1,1,1,1,1,1,1,1,1,1,1,1,1,1,1,1,1,1,1,1,1,1,1,1,1,1,1,1,1,1,1,1,1,1,1,1,1,1,1,1,1,1,1,1,1,1,1,1,1,1,1,1,1,1,1,1,1,1,1,1,1,1,1,1,1,1,1,1,1,1,1,1,1,1,1,1,1,1,1,1,1,1,1,1,1,1,1,1,1,1,1,1,1,1,1],\"xaxis\":\"x\",\"y\":[\"BB McCullum\",\"MEK Hussey\",\"MF Maharoof\",\"MV Boucher\",\"DJ Hussey\",\"SR Watson\",\"V Sehwag\",\"ML Hayden\",\"YK Pathan\",\"KC Sangakkara\",\"SR Watson\",\"JDP Oram\",\"AC Gilchrist\",\"SM Katich\",\"MS Dhoni\",\"ST Jayasuriya\",\"GD McGrath\",\"SE Marsh\",\"SA Asnodkar\",\"V Sehwag\",\"R Vinay Kumar\",\"IK Pathan\",\"SM Pollock\",\"Sohail Tanvir\",\"S Sreesanth\",\"AC Gilchrist\",\"A Nehra\",\"MS Dhoni\",\"SC Ganguly\",\"YK Pathan\",\"CRD Fernando\",\"L Balaji\",\"SC Ganguly\",\"SR Watson\",\"SE Marsh\",\"Shoaib Akhtar\",\"ST Jayasuriya\",\"SE Marsh\",\"A Mishra\",\"SM Pollock\",\"DPMD Jayawardene\",\"GC Smith\",\"DJ Bravo\",\"M Ntini\",\"SP Goswami\",\"YK Pathan\",\"SE Marsh\",\"A Kumble\",\"SE Marsh\",\"KD Karthik\",\"JA Morkel\",\"P Kumar\",\"Umar Gul\",\"Sohail Tanvir\",\"SK Raina\",\"SR Watson\",\"M Ntini\",\"YK Pathan\",\"SR Tendulkar\",\"R Dravid\",\"DL Vettori\",\"RP Singh\",\"M Muralitharan\",\"CH Gayle\",\"AC Gilchrist\",\"AB de Villiers\",\"YK Pathan\",\"RS Bopara\",\"PP Ojha\",\"TM Dilshan\",\"KC Sangakkara\",\"HH Gibbs\",\"SR Tendulkar\",\"YK Pathan\",\"MV Boucher\",\"KC Sangakkara\",\"DP Nannes\",\"SK Raina\",\"JP Duminy\",\"Yuvraj Singh\",\"YK Pathan\",\"SB Jakati\",\"DPMD Jayawardene\",\"JH Kallis\",\"MS Dhoni\",\"GC Smith\",\"G Gambhir\",\"RG Sharma\",\"A Singh\",\"ML Hayden\",\"A Nehra\",\"DPMD Jayawardene\",\"S Badrinath\",\"JP Duminy\",\"A Mishra\",\"DR Smith\",\"LRPL Taylor\",\"Harbhajan Singh\",\"R Bhatia\",\"LRPL Taylor\",\"SK Warne\",\"B Lee\",\"ML Hayden\",\"RG Sharma\",\"Yuvraj Singh\",\"AB de Villiers\",\"BJ Hodge\",\"JH Kallis\",\"LR Shukla\",\"M Muralitharan\",\"V Sehwag\",\"MK Pandey\",\"AC Gilchrist\",\"MK Pandey\",\"A Kumble\",\"AD Mathews\",\"YK Pathan\",\"G Gambhir\",\"MK Tiwary\",\"WPUJC Vaas\",\"V Sehwag\",\"JH Kallis\",\"MS Dhoni\",\"SR Tendulkar\",\"JH Kallis\",\"ML Hayden\",\"A Symonds\",\"AA Jhunjhunwala\",\"JH Kallis\",\"A Symonds\",\"J Theron\",\"SR Tendulkar\",\"RV Uthappa\",\"AC Voges\",\"SR Tendulkar\",\"YK Pathan\",\"MK Tiwary\",\"KM Jadhav\",\"NV Ojha\",\"Harbhajan Singh\",\"DA Warner\",\"SL Malinga\",\"M Vijay\",\"KD Karthik\",\"SC Ganguly\",\"KP Pietersen\",\"M Vijay\",\"AT Rayudu\",\"DPMD Jayawardene\",\"PD Collingwood\",\"SK Warne\",\"SK Raina\",\"MJ Lumb\",\"SC Ganguly\",\"TL Suman\",\"KC Sangakkara\",\"RJ Harris\",\"R Vinay Kumar\",\"PP Chawla\",\"SR Tendulkar\",\"Harmeet Singh\",\"KA Pollard\",\"R Ashwin\",\"KP Pietersen\",\"G Gambhir\",\"RG Sharma\",\"R McLaren\",\"JD Unadkat\",\"MS Dhoni\",\"A Symonds\",\"M Kartik\",\"KA Pollard\",\"DE Bollinger\",\"A Kumble\",\"SK Raina\",\"S Anirudha\",\"SK Trivedi\",\"AB de Villiers\",\"SL Malinga\",\"SB Wagh\",\"JH Kallis\",\"SK Warne\",\"SR Tendulkar\",\"PC Valthaty\",\"MD Mishra\",\"DW Steyn\",\"G Gambhir\",\"BB McCullum\",\"MEK Hussey\",\"PC Valthaty\",\"Yuvraj Singh\",\"L Balaji\",\"BB McCullum\",\"S Sohal\",\"MM Patel\",\"DPMD Jayawardene\",\"SE Marsh\",\"Harbhajan Singh\",\"CH Gayle\",\"DA Warner\",\"SL Malinga\",\"SK Warne\",\"MEK Hussey\",\"V Kohli\",\"DE Bollinger\",\"I Sharma\",\"MK Tiwary\",\"J Botha\",\"V Kohli\",\"V Sehwag\",\"Iqbal Abdulla\",\"LRPL Taylor\",\"JA Morkel\",\"KA Pollard\",\"P Parameswaran\",\"YK Pathan\",\"MEK Hussey\",\"R Sharma\",\"BJ Hodge\",\"V Sehwag\",\"CH Gayle\",\"Iqbal Abdulla\",\"AT Rayudu\",\"CH Gayle\",\"R Sharma\",\"M Vijay\",\"MR Marsh\",\"BA Bhatt\",\"S Aravind\",\"MS Dhoni\",\"KD Karthik\",\"CH Gayle\",\"A Mishra\",\"PP Chawla\",\"BJ Hodge\",\"A Mishra\",\"AC Gilchrist\",\"WP Saha\",\"YK Pathan\",\"SR Watson\",\"S Dhawan\",null,\"CH Gayle\",\"JEC Franklin\",\"SK Raina\",\"MM Patel\",\"CH Gayle\",\"M Vijay\",\"RE Levi\",\"IK Pathan\",\"SPD Smith\",\"AM Rahane\",\"AB de Villiers\",\"RA Jadeja\",\"BJ Hodge\",\"MN Samuels\",\"RG Sharma\",\"L Balaji\",\"M Morkel\",\"KA Pollard\",\"F du Plessis\",\"AD Mascarenhas\",\"Shakib Al Hasan\",\"KP Pietersen\",\"JD Ryder\",\"SP Narine\",\"AM Rahane\",\"S Nadeem\",\"BJ Hodge\",\"CH Gayle\",\"G Gambhir\",\"DA Warner\",\"KMDN Kulasekara\",\"CH Gayle\",\"F du Plessis\",\"SC Ganguly\",\"SE Marsh\",\"B Lee\",\"AB de Villiers\",\"V Sehwag\",\"AT Rayudu\",\"CL White\",\"V Sehwag\",\"Mandeep Singh\",\"G Gambhir\",\"V Sehwag\",\"DW Steyn\",\"G Gambhir\",\"KC Sangakkara\",\"P Negi\",\"Azhar Mahmood\",\"SL Malinga\",\"SK Raina\",\"SP Narine\",\"SR Watson\",\"DR Smith\",\"AB de Villiers\",\"JH Kallis\",\"SR Watson\",\"Mandeep Singh\",\"CH Gayle\",\"BW Hilfenhaus\",\"CH Gayle\",\"RG Sharma\",\"BW Hilfenhaus\",\"A Chandila\",\"DJ Hussey\",\"AT Rayudu\",\"MEK Hussey\",\"UT Yadav\",\"SP Narine\",\"AC Gilchrist\",\"CH Gayle\",\"DW Steyn\",\"UT Yadav\",\"Shakib Al Hasan\",\"DW Steyn\",\"DR Smith\",\"YK Pathan\",\"MS Dhoni\",\"M Vijay\",\"MS Bisla\",\"SP Narine\",\"CH Gayle\",\"A Mishra\",\"R Dravid\",\"KA Pollard\",\"M Vohra\",\"GH Vihari\",\"SK Trivedi\",\"KD Karthik\",\"MEK Hussey\",\"CH Gayle\",\"AJ Finch\",\"A Mishra\",\"RG Sharma\",\"RA Jadeja\",\"G Gambhir\",\"JP Faulkner\",\"SPD Smith\",\"MS Gony\",\"V Kohli\",\"A Mishra\",\"AM Rahane\",\"MEK Hussey\",\"GH Vihari\",\"RA Jadeja\",\"R Vinay Kumar\",\"V Sehwag\",\"DA Miller\",\"MEK Hussey\",\"CH Gayle\",\"DA Miller\",\"DR Smith\",\"MS Dhoni\",\"JH Kallis\",\"JP Faulkner\",\"DR Smith\",\"MEK Hussey\",\"DA Warner\",\"SV Samson\",\"RG Sharma\",\"MS Dhoni\",\"I Sharma\",\"DA Warner\",\"SK Raina\",\"AB de Villiers\",\"YK Pathan\",\"DJG Sammy\",\"AC Gilchrist\",\"MG Johnson\",\"AM Rahane\",\"V Kohli\",\"AM Rahane\",\"SR Tendulkar\",\"SK Raina\",\"KK Cooper\",\"G Gambhir\",\"JD Unadkat\",\"MG Johnson\",\"PA Patel\",\"JH Kallis\",\"SR Watson\",\"Harmeet Singh\",\"KA Pollard\",\"MK Pandey\",\"MS Dhoni\",\"AP Tare\",\"DA Miller\",\"A Mishra\",\"Azhar Mahmood\",\"LJ Wright\",\"V Kohli\",\"PA Patel\",\"MEK Hussey\",\"BJ Hodge\",\"Harbhajan Singh\",\"KA Pollard\",\"JH Kallis\",\"YS Chahal\",\"GJ Maxwell\",\"AM Rahane\",\"PA Patel\",\"JP Duminy\",\"GJ Maxwell\",\"SK Raina\",\"GJ Maxwell\",\"RA Jadeja\",\"CA Lynn\",\"AJ Finch\",\"MM Sharma\",\"PV Tambe\",\"Sandeep Sharma\",\"M Vijay\",\"DR Smith\",\"Sandeep Sharma\",\"JP Faulkner\",\"B Kumar\",\"RA Jadeja\",\"CJ Anderson\",\"KK Nair\",\"AB de Villiers\",\"PV Tambe\",\"DR Smith\",\"RG Sharma\",\"G Gambhir\",\"GJ Maxwell\",\"B Kumar\",\"Sandeep Sharma\",\"DW Steyn\",\"DR Smith\",\"G Gambhir\",\"JP Faulkner\",\"AT Rayudu\",\"RA Jadeja\",\"Yuvraj Singh\",\"WP Saha\",\"RV Uthappa\",\"AM Rahane\",\"AB de Villiers\",\"UT Yadav\",\"MEK Hussey\",\"AR Patel\",\"DA Warner\",\"RV Uthappa\",\"LMP Simmons\",\"RV Uthappa\",\"DA Warner\",\"MEK Hussey\",\"SE Marsh\",\"MS Dhoni\",\"YK Pathan\",\"M Vohra\",\"CJ Anderson\",\"UT Yadav\",\"SK Raina\",\"V Sehwag\",\"MK Pandey\",\"M Morkel\",\"A Nehra\",\"JP Faulkner\",\"BB McCullum\",\"CH Gayle\",\"DJ Hooda\",\"GJ Bailey\",\"DA Warner\",\"SPD Smith\",\"AD Russell\",\"MA Agarwal\",\"AM Rahane\",\"A Nehra\",\"JP Duminy\",\"AD Russell\",\"AM Rahane\",\"Harbhajan Singh\",\"UT Yadav\",\"SE Marsh\",\"DA Warner\",\"SK Raina\",\"SS Iyer\",\"MA Starc\",\"SL Malinga\",\"BB McCullum\",\"VR Aaron\",\"TA Boult\",\"PP Chawla\",null,\"DJ Bravo\",\"NM Coulter-Nile\",\"AT Rayudu\",\"Mandeep Singh\",\"DA Warner\",\"LMP Simmons\",\"AM Rahane\",\"SK Raina\",\"UT Yadav\",\"Harbhajan Singh\",\"CH Gayle\",\"EJG Morgan\",\"HH Pandya\",\"AD Russell\",\"MC Henriques\",\"AB de Villiers\",\"RA Jadeja\",\"DA Warner\",\"Z Khan\",\"AR Patel\",\"HH Pandya\",\"V Kohli\",\"P Negi\",\"SR Watson\",null,\"MJ McClenaghan\",\"KA Pollard\",\"AB de Villiers\",\"A Nehra\",\"RG Sharma\",\"AM Rahane\",\"AD Russell\",\"AJ Finch\",\"AB de Villiers\",\"RG Sharma\",\"AJ Finch\",\"A Mishra\",\"G Gambhir\",\"AJ Finch\",\"M Vohra\",\"Q de Kock\",\"DA Warner\",\"RV Uthappa\",\"RG Sharma\",\"B Kumar\",\"AB de Villiers\",\"SV Samson\",\"Mustafizur Rahman\",\"V Kohli\",\"SA Yadav\",\"PA Patel\",\"AB Dinda\",\"CH Morris\",\"RG Sharma\",\"DR Smith\",\"CR Brathwaite\",\"DA Warner\",\"AR Patel\",\"RG Sharma\",\"AD Russell\",\"RR Pant\",\"AD Russell\",\"AM Rahane\",\"B Kumar\",\"V Kohli\",\"MP Stoinis\",\"A Nehra\",\"P Kumar\",\"SR Watson\",\"A Zampa\",\"KH Pandya\",\"CH Morris\",\"MP Stoinis\",\"AB de Villiers\",\"YK Pathan\",\"HM Amla\",\"KH Pandya\",\"V Kohli\",\"AB Dinda\",\"V Kohli\",\"DR Smith\",\"KK Nair\",\"MS Dhoni\",\"SK Raina\",\"YK Pathan\",\"V Kohli\",\"AB de Villiers\",\"MC Henriques\",\"DA Warner\",\"BCJ Cutting\"],\"yaxis\":\"y\",\"type\":\"bar\"}],                        {\"template\":{\"data\":{\"histogram2dcontour\":[{\"type\":\"histogram2dcontour\",\"colorbar\":{\"outlinewidth\":0,\"ticks\":\"\"},\"colorscale\":[[0.0,\"#0d0887\"],[0.1111111111111111,\"#46039f\"],[0.2222222222222222,\"#7201a8\"],[0.3333333333333333,\"#9c179e\"],[0.4444444444444444,\"#bd3786\"],[0.5555555555555556,\"#d8576b\"],[0.6666666666666666,\"#ed7953\"],[0.7777777777777778,\"#fb9f3a\"],[0.8888888888888888,\"#fdca26\"],[1.0,\"#f0f921\"]]}],\"choropleth\":[{\"type\":\"choropleth\",\"colorbar\":{\"outlinewidth\":0,\"ticks\":\"\"}}],\"histogram2d\":[{\"type\":\"histogram2d\",\"colorbar\":{\"outlinewidth\":0,\"ticks\":\"\"},\"colorscale\":[[0.0,\"#0d0887\"],[0.1111111111111111,\"#46039f\"],[0.2222222222222222,\"#7201a8\"],[0.3333333333333333,\"#9c179e\"],[0.4444444444444444,\"#bd3786\"],[0.5555555555555556,\"#d8576b\"],[0.6666666666666666,\"#ed7953\"],[0.7777777777777778,\"#fb9f3a\"],[0.8888888888888888,\"#fdca26\"],[1.0,\"#f0f921\"]]}],\"heatmap\":[{\"type\":\"heatmap\",\"colorbar\":{\"outlinewidth\":0,\"ticks\":\"\"},\"colorscale\":[[0.0,\"#0d0887\"],[0.1111111111111111,\"#46039f\"],[0.2222222222222222,\"#7201a8\"],[0.3333333333333333,\"#9c179e\"],[0.4444444444444444,\"#bd3786\"],[0.5555555555555556,\"#d8576b\"],[0.6666666666666666,\"#ed7953\"],[0.7777777777777778,\"#fb9f3a\"],[0.8888888888888888,\"#fdca26\"],[1.0,\"#f0f921\"]]}],\"heatmapgl\":[{\"type\":\"heatmapgl\",\"colorbar\":{\"outlinewidth\":0,\"ticks\":\"\"},\"colorscale\":[[0.0,\"#0d0887\"],[0.1111111111111111,\"#46039f\"],[0.2222222222222222,\"#7201a8\"],[0.3333333333333333,\"#9c179e\"],[0.4444444444444444,\"#bd3786\"],[0.5555555555555556,\"#d8576b\"],[0.6666666666666666,\"#ed7953\"],[0.7777777777777778,\"#fb9f3a\"],[0.8888888888888888,\"#fdca26\"],[1.0,\"#f0f921\"]]}],\"contourcarpet\":[{\"type\":\"contourcarpet\",\"colorbar\":{\"outlinewidth\":0,\"ticks\":\"\"}}],\"contour\":[{\"type\":\"contour\",\"colorbar\":{\"outlinewidth\":0,\"ticks\":\"\"},\"colorscale\":[[0.0,\"#0d0887\"],[0.1111111111111111,\"#46039f\"],[0.2222222222222222,\"#7201a8\"],[0.3333333333333333,\"#9c179e\"],[0.4444444444444444,\"#bd3786\"],[0.5555555555555556,\"#d8576b\"],[0.6666666666666666,\"#ed7953\"],[0.7777777777777778,\"#fb9f3a\"],[0.8888888888888888,\"#fdca26\"],[1.0,\"#f0f921\"]]}],\"surface\":[{\"type\":\"surface\",\"colorbar\":{\"outlinewidth\":0,\"ticks\":\"\"},\"colorscale\":[[0.0,\"#0d0887\"],[0.1111111111111111,\"#46039f\"],[0.2222222222222222,\"#7201a8\"],[0.3333333333333333,\"#9c179e\"],[0.4444444444444444,\"#bd3786\"],[0.5555555555555556,\"#d8576b\"],[0.6666666666666666,\"#ed7953\"],[0.7777777777777778,\"#fb9f3a\"],[0.8888888888888888,\"#fdca26\"],[1.0,\"#f0f921\"]]}],\"mesh3d\":[{\"type\":\"mesh3d\",\"colorbar\":{\"outlinewidth\":0,\"ticks\":\"\"}}],\"scatter\":[{\"fillpattern\":{\"fillmode\":\"overlay\",\"size\":10,\"solidity\":0.2},\"type\":\"scatter\"}],\"parcoords\":[{\"type\":\"parcoords\",\"line\":{\"colorbar\":{\"outlinewidth\":0,\"ticks\":\"\"}}}],\"scatterpolargl\":[{\"type\":\"scatterpolargl\",\"marker\":{\"colorbar\":{\"outlinewidth\":0,\"ticks\":\"\"}}}],\"bar\":[{\"error_x\":{\"color\":\"#2a3f5f\"},\"error_y\":{\"color\":\"#2a3f5f\"},\"marker\":{\"line\":{\"color\":\"#E5ECF6\",\"width\":0.5},\"pattern\":{\"fillmode\":\"overlay\",\"size\":10,\"solidity\":0.2}},\"type\":\"bar\"}],\"scattergeo\":[{\"type\":\"scattergeo\",\"marker\":{\"colorbar\":{\"outlinewidth\":0,\"ticks\":\"\"}}}],\"scatterpolar\":[{\"type\":\"scatterpolar\",\"marker\":{\"colorbar\":{\"outlinewidth\":0,\"ticks\":\"\"}}}],\"histogram\":[{\"marker\":{\"pattern\":{\"fillmode\":\"overlay\",\"size\":10,\"solidity\":0.2}},\"type\":\"histogram\"}],\"scattergl\":[{\"type\":\"scattergl\",\"marker\":{\"colorbar\":{\"outlinewidth\":0,\"ticks\":\"\"}}}],\"scatter3d\":[{\"type\":\"scatter3d\",\"line\":{\"colorbar\":{\"outlinewidth\":0,\"ticks\":\"\"}},\"marker\":{\"colorbar\":{\"outlinewidth\":0,\"ticks\":\"\"}}}],\"scattermapbox\":[{\"type\":\"scattermapbox\",\"marker\":{\"colorbar\":{\"outlinewidth\":0,\"ticks\":\"\"}}}],\"scatterternary\":[{\"type\":\"scatterternary\",\"marker\":{\"colorbar\":{\"outlinewidth\":0,\"ticks\":\"\"}}}],\"scattercarpet\":[{\"type\":\"scattercarpet\",\"marker\":{\"colorbar\":{\"outlinewidth\":0,\"ticks\":\"\"}}}],\"carpet\":[{\"aaxis\":{\"endlinecolor\":\"#2a3f5f\",\"gridcolor\":\"white\",\"linecolor\":\"white\",\"minorgridcolor\":\"white\",\"startlinecolor\":\"#2a3f5f\"},\"baxis\":{\"endlinecolor\":\"#2a3f5f\",\"gridcolor\":\"white\",\"linecolor\":\"white\",\"minorgridcolor\":\"white\",\"startlinecolor\":\"#2a3f5f\"},\"type\":\"carpet\"}],\"table\":[{\"cells\":{\"fill\":{\"color\":\"#EBF0F8\"},\"line\":{\"color\":\"white\"}},\"header\":{\"fill\":{\"color\":\"#C8D4E3\"},\"line\":{\"color\":\"white\"}},\"type\":\"table\"}],\"barpolar\":[{\"marker\":{\"line\":{\"color\":\"#E5ECF6\",\"width\":0.5},\"pattern\":{\"fillmode\":\"overlay\",\"size\":10,\"solidity\":0.2}},\"type\":\"barpolar\"}],\"pie\":[{\"automargin\":true,\"type\":\"pie\"}]},\"layout\":{\"autotypenumbers\":\"strict\",\"colorway\":[\"#636efa\",\"#EF553B\",\"#00cc96\",\"#ab63fa\",\"#FFA15A\",\"#19d3f3\",\"#FF6692\",\"#B6E880\",\"#FF97FF\",\"#FECB52\"],\"font\":{\"color\":\"#2a3f5f\"},\"hovermode\":\"closest\",\"hoverlabel\":{\"align\":\"left\"},\"paper_bgcolor\":\"white\",\"plot_bgcolor\":\"#E5ECF6\",\"polar\":{\"bgcolor\":\"#E5ECF6\",\"angularaxis\":{\"gridcolor\":\"white\",\"linecolor\":\"white\",\"ticks\":\"\"},\"radialaxis\":{\"gridcolor\":\"white\",\"linecolor\":\"white\",\"ticks\":\"\"}},\"ternary\":{\"bgcolor\":\"#E5ECF6\",\"aaxis\":{\"gridcolor\":\"white\",\"linecolor\":\"white\",\"ticks\":\"\"},\"baxis\":{\"gridcolor\":\"white\",\"linecolor\":\"white\",\"ticks\":\"\"},\"caxis\":{\"gridcolor\":\"white\",\"linecolor\":\"white\",\"ticks\":\"\"}},\"coloraxis\":{\"colorbar\":{\"outlinewidth\":0,\"ticks\":\"\"}},\"colorscale\":{\"sequential\":[[0.0,\"#0d0887\"],[0.1111111111111111,\"#46039f\"],[0.2222222222222222,\"#7201a8\"],[0.3333333333333333,\"#9c179e\"],[0.4444444444444444,\"#bd3786\"],[0.5555555555555556,\"#d8576b\"],[0.6666666666666666,\"#ed7953\"],[0.7777777777777778,\"#fb9f3a\"],[0.8888888888888888,\"#fdca26\"],[1.0,\"#f0f921\"]],\"sequentialminus\":[[0.0,\"#0d0887\"],[0.1111111111111111,\"#46039f\"],[0.2222222222222222,\"#7201a8\"],[0.3333333333333333,\"#9c179e\"],[0.4444444444444444,\"#bd3786\"],[0.5555555555555556,\"#d8576b\"],[0.6666666666666666,\"#ed7953\"],[0.7777777777777778,\"#fb9f3a\"],[0.8888888888888888,\"#fdca26\"],[1.0,\"#f0f921\"]],\"diverging\":[[0,\"#8e0152\"],[0.1,\"#c51b7d\"],[0.2,\"#de77ae\"],[0.3,\"#f1b6da\"],[0.4,\"#fde0ef\"],[0.5,\"#f7f7f7\"],[0.6,\"#e6f5d0\"],[0.7,\"#b8e186\"],[0.8,\"#7fbc41\"],[0.9,\"#4d9221\"],[1,\"#276419\"]]},\"xaxis\":{\"gridcolor\":\"white\",\"linecolor\":\"white\",\"ticks\":\"\",\"title\":{\"standoff\":15},\"zerolinecolor\":\"white\",\"automargin\":true,\"zerolinewidth\":2},\"yaxis\":{\"gridcolor\":\"white\",\"linecolor\":\"white\",\"ticks\":\"\",\"title\":{\"standoff\":15},\"zerolinecolor\":\"white\",\"automargin\":true,\"zerolinewidth\":2},\"scene\":{\"xaxis\":{\"backgroundcolor\":\"#E5ECF6\",\"gridcolor\":\"white\",\"linecolor\":\"white\",\"showbackground\":true,\"ticks\":\"\",\"zerolinecolor\":\"white\",\"gridwidth\":2},\"yaxis\":{\"backgroundcolor\":\"#E5ECF6\",\"gridcolor\":\"white\",\"linecolor\":\"white\",\"showbackground\":true,\"ticks\":\"\",\"zerolinecolor\":\"white\",\"gridwidth\":2},\"zaxis\":{\"backgroundcolor\":\"#E5ECF6\",\"gridcolor\":\"white\",\"linecolor\":\"white\",\"showbackground\":true,\"ticks\":\"\",\"zerolinecolor\":\"white\",\"gridwidth\":2}},\"shapedefaults\":{\"line\":{\"color\":\"#2a3f5f\"}},\"annotationdefaults\":{\"arrowcolor\":\"#2a3f5f\",\"arrowhead\":0,\"arrowwidth\":1},\"geo\":{\"bgcolor\":\"white\",\"landcolor\":\"#E5ECF6\",\"subunitcolor\":\"white\",\"showland\":true,\"showlakes\":true,\"lakecolor\":\"white\"},\"title\":{\"x\":0.05},\"mapbox\":{\"style\":\"light\"}}},\"xaxis\":{\"anchor\":\"y\",\"domain\":[0.0,1.0],\"title\":{\"text\":\"count\"}},\"yaxis\":{\"anchor\":\"x\",\"domain\":[0.0,1.0],\"title\":{\"text\":\"player_of_match\"}},\"legend\":{\"tracegroupgap\":0},\"title\":{\"text\":\"Most Player of the match in IPL-2022\"},\"barmode\":\"relative\",\"height\":2000,\"width\":1000},                        {\"responsive\": true}                    ).then(function(){\n",
       "                            \n",
       "var gd = document.getElementById('66a72c83-f90d-46da-8fb9-07ef0eaed737');\n",
       "var x = new MutationObserver(function (mutations, observer) {{\n",
       "        var display = window.getComputedStyle(gd).display;\n",
       "        if (!display || display === 'none') {{\n",
       "            console.log([gd, 'removed!']);\n",
       "            Plotly.purge(gd);\n",
       "            observer.disconnect();\n",
       "        }}\n",
       "}});\n",
       "\n",
       "// Listen for the removal of the full notebook cells\n",
       "var notebookContainer = gd.closest('#notebook-container');\n",
       "if (notebookContainer) {{\n",
       "    x.observe(notebookContainer, {childList: true});\n",
       "}}\n",
       "\n",
       "// Listen for the clearing of the current output cell\n",
       "var outputEl = gd.closest('.output');\n",
       "if (outputEl) {{\n",
       "    x.observe(outputEl, {childList: true});\n",
       "}}\n",
       "\n",
       "                        })                };                });            </script>        </div>"
      ]
     },
     "metadata": {},
     "output_type": "display_data"
    }
   ],
   "source": [
    "fig=px.bar(data1,y=data1[\"player_of_match\"],title = \"Most Player of the match in IPL-2022\")\n",
    "fig.update_layout(height = 2000,width=1000)\n",
    "fig.show()"
   ]
  },
  {
   "cell_type": "markdown",
   "id": "ac1a8c5b-d22a-43c3-bdfc-e021da4ab1c5",
   "metadata": {},
   "source": [
    "# To find out count of matches of teams who won both toss as well as game"
   ]
  },
  {
   "cell_type": "code",
   "execution_count": 38,
   "id": "7e84a0c6-a816-4513-8063-1910aa7fa940",
   "metadata": {},
   "outputs": [
    {
     "data": {
      "application/vnd.plotly.v1+json": {
       "config": {
        "plotlyServerURL": "https://plot.ly"
       },
       "data": [
        {
         "alignmentgroup": "True",
         "hovertemplate": "Team=%{x}<br>Count=%{marker.color}<extra></extra>",
         "legendgroup": "",
         "marker": {
          "color": [
           42,
           41,
           38,
           34,
           33,
           28,
           26,
           19,
           14,
           6,
           4,
           3,
           3
          ],
          "coloraxis": "coloraxis",
          "pattern": {
           "shape": ""
          }
         },
         "name": "",
         "offsetgroup": "",
         "orientation": "v",
         "showlegend": false,
         "text": [
          42,
          41,
          38,
          34,
          33,
          28,
          26,
          19,
          14,
          6,
          4,
          3,
          3
         ],
         "textposition": "auto",
         "type": "bar",
         "x": [
          "Chennai Super Kings",
          "Mumbai Indians",
          "Kolkata Knight Riders",
          "Rajasthan Royals",
          "Royal Challengers Bangalore",
          "Delhi Daredevils",
          "Kings XI Punjab",
          "Deccan Chargers",
          "Sunrisers Hyderabad",
          "Gujarat Lions",
          "Kochi Tuskers Kerala",
          "Pune Warriors",
          "Rising Pune Supergiants"
         ],
         "xaxis": "x",
         "y": [
          42,
          41,
          38,
          34,
          33,
          28,
          26,
          19,
          14,
          6,
          4,
          3,
          3
         ],
         "yaxis": "y"
        }
       ],
       "layout": {
        "autosize": true,
        "barmode": "relative",
        "coloraxis": {
         "colorbar": {
          "title": {
           "text": "Count"
          }
         },
         "colorscale": [
          [
           0,
           "#0d0887"
          ],
          [
           0.1111111111111111,
           "#46039f"
          ],
          [
           0.2222222222222222,
           "#7201a8"
          ],
          [
           0.3333333333333333,
           "#9c179e"
          ],
          [
           0.4444444444444444,
           "#bd3786"
          ],
          [
           0.5555555555555556,
           "#d8576b"
          ],
          [
           0.6666666666666666,
           "#ed7953"
          ],
          [
           0.7777777777777778,
           "#fb9f3a"
          ],
          [
           0.8888888888888888,
           "#fdca26"
          ],
          [
           1,
           "#f0f921"
          ]
         ]
        },
        "legend": {
         "tracegroupgap": 0
        },
        "showlegend": false,
        "template": {
         "data": {
          "bar": [
           {
            "error_x": {
             "color": "#f2f5fa"
            },
            "error_y": {
             "color": "#f2f5fa"
            },
            "marker": {
             "line": {
              "color": "rgb(17,17,17)",
              "width": 0.5
             },
             "pattern": {
              "fillmode": "overlay",
              "size": 10,
              "solidity": 0.2
             }
            },
            "type": "bar"
           }
          ],
          "barpolar": [
           {
            "marker": {
             "line": {
              "color": "rgb(17,17,17)",
              "width": 0.5
             },
             "pattern": {
              "fillmode": "overlay",
              "size": 10,
              "solidity": 0.2
             }
            },
            "type": "barpolar"
           }
          ],
          "carpet": [
           {
            "aaxis": {
             "endlinecolor": "#A2B1C6",
             "gridcolor": "#506784",
             "linecolor": "#506784",
             "minorgridcolor": "#506784",
             "startlinecolor": "#A2B1C6"
            },
            "baxis": {
             "endlinecolor": "#A2B1C6",
             "gridcolor": "#506784",
             "linecolor": "#506784",
             "minorgridcolor": "#506784",
             "startlinecolor": "#A2B1C6"
            },
            "type": "carpet"
           }
          ],
          "choropleth": [
           {
            "colorbar": {
             "outlinewidth": 0,
             "ticks": ""
            },
            "type": "choropleth"
           }
          ],
          "contour": [
           {
            "colorbar": {
             "outlinewidth": 0,
             "ticks": ""
            },
            "colorscale": [
             [
              0,
              "#0d0887"
             ],
             [
              0.1111111111111111,
              "#46039f"
             ],
             [
              0.2222222222222222,
              "#7201a8"
             ],
             [
              0.3333333333333333,
              "#9c179e"
             ],
             [
              0.4444444444444444,
              "#bd3786"
             ],
             [
              0.5555555555555556,
              "#d8576b"
             ],
             [
              0.6666666666666666,
              "#ed7953"
             ],
             [
              0.7777777777777778,
              "#fb9f3a"
             ],
             [
              0.8888888888888888,
              "#fdca26"
             ],
             [
              1,
              "#f0f921"
             ]
            ],
            "type": "contour"
           }
          ],
          "contourcarpet": [
           {
            "colorbar": {
             "outlinewidth": 0,
             "ticks": ""
            },
            "type": "contourcarpet"
           }
          ],
          "heatmap": [
           {
            "colorbar": {
             "outlinewidth": 0,
             "ticks": ""
            },
            "colorscale": [
             [
              0,
              "#0d0887"
             ],
             [
              0.1111111111111111,
              "#46039f"
             ],
             [
              0.2222222222222222,
              "#7201a8"
             ],
             [
              0.3333333333333333,
              "#9c179e"
             ],
             [
              0.4444444444444444,
              "#bd3786"
             ],
             [
              0.5555555555555556,
              "#d8576b"
             ],
             [
              0.6666666666666666,
              "#ed7953"
             ],
             [
              0.7777777777777778,
              "#fb9f3a"
             ],
             [
              0.8888888888888888,
              "#fdca26"
             ],
             [
              1,
              "#f0f921"
             ]
            ],
            "type": "heatmap"
           }
          ],
          "heatmapgl": [
           {
            "colorbar": {
             "outlinewidth": 0,
             "ticks": ""
            },
            "colorscale": [
             [
              0,
              "#0d0887"
             ],
             [
              0.1111111111111111,
              "#46039f"
             ],
             [
              0.2222222222222222,
              "#7201a8"
             ],
             [
              0.3333333333333333,
              "#9c179e"
             ],
             [
              0.4444444444444444,
              "#bd3786"
             ],
             [
              0.5555555555555556,
              "#d8576b"
             ],
             [
              0.6666666666666666,
              "#ed7953"
             ],
             [
              0.7777777777777778,
              "#fb9f3a"
             ],
             [
              0.8888888888888888,
              "#fdca26"
             ],
             [
              1,
              "#f0f921"
             ]
            ],
            "type": "heatmapgl"
           }
          ],
          "histogram": [
           {
            "marker": {
             "pattern": {
              "fillmode": "overlay",
              "size": 10,
              "solidity": 0.2
             }
            },
            "type": "histogram"
           }
          ],
          "histogram2d": [
           {
            "colorbar": {
             "outlinewidth": 0,
             "ticks": ""
            },
            "colorscale": [
             [
              0,
              "#0d0887"
             ],
             [
              0.1111111111111111,
              "#46039f"
             ],
             [
              0.2222222222222222,
              "#7201a8"
             ],
             [
              0.3333333333333333,
              "#9c179e"
             ],
             [
              0.4444444444444444,
              "#bd3786"
             ],
             [
              0.5555555555555556,
              "#d8576b"
             ],
             [
              0.6666666666666666,
              "#ed7953"
             ],
             [
              0.7777777777777778,
              "#fb9f3a"
             ],
             [
              0.8888888888888888,
              "#fdca26"
             ],
             [
              1,
              "#f0f921"
             ]
            ],
            "type": "histogram2d"
           }
          ],
          "histogram2dcontour": [
           {
            "colorbar": {
             "outlinewidth": 0,
             "ticks": ""
            },
            "colorscale": [
             [
              0,
              "#0d0887"
             ],
             [
              0.1111111111111111,
              "#46039f"
             ],
             [
              0.2222222222222222,
              "#7201a8"
             ],
             [
              0.3333333333333333,
              "#9c179e"
             ],
             [
              0.4444444444444444,
              "#bd3786"
             ],
             [
              0.5555555555555556,
              "#d8576b"
             ],
             [
              0.6666666666666666,
              "#ed7953"
             ],
             [
              0.7777777777777778,
              "#fb9f3a"
             ],
             [
              0.8888888888888888,
              "#fdca26"
             ],
             [
              1,
              "#f0f921"
             ]
            ],
            "type": "histogram2dcontour"
           }
          ],
          "mesh3d": [
           {
            "colorbar": {
             "outlinewidth": 0,
             "ticks": ""
            },
            "type": "mesh3d"
           }
          ],
          "parcoords": [
           {
            "line": {
             "colorbar": {
              "outlinewidth": 0,
              "ticks": ""
             }
            },
            "type": "parcoords"
           }
          ],
          "pie": [
           {
            "automargin": true,
            "type": "pie"
           }
          ],
          "scatter": [
           {
            "marker": {
             "line": {
              "color": "#283442"
             }
            },
            "type": "scatter"
           }
          ],
          "scatter3d": [
           {
            "line": {
             "colorbar": {
              "outlinewidth": 0,
              "ticks": ""
             }
            },
            "marker": {
             "colorbar": {
              "outlinewidth": 0,
              "ticks": ""
             }
            },
            "type": "scatter3d"
           }
          ],
          "scattercarpet": [
           {
            "marker": {
             "colorbar": {
              "outlinewidth": 0,
              "ticks": ""
             }
            },
            "type": "scattercarpet"
           }
          ],
          "scattergeo": [
           {
            "marker": {
             "colorbar": {
              "outlinewidth": 0,
              "ticks": ""
             }
            },
            "type": "scattergeo"
           }
          ],
          "scattergl": [
           {
            "marker": {
             "line": {
              "color": "#283442"
             }
            },
            "type": "scattergl"
           }
          ],
          "scattermapbox": [
           {
            "marker": {
             "colorbar": {
              "outlinewidth": 0,
              "ticks": ""
             }
            },
            "type": "scattermapbox"
           }
          ],
          "scatterpolar": [
           {
            "marker": {
             "colorbar": {
              "outlinewidth": 0,
              "ticks": ""
             }
            },
            "type": "scatterpolar"
           }
          ],
          "scatterpolargl": [
           {
            "marker": {
             "colorbar": {
              "outlinewidth": 0,
              "ticks": ""
             }
            },
            "type": "scatterpolargl"
           }
          ],
          "scatterternary": [
           {
            "marker": {
             "colorbar": {
              "outlinewidth": 0,
              "ticks": ""
             }
            },
            "type": "scatterternary"
           }
          ],
          "surface": [
           {
            "colorbar": {
             "outlinewidth": 0,
             "ticks": ""
            },
            "colorscale": [
             [
              0,
              "#0d0887"
             ],
             [
              0.1111111111111111,
              "#46039f"
             ],
             [
              0.2222222222222222,
              "#7201a8"
             ],
             [
              0.3333333333333333,
              "#9c179e"
             ],
             [
              0.4444444444444444,
              "#bd3786"
             ],
             [
              0.5555555555555556,
              "#d8576b"
             ],
             [
              0.6666666666666666,
              "#ed7953"
             ],
             [
              0.7777777777777778,
              "#fb9f3a"
             ],
             [
              0.8888888888888888,
              "#fdca26"
             ],
             [
              1,
              "#f0f921"
             ]
            ],
            "type": "surface"
           }
          ],
          "table": [
           {
            "cells": {
             "fill": {
              "color": "#506784"
             },
             "line": {
              "color": "rgb(17,17,17)"
             }
            },
            "header": {
             "fill": {
              "color": "#2a3f5f"
             },
             "line": {
              "color": "rgb(17,17,17)"
             }
            },
            "type": "table"
           }
          ]
         },
         "layout": {
          "annotationdefaults": {
           "arrowcolor": "#f2f5fa",
           "arrowhead": 0,
           "arrowwidth": 1
          },
          "autotypenumbers": "strict",
          "coloraxis": {
           "colorbar": {
            "outlinewidth": 0,
            "ticks": ""
           }
          },
          "colorscale": {
           "diverging": [
            [
             0,
             "#8e0152"
            ],
            [
             0.1,
             "#c51b7d"
            ],
            [
             0.2,
             "#de77ae"
            ],
            [
             0.3,
             "#f1b6da"
            ],
            [
             0.4,
             "#fde0ef"
            ],
            [
             0.5,
             "#f7f7f7"
            ],
            [
             0.6,
             "#e6f5d0"
            ],
            [
             0.7,
             "#b8e186"
            ],
            [
             0.8,
             "#7fbc41"
            ],
            [
             0.9,
             "#4d9221"
            ],
            [
             1,
             "#276419"
            ]
           ],
           "sequential": [
            [
             0,
             "#0d0887"
            ],
            [
             0.1111111111111111,
             "#46039f"
            ],
            [
             0.2222222222222222,
             "#7201a8"
            ],
            [
             0.3333333333333333,
             "#9c179e"
            ],
            [
             0.4444444444444444,
             "#bd3786"
            ],
            [
             0.5555555555555556,
             "#d8576b"
            ],
            [
             0.6666666666666666,
             "#ed7953"
            ],
            [
             0.7777777777777778,
             "#fb9f3a"
            ],
            [
             0.8888888888888888,
             "#fdca26"
            ],
            [
             1,
             "#f0f921"
            ]
           ],
           "sequentialminus": [
            [
             0,
             "#0d0887"
            ],
            [
             0.1111111111111111,
             "#46039f"
            ],
            [
             0.2222222222222222,
             "#7201a8"
            ],
            [
             0.3333333333333333,
             "#9c179e"
            ],
            [
             0.4444444444444444,
             "#bd3786"
            ],
            [
             0.5555555555555556,
             "#d8576b"
            ],
            [
             0.6666666666666666,
             "#ed7953"
            ],
            [
             0.7777777777777778,
             "#fb9f3a"
            ],
            [
             0.8888888888888888,
             "#fdca26"
            ],
            [
             1,
             "#f0f921"
            ]
           ]
          },
          "colorway": [
           "#636efa",
           "#EF553B",
           "#00cc96",
           "#ab63fa",
           "#FFA15A",
           "#19d3f3",
           "#FF6692",
           "#B6E880",
           "#FF97FF",
           "#FECB52"
          ],
          "font": {
           "color": "#f2f5fa"
          },
          "geo": {
           "bgcolor": "rgb(17,17,17)",
           "lakecolor": "rgb(17,17,17)",
           "landcolor": "rgb(17,17,17)",
           "showlakes": true,
           "showland": true,
           "subunitcolor": "#506784"
          },
          "hoverlabel": {
           "align": "left"
          },
          "hovermode": "closest",
          "mapbox": {
           "style": "dark"
          },
          "paper_bgcolor": "rgb(17,17,17)",
          "plot_bgcolor": "rgb(17,17,17)",
          "polar": {
           "angularaxis": {
            "gridcolor": "#506784",
            "linecolor": "#506784",
            "ticks": ""
           },
           "bgcolor": "rgb(17,17,17)",
           "radialaxis": {
            "gridcolor": "#506784",
            "linecolor": "#506784",
            "ticks": ""
           }
          },
          "scene": {
           "xaxis": {
            "backgroundcolor": "rgb(17,17,17)",
            "gridcolor": "#506784",
            "gridwidth": 2,
            "linecolor": "#506784",
            "showbackground": true,
            "ticks": "",
            "zerolinecolor": "#C8D4E3"
           },
           "yaxis": {
            "backgroundcolor": "rgb(17,17,17)",
            "gridcolor": "#506784",
            "gridwidth": 2,
            "linecolor": "#506784",
            "showbackground": true,
            "ticks": "",
            "zerolinecolor": "#C8D4E3"
           },
           "zaxis": {
            "backgroundcolor": "rgb(17,17,17)",
            "gridcolor": "#506784",
            "gridwidth": 2,
            "linecolor": "#506784",
            "showbackground": true,
            "ticks": "",
            "zerolinecolor": "#C8D4E3"
           }
          },
          "shapedefaults": {
           "line": {
            "color": "#f2f5fa"
           }
          },
          "sliderdefaults": {
           "bgcolor": "#C8D4E3",
           "bordercolor": "rgb(17,17,17)",
           "borderwidth": 1,
           "tickwidth": 0
          },
          "ternary": {
           "aaxis": {
            "gridcolor": "#506784",
            "linecolor": "#506784",
            "ticks": ""
           },
           "baxis": {
            "gridcolor": "#506784",
            "linecolor": "#506784",
            "ticks": ""
           },
           "bgcolor": "rgb(17,17,17)",
           "caxis": {
            "gridcolor": "#506784",
            "linecolor": "#506784",
            "ticks": ""
           }
          },
          "title": {
           "x": 0.05
          },
          "updatemenudefaults": {
           "bgcolor": "#506784",
           "borderwidth": 0
          },
          "xaxis": {
           "automargin": true,
           "gridcolor": "#283442",
           "linecolor": "#506784",
           "ticks": "",
           "title": {
            "standoff": 15
           },
           "zerolinecolor": "#283442",
           "zerolinewidth": 2
          },
          "yaxis": {
           "automargin": true,
           "gridcolor": "#283442",
           "linecolor": "#506784",
           "ticks": "",
           "title": {
            "standoff": 15
           },
           "zerolinecolor": "#283442",
           "zerolinewidth": 2
          }
         }
        },
        "title": {
         "text": "Teams that Won Both Toss & Match (IPL 2022)"
        },
        "xaxis": {
         "anchor": "y",
         "autorange": true,
         "domain": [
          0,
          1
         ],
         "range": [
          -0.5,
          12.5
         ],
         "title": {
          "text": "Teams"
         },
         "type": "category"
        },
        "yaxis": {
         "anchor": "x",
         "autorange": true,
         "domain": [
          0,
          1
         ],
         "range": [
          0,
          44.21052631578947
         ],
         "title": {
          "text": "Number of Matches"
         },
         "type": "linear"
        }
       }
      },
      "image/png": "[encoded data removed]",
      "text/html": [
       "<div>                            <div id=\"28be1562-ddbd-494e-8f3e-7e4879947fc1\" class=\"plotly-graph-div\" style=\"height:525px; width:100%;\"></div>            <script type=\"text/javascript\">                require([\"plotly\"], function(Plotly) {                    window.PLOTLYENV=window.PLOTLYENV || {};                                    if (document.getElementById(\"28be1562-ddbd-494e-8f3e-7e4879947fc1\")) {                    Plotly.newPlot(                        \"28be1562-ddbd-494e-8f3e-7e4879947fc1\",                        [{\"alignmentgroup\":\"True\",\"hovertemplate\":\"Team=%{x}\\u003cbr\\u003eCount=%{marker.color}\\u003cextra\\u003e\\u003c\\u002fextra\\u003e\",\"legendgroup\":\"\",\"marker\":{\"color\":[42,41,38,34,33,28,26,19,14,6,4,3,3],\"coloraxis\":\"coloraxis\",\"pattern\":{\"shape\":\"\"}},\"name\":\"\",\"offsetgroup\":\"\",\"orientation\":\"v\",\"showlegend\":false,\"text\":[42.0,41.0,38.0,34.0,33.0,28.0,26.0,19.0,14.0,6.0,4.0,3.0,3.0],\"textposition\":\"auto\",\"x\":[\"Chennai Super Kings\",\"Mumbai Indians\",\"Kolkata Knight Riders\",\"Rajasthan Royals\",\"Royal Challengers Bangalore\",\"Delhi Daredevils\",\"Kings XI Punjab\",\"Deccan Chargers\",\"Sunrisers Hyderabad\",\"Gujarat Lions\",\"Kochi Tuskers Kerala\",\"Pune Warriors\",\"Rising Pune Supergiants\"],\"xaxis\":\"x\",\"y\":[42,41,38,34,33,28,26,19,14,6,4,3,3],\"yaxis\":\"y\",\"type\":\"bar\"}],                        {\"template\":{\"data\":{\"barpolar\":[{\"marker\":{\"line\":{\"color\":\"rgb(17,17,17)\",\"width\":0.5},\"pattern\":{\"fillmode\":\"overlay\",\"size\":10,\"solidity\":0.2}},\"type\":\"barpolar\"}],\"bar\":[{\"error_x\":{\"color\":\"#f2f5fa\"},\"error_y\":{\"color\":\"#f2f5fa\"},\"marker\":{\"line\":{\"color\":\"rgb(17,17,17)\",\"width\":0.5},\"pattern\":{\"fillmode\":\"overlay\",\"size\":10,\"solidity\":0.2}},\"type\":\"bar\"}],\"carpet\":[{\"aaxis\":{\"endlinecolor\":\"#A2B1C6\",\"gridcolor\":\"#506784\",\"linecolor\":\"#506784\",\"minorgridcolor\":\"#506784\",\"startlinecolor\":\"#A2B1C6\"},\"baxis\":{\"endlinecolor\":\"#A2B1C6\",\"gridcolor\":\"#506784\",\"linecolor\":\"#506784\",\"minorgridcolor\":\"#506784\",\"startlinecolor\":\"#A2B1C6\"},\"type\":\"carpet\"}],\"choropleth\":[{\"colorbar\":{\"outlinewidth\":0,\"ticks\":\"\"},\"type\":\"choropleth\"}],\"contourcarpet\":[{\"colorbar\":{\"outlinewidth\":0,\"ticks\":\"\"},\"type\":\"contourcarpet\"}],\"contour\":[{\"colorbar\":{\"outlinewidth\":0,\"ticks\":\"\"},\"colorscale\":[[0.0,\"#0d0887\"],[0.1111111111111111,\"#46039f\"],[0.2222222222222222,\"#7201a8\"],[0.3333333333333333,\"#9c179e\"],[0.4444444444444444,\"#bd3786\"],[0.5555555555555556,\"#d8576b\"],[0.6666666666666666,\"#ed7953\"],[0.7777777777777778,\"#fb9f3a\"],[0.8888888888888888,\"#fdca26\"],[1.0,\"#f0f921\"]],\"type\":\"contour\"}],\"heatmapgl\":[{\"colorbar\":{\"outlinewidth\":0,\"ticks\":\"\"},\"colorscale\":[[0.0,\"#0d0887\"],[0.1111111111111111,\"#46039f\"],[0.2222222222222222,\"#7201a8\"],[0.3333333333333333,\"#9c179e\"],[0.4444444444444444,\"#bd3786\"],[0.5555555555555556,\"#d8576b\"],[0.6666666666666666,\"#ed7953\"],[0.7777777777777778,\"#fb9f3a\"],[0.8888888888888888,\"#fdca26\"],[1.0,\"#f0f921\"]],\"type\":\"heatmapgl\"}],\"heatmap\":[{\"colorbar\":{\"outlinewidth\":0,\"ticks\":\"\"},\"colorscale\":[[0.0,\"#0d0887\"],[0.1111111111111111,\"#46039f\"],[0.2222222222222222,\"#7201a8\"],[0.3333333333333333,\"#9c179e\"],[0.4444444444444444,\"#bd3786\"],[0.5555555555555556,\"#d8576b\"],[0.6666666666666666,\"#ed7953\"],[0.7777777777777778,\"#fb9f3a\"],[0.8888888888888888,\"#fdca26\"],[1.0,\"#f0f921\"]],\"type\":\"heatmap\"}],\"histogram2dcontour\":[{\"colorbar\":{\"outlinewidth\":0,\"ticks\":\"\"},\"colorscale\":[[0.0,\"#0d0887\"],[0.1111111111111111,\"#46039f\"],[0.2222222222222222,\"#7201a8\"],[0.3333333333333333,\"#9c179e\"],[0.4444444444444444,\"#bd3786\"],[0.5555555555555556,\"#d8576b\"],[0.6666666666666666,\"#ed7953\"],[0.7777777777777778,\"#fb9f3a\"],[0.8888888888888888,\"#fdca26\"],[1.0,\"#f0f921\"]],\"type\":\"histogram2dcontour\"}],\"histogram2d\":[{\"colorbar\":{\"outlinewidth\":0,\"ticks\":\"\"},\"colorscale\":[[0.0,\"#0d0887\"],[0.1111111111111111,\"#46039f\"],[0.2222222222222222,\"#7201a8\"],[0.3333333333333333,\"#9c179e\"],[0.4444444444444444,\"#bd3786\"],[0.5555555555555556,\"#d8576b\"],[0.6666666666666666,\"#ed7953\"],[0.7777777777777778,\"#fb9f3a\"],[0.8888888888888888,\"#fdca26\"],[1.0,\"#f0f921\"]],\"type\":\"histogram2d\"}],\"histogram\":[{\"marker\":{\"pattern\":{\"fillmode\":\"overlay\",\"size\":10,\"solidity\":0.2}},\"type\":\"histogram\"}],\"mesh3d\":[{\"colorbar\":{\"outlinewidth\":0,\"ticks\":\"\"},\"type\":\"mesh3d\"}],\"parcoords\":[{\"line\":{\"colorbar\":{\"outlinewidth\":0,\"ticks\":\"\"}},\"type\":\"parcoords\"}],\"pie\":[{\"automargin\":true,\"type\":\"pie\"}],\"scatter3d\":[{\"line\":{\"colorbar\":{\"outlinewidth\":0,\"ticks\":\"\"}},\"marker\":{\"colorbar\":{\"outlinewidth\":0,\"ticks\":\"\"}},\"type\":\"scatter3d\"}],\"scattercarpet\":[{\"marker\":{\"colorbar\":{\"outlinewidth\":0,\"ticks\":\"\"}},\"type\":\"scattercarpet\"}],\"scattergeo\":[{\"marker\":{\"colorbar\":{\"outlinewidth\":0,\"ticks\":\"\"}},\"type\":\"scattergeo\"}],\"scattergl\":[{\"marker\":{\"line\":{\"color\":\"#283442\"}},\"type\":\"scattergl\"}],\"scattermapbox\":[{\"marker\":{\"colorbar\":{\"outlinewidth\":0,\"ticks\":\"\"}},\"type\":\"scattermapbox\"}],\"scatterpolargl\":[{\"marker\":{\"colorbar\":{\"outlinewidth\":0,\"ticks\":\"\"}},\"type\":\"scatterpolargl\"}],\"scatterpolar\":[{\"marker\":{\"colorbar\":{\"outlinewidth\":0,\"ticks\":\"\"}},\"type\":\"scatterpolar\"}],\"scatter\":[{\"marker\":{\"line\":{\"color\":\"#283442\"}},\"type\":\"scatter\"}],\"scatterternary\":[{\"marker\":{\"colorbar\":{\"outlinewidth\":0,\"ticks\":\"\"}},\"type\":\"scatterternary\"}],\"surface\":[{\"colorbar\":{\"outlinewidth\":0,\"ticks\":\"\"},\"colorscale\":[[0.0,\"#0d0887\"],[0.1111111111111111,\"#46039f\"],[0.2222222222222222,\"#7201a8\"],[0.3333333333333333,\"#9c179e\"],[0.4444444444444444,\"#bd3786\"],[0.5555555555555556,\"#d8576b\"],[0.6666666666666666,\"#ed7953\"],[0.7777777777777778,\"#fb9f3a\"],[0.8888888888888888,\"#fdca26\"],[1.0,\"#f0f921\"]],\"type\":\"surface\"}],\"table\":[{\"cells\":{\"fill\":{\"color\":\"#506784\"},\"line\":{\"color\":\"rgb(17,17,17)\"}},\"header\":{\"fill\":{\"color\":\"#2a3f5f\"},\"line\":{\"color\":\"rgb(17,17,17)\"}},\"type\":\"table\"}]},\"layout\":{\"annotationdefaults\":{\"arrowcolor\":\"#f2f5fa\",\"arrowhead\":0,\"arrowwidth\":1},\"autotypenumbers\":\"strict\",\"coloraxis\":{\"colorbar\":{\"outlinewidth\":0,\"ticks\":\"\"}},\"colorscale\":{\"diverging\":[[0,\"#8e0152\"],[0.1,\"#c51b7d\"],[0.2,\"#de77ae\"],[0.3,\"#f1b6da\"],[0.4,\"#fde0ef\"],[0.5,\"#f7f7f7\"],[0.6,\"#e6f5d0\"],[0.7,\"#b8e186\"],[0.8,\"#7fbc41\"],[0.9,\"#4d9221\"],[1,\"#276419\"]],\"sequential\":[[0.0,\"#0d0887\"],[0.1111111111111111,\"#46039f\"],[0.2222222222222222,\"#7201a8\"],[0.3333333333333333,\"#9c179e\"],[0.4444444444444444,\"#bd3786\"],[0.5555555555555556,\"#d8576b\"],[0.6666666666666666,\"#ed7953\"],[0.7777777777777778,\"#fb9f3a\"],[0.8888888888888888,\"#fdca26\"],[1.0,\"#f0f921\"]],\"sequentialminus\":[[0.0,\"#0d0887\"],[0.1111111111111111,\"#46039f\"],[0.2222222222222222,\"#7201a8\"],[0.3333333333333333,\"#9c179e\"],[0.4444444444444444,\"#bd3786\"],[0.5555555555555556,\"#d8576b\"],[0.6666666666666666,\"#ed7953\"],[0.7777777777777778,\"#fb9f3a\"],[0.8888888888888888,\"#fdca26\"],[1.0,\"#f0f921\"]]},\"colorway\":[\"#636efa\",\"#EF553B\",\"#00cc96\",\"#ab63fa\",\"#FFA15A\",\"#19d3f3\",\"#FF6692\",\"#B6E880\",\"#FF97FF\",\"#FECB52\"],\"font\":{\"color\":\"#f2f5fa\"},\"geo\":{\"bgcolor\":\"rgb(17,17,17)\",\"lakecolor\":\"rgb(17,17,17)\",\"landcolor\":\"rgb(17,17,17)\",\"showlakes\":true,\"showland\":true,\"subunitcolor\":\"#506784\"},\"hoverlabel\":{\"align\":\"left\"},\"hovermode\":\"closest\",\"mapbox\":{\"style\":\"dark\"},\"paper_bgcolor\":\"rgb(17,17,17)\",\"plot_bgcolor\":\"rgb(17,17,17)\",\"polar\":{\"angularaxis\":{\"gridcolor\":\"#506784\",\"linecolor\":\"#506784\",\"ticks\":\"\"},\"bgcolor\":\"rgb(17,17,17)\",\"radialaxis\":{\"gridcolor\":\"#506784\",\"linecolor\":\"#506784\",\"ticks\":\"\"}},\"scene\":{\"xaxis\":{\"backgroundcolor\":\"rgb(17,17,17)\",\"gridcolor\":\"#506784\",\"gridwidth\":2,\"linecolor\":\"#506784\",\"showbackground\":true,\"ticks\":\"\",\"zerolinecolor\":\"#C8D4E3\"},\"yaxis\":{\"backgroundcolor\":\"rgb(17,17,17)\",\"gridcolor\":\"#506784\",\"gridwidth\":2,\"linecolor\":\"#506784\",\"showbackground\":true,\"ticks\":\"\",\"zerolinecolor\":\"#C8D4E3\"},\"zaxis\":{\"backgroundcolor\":\"rgb(17,17,17)\",\"gridcolor\":\"#506784\",\"gridwidth\":2,\"linecolor\":\"#506784\",\"showbackground\":true,\"ticks\":\"\",\"zerolinecolor\":\"#C8D4E3\"}},\"shapedefaults\":{\"line\":{\"color\":\"#f2f5fa\"}},\"sliderdefaults\":{\"bgcolor\":\"#C8D4E3\",\"bordercolor\":\"rgb(17,17,17)\",\"borderwidth\":1,\"tickwidth\":0},\"ternary\":{\"aaxis\":{\"gridcolor\":\"#506784\",\"linecolor\":\"#506784\",\"ticks\":\"\"},\"baxis\":{\"gridcolor\":\"#506784\",\"linecolor\":\"#506784\",\"ticks\":\"\"},\"bgcolor\":\"rgb(17,17,17)\",\"caxis\":{\"gridcolor\":\"#506784\",\"linecolor\":\"#506784\",\"ticks\":\"\"}},\"title\":{\"x\":0.05},\"updatemenudefaults\":{\"bgcolor\":\"#506784\",\"borderwidth\":0},\"xaxis\":{\"automargin\":true,\"gridcolor\":\"#283442\",\"linecolor\":\"#506784\",\"ticks\":\"\",\"title\":{\"standoff\":15},\"zerolinecolor\":\"#283442\",\"zerolinewidth\":2},\"yaxis\":{\"automargin\":true,\"gridcolor\":\"#283442\",\"linecolor\":\"#506784\",\"ticks\":\"\",\"title\":{\"standoff\":15},\"zerolinecolor\":\"#283442\",\"zerolinewidth\":2}}},\"xaxis\":{\"anchor\":\"y\",\"domain\":[0.0,1.0],\"title\":{\"text\":\"Teams\"}},\"yaxis\":{\"anchor\":\"x\",\"domain\":[0.0,1.0],\"title\":{\"text\":\"Number of Matches\"}},\"coloraxis\":{\"colorbar\":{\"title\":{\"text\":\"Count\"}},\"colorscale\":[[0.0,\"#0d0887\"],[0.1111111111111111,\"#46039f\"],[0.2222222222222222,\"#7201a8\"],[0.3333333333333333,\"#9c179e\"],[0.4444444444444444,\"#bd3786\"],[0.5555555555555556,\"#d8576b\"],[0.6666666666666666,\"#ed7953\"],[0.7777777777777778,\"#fb9f3a\"],[0.8888888888888888,\"#fdca26\"],[1.0,\"#f0f921\"]]},\"legend\":{\"tracegroupgap\":0},\"title\":{\"text\":\"Teams that Won Both Toss & Match (IPL 2022)\"},\"barmode\":\"relative\",\"showlegend\":false},                        {\"responsive\": true}                    ).then(function(){\n",
       "                            \n",
       "var gd = document.getElementById('28be1562-ddbd-494e-8f3e-7e4879947fc1');\n",
       "var x = new MutationObserver(function (mutations, observer) {{\n",
       "        var display = window.getComputedStyle(gd).display;\n",
       "        if (!display || display === 'none') {{\n",
       "            console.log([gd, 'removed!']);\n",
       "            Plotly.purge(gd);\n",
       "            observer.disconnect();\n",
       "        }}\n",
       "}});\n",
       "\n",
       "// Listen for the removal of the full notebook cells\n",
       "var notebookContainer = gd.closest('#notebook-container');\n",
       "if (notebookContainer) {{\n",
       "    x.observe(notebookContainer, {childList: true});\n",
       "}}\n",
       "\n",
       "// Listen for the clearing of the current output cell\n",
       "var outputEl = gd.closest('.output');\n",
       "if (outputEl) {{\n",
       "    x.observe(outputEl, {childList: true});\n",
       "}}\n",
       "\n",
       "                        })                };                });            </script>        </div>"
      ]
     },
     "metadata": {},
     "output_type": "display_data"
    }
   ],
   "source": [
    "toss_and_game_winners=data1[data1[\"toss_winner\"]==data1[\"winner\"]]\n",
    "# Count the number of times each team won both toss and match\n",
    "team_counts = toss_and_game_winners[\"winner\"].value_counts().reset_index()\n",
    "team_counts.columns = [\"Team\", \"Matches Won (Toss & Match)\"]\n",
    "fig = px.bar(team_counts, x=\"Team\", y=\"Matches Won (Toss & Match)\", \n",
    "             title=\"Teams that Won Both Toss & Match (IPL 2022)\",\n",
    "             labels={\"Matches Won (Toss & Match)\": \"Count\"},\n",
    "             color=\"Matches Won (Toss & Match)\",  # Color based on count\n",
    "             text=\"Matches Won (Toss & Match)\")\n",
    "fig.update_layout(xaxis_title=\"Teams\", yaxis_title=\"Number of Matches\",\n",
    "                  template=\"plotly_dark\", showlegend=False)\n",
    "fig.show()"
   ]
  },
  {
   "cell_type": "markdown",
   "id": "e4859b88-2276-4da5-8797-78ab9d9d0a7f",
   "metadata": {},
   "source": [
    "# Finding how many times different teams won by wickets and won by runs using Stacked Bar Graph"
   ]
  },
  {
   "cell_type": "code",
   "execution_count": 52,
   "id": "f95f712b-6ccf-4e93-8507-e92b099dd1de",
   "metadata": {},
   "outputs": [
    {
     "data": {
      "application/vnd.plotly.v1+json": {
       "config": {
        "plotlyServerURL": "https://plot.ly"
       },
       "data": [
        {
         "alignmentgroup": "True",
         "hovertemplate": "Win Type=Win by Runs<br>Team=%{x}<br>Match Count=%{y}<extra></extra>",
         "legendgroup": "Win by Runs",
         "marker": {
          "color": "#0d0887",
          "pattern": {
           "shape": ""
          }
         },
         "name": "Win by Runs",
         "offsetgroup": "Win by Runs",
         "orientation": "v",
         "showlegend": true,
         "textposition": "auto",
         "type": "bar",
         "x": [
          "Chennai Super Kings",
          "Deccan Chargers",
          "Delhi Daredevils",
          "Gujarat Lions",
          "Kings XI Punjab",
          "Kochi Tuskers Kerala",
          "Kolkata Knight Riders",
          "Mumbai Indians",
          "Pune Warriors",
          "Rajasthan Royals",
          "Rising Pune Supergiants",
          "Royal Challengers Bangalore",
          "Sunrisers Hyderabad"
         ],
         "xaxis": "x",
         "y": [
          79,
          29,
          56,
          9,
          63,
          6,
          68,
          80,
          12,
          63,
          5,
          70,
          34
         ],
         "yaxis": "y"
        },
        {
         "alignmentgroup": "True",
         "hovertemplate": "Win Type=Win by Wickets<br>Team=%{x}<br>Match Count=%{y}<extra></extra>",
         "legendgroup": "Win by Wickets",
         "marker": {
          "color": "#46039f",
          "pattern": {
           "shape": ""
          }
         },
         "name": "Win by Wickets",
         "offsetgroup": "Win by Wickets",
         "orientation": "v",
         "showlegend": true,
         "textposition": "auto",
         "type": "bar",
         "x": [
          "Chennai Super Kings",
          "Deccan Chargers",
          "Delhi Daredevils",
          "Gujarat Lions",
          "Kings XI Punjab",
          "Kochi Tuskers Kerala",
          "Kolkata Knight Riders",
          "Mumbai Indians",
          "Pune Warriors",
          "Rajasthan Royals",
          "Rising Pune Supergiants",
          "Royal Challengers Bangalore",
          "Sunrisers Hyderabad"
         ],
         "xaxis": "x",
         "y": [
          79,
          29,
          56,
          9,
          63,
          6,
          68,
          80,
          12,
          63,
          5,
          70,
          34
         ],
         "yaxis": "y"
        }
       ],
       "layout": {
        "barmode": "stack",
        "height": 600,
        "legend": {
         "title": {
          "text": "Win Type"
         },
         "tracegroupgap": 0
        },
        "template": {
         "data": {
          "bar": [
           {
            "error_x": {
             "color": "#2a3f5f"
            },
            "error_y": {
             "color": "#2a3f5f"
            },
            "marker": {
             "line": {
              "color": "#E5ECF6",
              "width": 0.5
             },
             "pattern": {
              "fillmode": "overlay",
              "size": 10,
              "solidity": 0.2
             }
            },
            "type": "bar"
           }
          ],
          "barpolar": [
           {
            "marker": {
             "line": {
              "color": "#E5ECF6",
              "width": 0.5
             },
             "pattern": {
              "fillmode": "overlay",
              "size": 10,
              "solidity": 0.2
             }
            },
            "type": "barpolar"
           }
          ],
          "carpet": [
           {
            "aaxis": {
             "endlinecolor": "#2a3f5f",
             "gridcolor": "white",
             "linecolor": "white",
             "minorgridcolor": "white",
             "startlinecolor": "#2a3f5f"
            },
            "baxis": {
             "endlinecolor": "#2a3f5f",
             "gridcolor": "white",
             "linecolor": "white",
             "minorgridcolor": "white",
             "startlinecolor": "#2a3f5f"
            },
            "type": "carpet"
           }
          ],
          "choropleth": [
           {
            "colorbar": {
             "outlinewidth": 0,
             "ticks": ""
            },
            "type": "choropleth"
           }
          ],
          "contour": [
           {
            "colorbar": {
             "outlinewidth": 0,
             "ticks": ""
            },
            "colorscale": [
             [
              0,
              "#0d0887"
             ],
             [
              0.1111111111111111,
              "#46039f"
             ],
             [
              0.2222222222222222,
              "#7201a8"
             ],
             [
              0.3333333333333333,
              "#9c179e"
             ],
             [
              0.4444444444444444,
              "#bd3786"
             ],
             [
              0.5555555555555556,
              "#d8576b"
             ],
             [
              0.6666666666666666,
              "#ed7953"
             ],
             [
              0.7777777777777778,
              "#fb9f3a"
             ],
             [
              0.8888888888888888,
              "#fdca26"
             ],
             [
              1,
              "#f0f921"
             ]
            ],
            "type": "contour"
           }
          ],
          "contourcarpet": [
           {
            "colorbar": {
             "outlinewidth": 0,
             "ticks": ""
            },
            "type": "contourcarpet"
           }
          ],
          "heatmap": [
           {
            "colorbar": {
             "outlinewidth": 0,
             "ticks": ""
            },
            "colorscale": [
             [
              0,
              "#0d0887"
             ],
             [
              0.1111111111111111,
              "#46039f"
             ],
             [
              0.2222222222222222,
              "#7201a8"
             ],
             [
              0.3333333333333333,
              "#9c179e"
             ],
             [
              0.4444444444444444,
              "#bd3786"
             ],
             [
              0.5555555555555556,
              "#d8576b"
             ],
             [
              0.6666666666666666,
              "#ed7953"
             ],
             [
              0.7777777777777778,
              "#fb9f3a"
             ],
             [
              0.8888888888888888,
              "#fdca26"
             ],
             [
              1,
              "#f0f921"
             ]
            ],
            "type": "heatmap"
           }
          ],
          "heatmapgl": [
           {
            "colorbar": {
             "outlinewidth": 0,
             "ticks": ""
            },
            "colorscale": [
             [
              0,
              "#0d0887"
             ],
             [
              0.1111111111111111,
              "#46039f"
             ],
             [
              0.2222222222222222,
              "#7201a8"
             ],
             [
              0.3333333333333333,
              "#9c179e"
             ],
             [
              0.4444444444444444,
              "#bd3786"
             ],
             [
              0.5555555555555556,
              "#d8576b"
             ],
             [
              0.6666666666666666,
              "#ed7953"
             ],
             [
              0.7777777777777778,
              "#fb9f3a"
             ],
             [
              0.8888888888888888,
              "#fdca26"
             ],
             [
              1,
              "#f0f921"
             ]
            ],
            "type": "heatmapgl"
           }
          ],
          "histogram": [
           {
            "marker": {
             "pattern": {
              "fillmode": "overlay",
              "size": 10,
              "solidity": 0.2
             }
            },
            "type": "histogram"
           }
          ],
          "histogram2d": [
           {
            "colorbar": {
             "outlinewidth": 0,
             "ticks": ""
            },
            "colorscale": [
             [
              0,
              "#0d0887"
             ],
             [
              0.1111111111111111,
              "#46039f"
             ],
             [
              0.2222222222222222,
              "#7201a8"
             ],
             [
              0.3333333333333333,
              "#9c179e"
             ],
             [
              0.4444444444444444,
              "#bd3786"
             ],
             [
              0.5555555555555556,
              "#d8576b"
             ],
             [
              0.6666666666666666,
              "#ed7953"
             ],
             [
              0.7777777777777778,
              "#fb9f3a"
             ],
             [
              0.8888888888888888,
              "#fdca26"
             ],
             [
              1,
              "#f0f921"
             ]
            ],
            "type": "histogram2d"
           }
          ],
          "histogram2dcontour": [
           {
            "colorbar": {
             "outlinewidth": 0,
             "ticks": ""
            },
            "colorscale": [
             [
              0,
              "#0d0887"
             ],
             [
              0.1111111111111111,
              "#46039f"
             ],
             [
              0.2222222222222222,
              "#7201a8"
             ],
             [
              0.3333333333333333,
              "#9c179e"
             ],
             [
              0.4444444444444444,
              "#bd3786"
             ],
             [
              0.5555555555555556,
              "#d8576b"
             ],
             [
              0.6666666666666666,
              "#ed7953"
             ],
             [
              0.7777777777777778,
              "#fb9f3a"
             ],
             [
              0.8888888888888888,
              "#fdca26"
             ],
             [
              1,
              "#f0f921"
             ]
            ],
            "type": "histogram2dcontour"
           }
          ],
          "mesh3d": [
           {
            "colorbar": {
             "outlinewidth": 0,
             "ticks": ""
            },
            "type": "mesh3d"
           }
          ],
          "parcoords": [
           {
            "line": {
             "colorbar": {
              "outlinewidth": 0,
              "ticks": ""
             }
            },
            "type": "parcoords"
           }
          ],
          "pie": [
           {
            "automargin": true,
            "type": "pie"
           }
          ],
          "scatter": [
           {
            "fillpattern": {
             "fillmode": "overlay",
             "size": 10,
             "solidity": 0.2
            },
            "type": "scatter"
           }
          ],
          "scatter3d": [
           {
            "line": {
             "colorbar": {
              "outlinewidth": 0,
              "ticks": ""
             }
            },
            "marker": {
             "colorbar": {
              "outlinewidth": 0,
              "ticks": ""
             }
            },
            "type": "scatter3d"
           }
          ],
          "scattercarpet": [
           {
            "marker": {
             "colorbar": {
              "outlinewidth": 0,
              "ticks": ""
             }
            },
            "type": "scattercarpet"
           }
          ],
          "scattergeo": [
           {
            "marker": {
             "colorbar": {
              "outlinewidth": 0,
              "ticks": ""
             }
            },
            "type": "scattergeo"
           }
          ],
          "scattergl": [
           {
            "marker": {
             "colorbar": {
              "outlinewidth": 0,
              "ticks": ""
             }
            },
            "type": "scattergl"
           }
          ],
          "scattermapbox": [
           {
            "marker": {
             "colorbar": {
              "outlinewidth": 0,
              "ticks": ""
             }
            },
            "type": "scattermapbox"
           }
          ],
          "scatterpolar": [
           {
            "marker": {
             "colorbar": {
              "outlinewidth": 0,
              "ticks": ""
             }
            },
            "type": "scatterpolar"
           }
          ],
          "scatterpolargl": [
           {
            "marker": {
             "colorbar": {
              "outlinewidth": 0,
              "ticks": ""
             }
            },
            "type": "scatterpolargl"
           }
          ],
          "scatterternary": [
           {
            "marker": {
             "colorbar": {
              "outlinewidth": 0,
              "ticks": ""
             }
            },
            "type": "scatterternary"
           }
          ],
          "surface": [
           {
            "colorbar": {
             "outlinewidth": 0,
             "ticks": ""
            },
            "colorscale": [
             [
              0,
              "#0d0887"
             ],
             [
              0.1111111111111111,
              "#46039f"
             ],
             [
              0.2222222222222222,
              "#7201a8"
             ],
             [
              0.3333333333333333,
              "#9c179e"
             ],
             [
              0.4444444444444444,
              "#bd3786"
             ],
             [
              0.5555555555555556,
              "#d8576b"
             ],
             [
              0.6666666666666666,
              "#ed7953"
             ],
             [
              0.7777777777777778,
              "#fb9f3a"
             ],
             [
              0.8888888888888888,
              "#fdca26"
             ],
             [
              1,
              "#f0f921"
             ]
            ],
            "type": "surface"
           }
          ],
          "table": [
           {
            "cells": {
             "fill": {
              "color": "#EBF0F8"
             },
             "line": {
              "color": "white"
             }
            },
            "header": {
             "fill": {
              "color": "#C8D4E3"
             },
             "line": {
              "color": "white"
             }
            },
            "type": "table"
           }
          ]
         },
         "layout": {
          "annotationdefaults": {
           "arrowcolor": "#2a3f5f",
           "arrowhead": 0,
           "arrowwidth": 1
          },
          "autotypenumbers": "strict",
          "coloraxis": {
           "colorbar": {
            "outlinewidth": 0,
            "ticks": ""
           }
          },
          "colorscale": {
           "diverging": [
            [
             0,
             "#8e0152"
            ],
            [
             0.1,
             "#c51b7d"
            ],
            [
             0.2,
             "#de77ae"
            ],
            [
             0.3,
             "#f1b6da"
            ],
            [
             0.4,
             "#fde0ef"
            ],
            [
             0.5,
             "#f7f7f7"
            ],
            [
             0.6,
             "#e6f5d0"
            ],
            [
             0.7,
             "#b8e186"
            ],
            [
             0.8,
             "#7fbc41"
            ],
            [
             0.9,
             "#4d9221"
            ],
            [
             1,
             "#276419"
            ]
           ],
           "sequential": [
            [
             0,
             "#0d0887"
            ],
            [
             0.1111111111111111,
             "#46039f"
            ],
            [
             0.2222222222222222,
             "#7201a8"
            ],
            [
             0.3333333333333333,
             "#9c179e"
            ],
            [
             0.4444444444444444,
             "#bd3786"
            ],
            [
             0.5555555555555556,
             "#d8576b"
            ],
            [
             0.6666666666666666,
             "#ed7953"
            ],
            [
             0.7777777777777778,
             "#fb9f3a"
            ],
            [
             0.8888888888888888,
             "#fdca26"
            ],
            [
             1,
             "#f0f921"
            ]
           ],
           "sequentialminus": [
            [
             0,
             "#0d0887"
            ],
            [
             0.1111111111111111,
             "#46039f"
            ],
            [
             0.2222222222222222,
             "#7201a8"
            ],
            [
             0.3333333333333333,
             "#9c179e"
            ],
            [
             0.4444444444444444,
             "#bd3786"
            ],
            [
             0.5555555555555556,
             "#d8576b"
            ],
            [
             0.6666666666666666,
             "#ed7953"
            ],
            [
             0.7777777777777778,
             "#fb9f3a"
            ],
            [
             0.8888888888888888,
             "#fdca26"
            ],
            [
             1,
             "#f0f921"
            ]
           ]
          },
          "colorway": [
           "#636efa",
           "#EF553B",
           "#00cc96",
           "#ab63fa",
           "#FFA15A",
           "#19d3f3",
           "#FF6692",
           "#B6E880",
           "#FF97FF",
           "#FECB52"
          ],
          "font": {
           "color": "#2a3f5f"
          },
          "geo": {
           "bgcolor": "white",
           "lakecolor": "white",
           "landcolor": "#E5ECF6",
           "showlakes": true,
           "showland": true,
           "subunitcolor": "white"
          },
          "hoverlabel": {
           "align": "left"
          },
          "hovermode": "closest",
          "mapbox": {
           "style": "light"
          },
          "paper_bgcolor": "white",
          "plot_bgcolor": "#E5ECF6",
          "polar": {
           "angularaxis": {
            "gridcolor": "white",
            "linecolor": "white",
            "ticks": ""
           },
           "bgcolor": "#E5ECF6",
           "radialaxis": {
            "gridcolor": "white",
            "linecolor": "white",
            "ticks": ""
           }
          },
          "scene": {
           "xaxis": {
            "backgroundcolor": "#E5ECF6",
            "gridcolor": "white",
            "gridwidth": 2,
            "linecolor": "white",
            "showbackground": true,
            "ticks": "",
            "zerolinecolor": "white"
           },
           "yaxis": {
            "backgroundcolor": "#E5ECF6",
            "gridcolor": "white",
            "gridwidth": 2,
            "linecolor": "white",
            "showbackground": true,
            "ticks": "",
            "zerolinecolor": "white"
           },
           "zaxis": {
            "backgroundcolor": "#E5ECF6",
            "gridcolor": "white",
            "gridwidth": 2,
            "linecolor": "white",
            "showbackground": true,
            "ticks": "",
            "zerolinecolor": "white"
           }
          },
          "shapedefaults": {
           "line": {
            "color": "#2a3f5f"
           }
          },
          "ternary": {
           "aaxis": {
            "gridcolor": "white",
            "linecolor": "white",
            "ticks": ""
           },
           "baxis": {
            "gridcolor": "white",
            "linecolor": "white",
            "ticks": ""
           },
           "bgcolor": "#E5ECF6",
           "caxis": {
            "gridcolor": "white",
            "linecolor": "white",
            "ticks": ""
           }
          },
          "title": {
           "x": 0.05
          },
          "xaxis": {
           "automargin": true,
           "gridcolor": "white",
           "linecolor": "white",
           "ticks": "",
           "title": {
            "standoff": 15
           },
           "zerolinecolor": "white",
           "zerolinewidth": 2
          },
          "yaxis": {
           "automargin": true,
           "gridcolor": "white",
           "linecolor": "white",
           "ticks": "",
           "title": {
            "standoff": 15
           },
           "zerolinecolor": "white",
           "zerolinewidth": 2
          }
         }
        },
        "title": {
         "text": "Teams Winning by Runs vs Wickets (IPL 2022)"
        },
        "width": 900,
        "xaxis": {
         "anchor": "y",
         "autorange": true,
         "domain": [
          0,
          1
         ],
         "range": [
          -0.5,
          12.5
         ],
         "title": {
          "text": "Team"
         },
         "type": "category"
        },
        "yaxis": {
         "anchor": "x",
         "autorange": true,
         "domain": [
          0,
          1
         ],
         "range": [
          0,
          168.42105263157896
         ],
         "title": {
          "text": "Match Count"
         },
         "type": "linear"
        }
       }
      },
      "image/png": "[encoded data removed]",
      "text/html": [
       "<div>                            <div id=\"30851324-9ec1-4886-aa6b-2a32a8a03e01\" class=\"plotly-graph-div\" style=\"height:600px; width:900px;\"></div>            <script type=\"text/javascript\">                require([\"plotly\"], function(Plotly) {                    window.PLOTLYENV=window.PLOTLYENV || {};                                    if (document.getElementById(\"30851324-9ec1-4886-aa6b-2a32a8a03e01\")) {                    Plotly.newPlot(                        \"30851324-9ec1-4886-aa6b-2a32a8a03e01\",                        [{\"alignmentgroup\":\"True\",\"hovertemplate\":\"Win Type=Win by Runs\\u003cbr\\u003eTeam=%{x}\\u003cbr\\u003eMatch Count=%{y}\\u003cextra\\u003e\\u003c\\u002fextra\\u003e\",\"legendgroup\":\"Win by Runs\",\"marker\":{\"color\":\"#0d0887\",\"pattern\":{\"shape\":\"\"}},\"name\":\"Win by Runs\",\"offsetgroup\":\"Win by Runs\",\"orientation\":\"v\",\"showlegend\":true,\"textposition\":\"auto\",\"x\":[\"Chennai Super Kings\",\"Deccan Chargers\",\"Delhi Daredevils\",\"Gujarat Lions\",\"Kings XI Punjab\",\"Kochi Tuskers Kerala\",\"Kolkata Knight Riders\",\"Mumbai Indians\",\"Pune Warriors\",\"Rajasthan Royals\",\"Rising Pune Supergiants\",\"Royal Challengers Bangalore\",\"Sunrisers Hyderabad\"],\"xaxis\":\"x\",\"y\":[79,29,56,9,63,6,68,80,12,63,5,70,34],\"yaxis\":\"y\",\"type\":\"bar\"},{\"alignmentgroup\":\"True\",\"hovertemplate\":\"Win Type=Win by Wickets\\u003cbr\\u003eTeam=%{x}\\u003cbr\\u003eMatch Count=%{y}\\u003cextra\\u003e\\u003c\\u002fextra\\u003e\",\"legendgroup\":\"Win by Wickets\",\"marker\":{\"color\":\"#46039f\",\"pattern\":{\"shape\":\"\"}},\"name\":\"Win by Wickets\",\"offsetgroup\":\"Win by Wickets\",\"orientation\":\"v\",\"showlegend\":true,\"textposition\":\"auto\",\"x\":[\"Chennai Super Kings\",\"Deccan Chargers\",\"Delhi Daredevils\",\"Gujarat Lions\",\"Kings XI Punjab\",\"Kochi Tuskers Kerala\",\"Kolkata Knight Riders\",\"Mumbai Indians\",\"Pune Warriors\",\"Rajasthan Royals\",\"Rising Pune Supergiants\",\"Royal Challengers Bangalore\",\"Sunrisers Hyderabad\"],\"xaxis\":\"x\",\"y\":[79,29,56,9,63,6,68,80,12,63,5,70,34],\"yaxis\":\"y\",\"type\":\"bar\"}],                        {\"template\":{\"data\":{\"histogram2dcontour\":[{\"type\":\"histogram2dcontour\",\"colorbar\":{\"outlinewidth\":0,\"ticks\":\"\"},\"colorscale\":[[0.0,\"#0d0887\"],[0.1111111111111111,\"#46039f\"],[0.2222222222222222,\"#7201a8\"],[0.3333333333333333,\"#9c179e\"],[0.4444444444444444,\"#bd3786\"],[0.5555555555555556,\"#d8576b\"],[0.6666666666666666,\"#ed7953\"],[0.7777777777777778,\"#fb9f3a\"],[0.8888888888888888,\"#fdca26\"],[1.0,\"#f0f921\"]]}],\"choropleth\":[{\"type\":\"choropleth\",\"colorbar\":{\"outlinewidth\":0,\"ticks\":\"\"}}],\"histogram2d\":[{\"type\":\"histogram2d\",\"colorbar\":{\"outlinewidth\":0,\"ticks\":\"\"},\"colorscale\":[[0.0,\"#0d0887\"],[0.1111111111111111,\"#46039f\"],[0.2222222222222222,\"#7201a8\"],[0.3333333333333333,\"#9c179e\"],[0.4444444444444444,\"#bd3786\"],[0.5555555555555556,\"#d8576b\"],[0.6666666666666666,\"#ed7953\"],[0.7777777777777778,\"#fb9f3a\"],[0.8888888888888888,\"#fdca26\"],[1.0,\"#f0f921\"]]}],\"heatmap\":[{\"type\":\"heatmap\",\"colorbar\":{\"outlinewidth\":0,\"ticks\":\"\"},\"colorscale\":[[0.0,\"#0d0887\"],[0.1111111111111111,\"#46039f\"],[0.2222222222222222,\"#7201a8\"],[0.3333333333333333,\"#9c179e\"],[0.4444444444444444,\"#bd3786\"],[0.5555555555555556,\"#d8576b\"],[0.6666666666666666,\"#ed7953\"],[0.7777777777777778,\"#fb9f3a\"],[0.8888888888888888,\"#fdca26\"],[1.0,\"#f0f921\"]]}],\"heatmapgl\":[{\"type\":\"heatmapgl\",\"colorbar\":{\"outlinewidth\":0,\"ticks\":\"\"},\"colorscale\":[[0.0,\"#0d0887\"],[0.1111111111111111,\"#46039f\"],[0.2222222222222222,\"#7201a8\"],[0.3333333333333333,\"#9c179e\"],[0.4444444444444444,\"#bd3786\"],[0.5555555555555556,\"#d8576b\"],[0.6666666666666666,\"#ed7953\"],[0.7777777777777778,\"#fb9f3a\"],[0.8888888888888888,\"#fdca26\"],[1.0,\"#f0f921\"]]}],\"contourcarpet\":[{\"type\":\"contourcarpet\",\"colorbar\":{\"outlinewidth\":0,\"ticks\":\"\"}}],\"contour\":[{\"type\":\"contour\",\"colorbar\":{\"outlinewidth\":0,\"ticks\":\"\"},\"colorscale\":[[0.0,\"#0d0887\"],[0.1111111111111111,\"#46039f\"],[0.2222222222222222,\"#7201a8\"],[0.3333333333333333,\"#9c179e\"],[0.4444444444444444,\"#bd3786\"],[0.5555555555555556,\"#d8576b\"],[0.6666666666666666,\"#ed7953\"],[0.7777777777777778,\"#fb9f3a\"],[0.8888888888888888,\"#fdca26\"],[1.0,\"#f0f921\"]]}],\"surface\":[{\"type\":\"surface\",\"colorbar\":{\"outlinewidth\":0,\"ticks\":\"\"},\"colorscale\":[[0.0,\"#0d0887\"],[0.1111111111111111,\"#46039f\"],[0.2222222222222222,\"#7201a8\"],[0.3333333333333333,\"#9c179e\"],[0.4444444444444444,\"#bd3786\"],[0.5555555555555556,\"#d8576b\"],[0.6666666666666666,\"#ed7953\"],[0.7777777777777778,\"#fb9f3a\"],[0.8888888888888888,\"#fdca26\"],[1.0,\"#f0f921\"]]}],\"mesh3d\":[{\"type\":\"mesh3d\",\"colorbar\":{\"outlinewidth\":0,\"ticks\":\"\"}}],\"scatter\":[{\"fillpattern\":{\"fillmode\":\"overlay\",\"size\":10,\"solidity\":0.2},\"type\":\"scatter\"}],\"parcoords\":[{\"type\":\"parcoords\",\"line\":{\"colorbar\":{\"outlinewidth\":0,\"ticks\":\"\"}}}],\"scatterpolargl\":[{\"type\":\"scatterpolargl\",\"marker\":{\"colorbar\":{\"outlinewidth\":0,\"ticks\":\"\"}}}],\"bar\":[{\"error_x\":{\"color\":\"#2a3f5f\"},\"error_y\":{\"color\":\"#2a3f5f\"},\"marker\":{\"line\":{\"color\":\"#E5ECF6\",\"width\":0.5},\"pattern\":{\"fillmode\":\"overlay\",\"size\":10,\"solidity\":0.2}},\"type\":\"bar\"}],\"scattergeo\":[{\"type\":\"scattergeo\",\"marker\":{\"colorbar\":{\"outlinewidth\":0,\"ticks\":\"\"}}}],\"scatterpolar\":[{\"type\":\"scatterpolar\",\"marker\":{\"colorbar\":{\"outlinewidth\":0,\"ticks\":\"\"}}}],\"histogram\":[{\"marker\":{\"pattern\":{\"fillmode\":\"overlay\",\"size\":10,\"solidity\":0.2}},\"type\":\"histogram\"}],\"scattergl\":[{\"type\":\"scattergl\",\"marker\":{\"colorbar\":{\"outlinewidth\":0,\"ticks\":\"\"}}}],\"scatter3d\":[{\"type\":\"scatter3d\",\"line\":{\"colorbar\":{\"outlinewidth\":0,\"ticks\":\"\"}},\"marker\":{\"colorbar\":{\"outlinewidth\":0,\"ticks\":\"\"}}}],\"scattermapbox\":[{\"type\":\"scattermapbox\",\"marker\":{\"colorbar\":{\"outlinewidth\":0,\"ticks\":\"\"}}}],\"scatterternary\":[{\"type\":\"scatterternary\",\"marker\":{\"colorbar\":{\"outlinewidth\":0,\"ticks\":\"\"}}}],\"scattercarpet\":[{\"type\":\"scattercarpet\",\"marker\":{\"colorbar\":{\"outlinewidth\":0,\"ticks\":\"\"}}}],\"carpet\":[{\"aaxis\":{\"endlinecolor\":\"#2a3f5f\",\"gridcolor\":\"white\",\"linecolor\":\"white\",\"minorgridcolor\":\"white\",\"startlinecolor\":\"#2a3f5f\"},\"baxis\":{\"endlinecolor\":\"#2a3f5f\",\"gridcolor\":\"white\",\"linecolor\":\"white\",\"minorgridcolor\":\"white\",\"startlinecolor\":\"#2a3f5f\"},\"type\":\"carpet\"}],\"table\":[{\"cells\":{\"fill\":{\"color\":\"#EBF0F8\"},\"line\":{\"color\":\"white\"}},\"header\":{\"fill\":{\"color\":\"#C8D4E3\"},\"line\":{\"color\":\"white\"}},\"type\":\"table\"}],\"barpolar\":[{\"marker\":{\"line\":{\"color\":\"#E5ECF6\",\"width\":0.5},\"pattern\":{\"fillmode\":\"overlay\",\"size\":10,\"solidity\":0.2}},\"type\":\"barpolar\"}],\"pie\":[{\"automargin\":true,\"type\":\"pie\"}]},\"layout\":{\"autotypenumbers\":\"strict\",\"colorway\":[\"#636efa\",\"#EF553B\",\"#00cc96\",\"#ab63fa\",\"#FFA15A\",\"#19d3f3\",\"#FF6692\",\"#B6E880\",\"#FF97FF\",\"#FECB52\"],\"font\":{\"color\":\"#2a3f5f\"},\"hovermode\":\"closest\",\"hoverlabel\":{\"align\":\"left\"},\"paper_bgcolor\":\"white\",\"plot_bgcolor\":\"#E5ECF6\",\"polar\":{\"bgcolor\":\"#E5ECF6\",\"angularaxis\":{\"gridcolor\":\"white\",\"linecolor\":\"white\",\"ticks\":\"\"},\"radialaxis\":{\"gridcolor\":\"white\",\"linecolor\":\"white\",\"ticks\":\"\"}},\"ternary\":{\"bgcolor\":\"#E5ECF6\",\"aaxis\":{\"gridcolor\":\"white\",\"linecolor\":\"white\",\"ticks\":\"\"},\"baxis\":{\"gridcolor\":\"white\",\"linecolor\":\"white\",\"ticks\":\"\"},\"caxis\":{\"gridcolor\":\"white\",\"linecolor\":\"white\",\"ticks\":\"\"}},\"coloraxis\":{\"colorbar\":{\"outlinewidth\":0,\"ticks\":\"\"}},\"colorscale\":{\"sequential\":[[0.0,\"#0d0887\"],[0.1111111111111111,\"#46039f\"],[0.2222222222222222,\"#7201a8\"],[0.3333333333333333,\"#9c179e\"],[0.4444444444444444,\"#bd3786\"],[0.5555555555555556,\"#d8576b\"],[0.6666666666666666,\"#ed7953\"],[0.7777777777777778,\"#fb9f3a\"],[0.8888888888888888,\"#fdca26\"],[1.0,\"#f0f921\"]],\"sequentialminus\":[[0.0,\"#0d0887\"],[0.1111111111111111,\"#46039f\"],[0.2222222222222222,\"#7201a8\"],[0.3333333333333333,\"#9c179e\"],[0.4444444444444444,\"#bd3786\"],[0.5555555555555556,\"#d8576b\"],[0.6666666666666666,\"#ed7953\"],[0.7777777777777778,\"#fb9f3a\"],[0.8888888888888888,\"#fdca26\"],[1.0,\"#f0f921\"]],\"diverging\":[[0,\"#8e0152\"],[0.1,\"#c51b7d\"],[0.2,\"#de77ae\"],[0.3,\"#f1b6da\"],[0.4,\"#fde0ef\"],[0.5,\"#f7f7f7\"],[0.6,\"#e6f5d0\"],[0.7,\"#b8e186\"],[0.8,\"#7fbc41\"],[0.9,\"#4d9221\"],[1,\"#276419\"]]},\"xaxis\":{\"gridcolor\":\"white\",\"linecolor\":\"white\",\"ticks\":\"\",\"title\":{\"standoff\":15},\"zerolinecolor\":\"white\",\"automargin\":true,\"zerolinewidth\":2},\"yaxis\":{\"gridcolor\":\"white\",\"linecolor\":\"white\",\"ticks\":\"\",\"title\":{\"standoff\":15},\"zerolinecolor\":\"white\",\"automargin\":true,\"zerolinewidth\":2},\"scene\":{\"xaxis\":{\"backgroundcolor\":\"#E5ECF6\",\"gridcolor\":\"white\",\"linecolor\":\"white\",\"showbackground\":true,\"ticks\":\"\",\"zerolinecolor\":\"white\",\"gridwidth\":2},\"yaxis\":{\"backgroundcolor\":\"#E5ECF6\",\"gridcolor\":\"white\",\"linecolor\":\"white\",\"showbackground\":true,\"ticks\":\"\",\"zerolinecolor\":\"white\",\"gridwidth\":2},\"zaxis\":{\"backgroundcolor\":\"#E5ECF6\",\"gridcolor\":\"white\",\"linecolor\":\"white\",\"showbackground\":true,\"ticks\":\"\",\"zerolinecolor\":\"white\",\"gridwidth\":2}},\"shapedefaults\":{\"line\":{\"color\":\"#2a3f5f\"}},\"annotationdefaults\":{\"arrowcolor\":\"#2a3f5f\",\"arrowhead\":0,\"arrowwidth\":1},\"geo\":{\"bgcolor\":\"white\",\"landcolor\":\"#E5ECF6\",\"subunitcolor\":\"white\",\"showland\":true,\"showlakes\":true,\"lakecolor\":\"white\"},\"title\":{\"x\":0.05},\"mapbox\":{\"style\":\"light\"}}},\"xaxis\":{\"anchor\":\"y\",\"domain\":[0.0,1.0],\"title\":{\"text\":\"Team\"}},\"yaxis\":{\"anchor\":\"x\",\"domain\":[0.0,1.0],\"title\":{\"text\":\"Match Count\"}},\"legend\":{\"title\":{\"text\":\"Win Type\"},\"tracegroupgap\":0},\"title\":{\"text\":\"Teams Winning by Runs vs Wickets (IPL 2022)\"},\"barmode\":\"stack\",\"height\":600,\"width\":900},                        {\"responsive\": true}                    ).then(function(){\n",
       "                            \n",
       "var gd = document.getElementById('30851324-9ec1-4886-aa6b-2a32a8a03e01');\n",
       "var x = new MutationObserver(function (mutations, observer) {{\n",
       "        var display = window.getComputedStyle(gd).display;\n",
       "        if (!display || display === 'none') {{\n",
       "            console.log([gd, 'removed!']);\n",
       "            Plotly.purge(gd);\n",
       "            observer.disconnect();\n",
       "        }}\n",
       "}});\n",
       "\n",
       "// Listen for the removal of the full notebook cells\n",
       "var notebookContainer = gd.closest('#notebook-container');\n",
       "if (notebookContainer) {{\n",
       "    x.observe(notebookContainer, {childList: true});\n",
       "}}\n",
       "\n",
       "// Listen for the clearing of the current output cell\n",
       "var outputEl = gd.closest('.output');\n",
       "if (outputEl) {{\n",
       "    x.observe(outputEl, {childList: true});\n",
       "}}\n",
       "\n",
       "                        })                };                });            </script>        </div>"
      ]
     },
     "metadata": {},
     "output_type": "display_data"
    }
   ],
   "source": [
    "import plotly.colors\n",
    "wins_by_runs = data1.groupby(\"winner\")[\"win_by_runs\"].count().reset_index()\n",
    "wins_by_wickets = data1.groupby(\"winner\")[\"win_by_wickets\"].count().reset_index()\n",
    "wins_by_runs.columns = [\"Team\", \"Win by Runs\"]\n",
    "wins_by_wickets.columns = [\"Team\", \"Win by Wickets\"]\n",
    "team_wins = pd.merge(wins_by_runs, wins_by_wickets, on=\"Team\")\n",
    "color_palette = plotly.colors.sequential.Plasma\n",
    "fig = px.bar(team_wins, x=\"Team\", y=[\"Win by Runs\", \"Win by Wickets\"],\n",
    "             title=\"Teams Winning by Runs vs Wickets (IPL 2022)\",\n",
    "             labels={\"value\": \"Match Count\", \"variable\": \"Win Type\"},\n",
    "             barmode=\"stack\",  # Stacked bar chart\n",
    "             color_discrete_sequence=color_palette) \n",
    "fig.update_layout(height=600,width=900)\n",
    "fig.show()"
   ]
  },
  {
   "cell_type": "code",
   "execution_count": null,
   "id": "26c1868d-5e5b-41cc-b4a1-2ffee877ab49",
   "metadata": {},
   "outputs": [],
   "source": []
  }
 ],
 "metadata": {
  "kernelspec": {
   "display_name": "Python 3 (ipykernel)",
   "language": "python",
   "name": "python3"
  },
  "language_info": {
   "codemirror_mode": {
    "name": "ipython",
    "version": 3
   },
   "file_extension": ".py",
   "mimetype": "text/x-python",
   "name": "python",
   "nbconvert_exporter": "python",
   "pygments_lexer": "ipython3",
   "version": "3.12.7"
  }
 },
 "nbformat": 4,
 "nbformat_minor": 5
}
